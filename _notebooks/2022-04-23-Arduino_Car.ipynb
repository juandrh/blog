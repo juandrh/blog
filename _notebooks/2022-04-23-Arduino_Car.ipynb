{
 "cells": [
  {
   "cell_type": "markdown",
   "id": "42599432",
   "metadata": {},
   "source": [
    "# \"How to build a car with arduino\"\n",
    "> \"Step by step tutorial\"\n",
    "\n",
    "- toc: true\n",
    "- branch: master\n",
    "- badges: true\n",
    "- comments: true\n",
    "- categories: [arduino]\n",
    "- image: images/framework.jpg\n",
    "- hide: false\n",
    "- search_exclude: true\n",
    "- metadata_key1: metadata_value1\n",
    "- metadata_key2: metadata_value2"
   ]
  },
  {
   "cell_type": "markdown",
   "id": "0148a1e2",
   "metadata": {},
   "source": [
    "Fuentes:\n",
    "\n",
    "\n",
    "[DeepLearning.AI: Procesamiento de lenguaje natural. Programa especializado en Coursera](https://www.coursera.org/specializations/natural-language-processing) \n",
    "\n",
    "\n",
    "[How to Write a Spelling Corrector, Peter Norvig, 2007](https://norvig.com/spell-correct.html)"
   ]
  },
  {
   "cell_type": "markdown",
   "id": "fbb0bdf3-c7e5-40db-bcf6-9e9d6203e3fd",
   "metadata": {},
   "source": [
    "> tip: Puedes ver este post en GitHub o ejecutarlo en Binder o Google Colab, pulsa el icono."
   ]
  },
  {
   "cell_type": "markdown",
   "id": "7f05c103-3a63-45bc-8a5a-620eae9b54a1",
   "metadata": {},
   "source": [
    "# Materials\n",
    "\n",
    "- [Arduino UNO R3 - basic kit](https://www.amazon.es/ELEGOO-Conjunto-Iniciaci%C3%B3n-Arduino-Tutorial/dp/B06W2KF3PJ/ref=sr_1_4_sspa?adgrpid=62734755275&gclid=Cj0KCQjw6pOTBhCTARIsAHF23fL-aBhSgK6gBAmL9VOEZwhlGeoOE2my9Rf8J-HaR2FwaqVcv5D2Q4kaAiNiEALw_wcB&hvadid=311719775976&hvdev=c&hvlocphy=1005495&hvnetw=g&hvqmt=e&hvrand=18031208140530439973&hvtargid=kwd-303763926895&hydadcr=28891_1774519&keywords=uno+r3+arduino&qid=1650808971&sr=8-4-spons&psc=1&spLa=ZW5jcnlwdGVkUXVhbGlmaWVyPUExTFVVRUkwSllBNDk1JmVuY3J5cHRlZElkPUEwNTY3MjIzQ0dIRVRXNEVGSzdTJmVuY3J5cHRlZEFkSWQ9QTA2NjE3MTA2TElJUDhPNzUwM0Imd2lkZ2V0TmFtZT1zcF9hdGYmYWN0aW9uPWNsaWNrUmVkaXJlY3QmZG9Ob3RMb2dDbGljaz10cnVl) : 23.99 €\n",
    "\n",
    "![](images_car/car11.jpg)\n",
    "\n",
    "\n",
    "- [Wheels and motors kit](https://www.amazon.es/KEYESTUDIO-neum%C3%A1ticos-Inteligentes-Engranajes-Proyecto/dp/B07DNTD49H/ref=sr_1_4?__mk_es_ES=%C3%85M%C3%85%C5%BD%C3%95%C3%91&crid=2Y9MMK0BPKYUR&keywords=arduino+motor+kit+car&qid=1650809214&sprefix=arduino+motors+kit+car%2Caps%2C64&sr=8-4) : 21.00 €\n",
    "\n",
    "![](images_car/car12.jpg)\n",
    "\n",
    "\n",
    "\n",
    "- [DC motor controller (L293D)](https://www.amazon.es/H-Bridge-controlador-Driver-16-pines-Paquete/dp/B00KM1NXLU/ref=sr_1_21?__mk_es_ES=%C3%85M%C3%85%C5%BD%C3%95%C3%91&crid=3CFIOIOWLACY0&keywords=L293d&qid=1650809786&sprefix=l293d%2Caps%2C67&sr=8-21): 1.60 € \n",
    "\n",
    "![](images_car/car10.jpg)\n",
    "- Electrical insulation tape\n",
    "\n",
    "![](images_car/car13.jpg)\n",
    "\n",
    "- [Ultrasounds Sensor HC-SR04](https://www.amazon.es/Ultrasonidos-Arduino-Medidor-Distancia-Ultrasonico/dp/B075MDMDL2/ref=sr_1_4?crid=3HPAWE9GQ52OU&keywords=sensor+ultrasonidos+hc-sr04&qid=1650810308&sprefix=sensor+ultrasonidos+hc%2Caps%2C67&sr=8-4) - 2.70 €\n",
    "\n",
    "![](images_car/car14.jpg)\n",
    "\n",
    "- Power Bank with USB outputs\n",
    "\n",
    "- [Chipboard sheets for crafts](https://www.amazon.es/Vaessen-aglomerado-manualidades-rectangulares-decoraciones/dp/B07PPX1724/ref=sr_1_5?keywords=tablero%2Bmadera%2Bmanualidades&qid=1650810585&sr=8-5&th=1) : 7.37 €\n",
    "\n",
    "![](images_car/car15.jpg)\n",
    "\n",
    "- PC with Arudino IDE installed"
   ]
  },
  {
   "cell_type": "markdown",
   "id": "f43c4ca4-97fd-42eb-a4ae-b85d01f34730",
   "metadata": {},
   "source": [
    "# Connect the motor controller, Arduino and the motors.\n",
    "\n",
    "\n",
    "[Follow this tutorial](https://srituhobby.com/how-to-control-dc-gear-motors-and-stepper-motors-using-l293d-motor-driver-ic/)\n",
    "\n",
    "\n",
    "![](images_car/car16.jpg)\n",
    "\n",
    "This is the result:\n",
    "\n",
    "![](images_car/car17.jpg)"
   ]
  },
  {
   "cell_type": "markdown",
   "id": "36d543d0-bbcb-4003-81b7-cbcde655b6a3",
   "metadata": {},
   "source": [
    "# Connect the ultrasounds Sensor to arduino\n",
    "\n",
    "![](images_car/car18.jpg)\n",
    "\n",
    "This is the result:\n",
    "\n",
    "![](images_car/car19.jpg)"
   ]
  },
  {
   "cell_type": "markdown",
   "id": "9999bd66-3f20-4138-9d5f-d3dea8c588e5",
   "metadata": {},
   "source": [
    "# Assembling the components\n",
    "\n",
    "- In a piece of chipboard attach the motors.\n",
    "- Put the wheels"
   ]
  },
  {
   "cell_type": "markdown",
   "id": "aa4bfa6a-d81b-47fe-899e-9268829043ba",
   "metadata": {},
   "source": [
    "![](images_car/car1.jpg)\n",
    "![](images_car/car2.jpg)\n",
    "![](images_car/car3.jpg)"
   ]
  },
  {
   "cell_type": "markdown",
   "id": "2660fbed-59ee-40c0-913c-88ea88f5f4ec",
   "metadata": {},
   "source": [
    "- Attach the power bank"
   ]
  },
  {
   "cell_type": "markdown",
   "id": "32d42495-6b49-49c4-b7a1-9361cb200bee",
   "metadata": {},
   "source": [
    "![](images_car/car4.jpg)\n",
    "![](images_car/car5.jpg)"
   ]
  },
  {
   "cell_type": "markdown",
   "id": "8050d687-bd73-43b1-93a5-236fa8b3ba9f",
   "metadata": {},
   "source": [
    "- Attach the motor controller \n",
    "- Attach Arduino UNO microcontroller board"
   ]
  },
  {
   "cell_type": "markdown",
   "id": "2aa5b272-0489-4e0f-ab66-0bbaf8748459",
   "metadata": {},
   "source": [
    "![](images_car/car6.jpg)"
   ]
  },
  {
   "cell_type": "markdown",
   "id": "d4b7b378-7891-472d-b25c-714ada84f2ea",
   "metadata": {},
   "source": [
    "- Attach the motor's battery between the motors "
   ]
  },
  {
   "cell_type": "markdown",
   "id": "c94271d6-3a96-4528-aeaa-2c27706ebe00",
   "metadata": {},
   "source": [
    "![](images_car/car7.jpg)"
   ]
  },
  {
   "cell_type": "markdown",
   "id": "222285bc-5e35-4a22-aff1-3824ae354e8a",
   "metadata": {},
   "source": [
    "- Attach the ultrasounds Sensor in front of the car"
   ]
  },
  {
   "cell_type": "markdown",
   "id": "4a37ebf1-9c75-4611-8992-f990cc056331",
   "metadata": {},
   "source": [
    "![](images_car/car8.jpg)\n",
    "![](images_car/car9.jpg)"
   ]
  },
  {
   "cell_type": "markdown",
   "id": "4575a27e-6bbf-4a6a-9725-b11eeed72936",
   "metadata": {},
   "source": [
    "# Program with Arduino IDE\n",
    "![](images_car/car20.jpg)"
   ]
  },
  {
   "cell_type": "code",
   "execution_count": null,
   "id": "43cfcf90-16d9-461f-a516-989e52db33da",
   "metadata": {},
   "outputs": [],
   "source": []
  }
 ],
 "metadata": {
  "kernelspec": {
   "display_name": "Python 3 (ipykernel)",
   "language": "python",
   "name": "python3"
  },
  "language_info": {
   "codemirror_mode": {
    "name": "ipython",
    "version": 3
   },
   "file_extension": ".py",
   "mimetype": "text/x-python",
   "name": "python",
   "nbconvert_exporter": "python",
   "pygments_lexer": "ipython3",
   "version": "3.9.7"
  }
 },
 "nbformat": 4,
 "nbformat_minor": 5
}
