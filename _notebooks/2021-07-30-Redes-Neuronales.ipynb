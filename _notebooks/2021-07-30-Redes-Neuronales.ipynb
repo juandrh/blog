{
 "cells": [
  {
   "cell_type": "markdown",
   "id": "295aab91",
   "metadata": {},
   "source": [
    "# \"Redes neuronales\"\n",
    "> \"Introducción intuitiva a las redes neuronales por Carlos Santana (Dot CSV)\"\n",
    "\n",
    "- toc: false\n",
    "- branch: master\n",
    "- badges: true\n",
    "- comments: true\n",
    "- categories: [Deep.Learning]\n",
    "- image: images/red2.png\n",
    "- hide: false\n",
    "- search_exclude: true\n",
    "- metadata_key1: metadata_value1\n",
    "- metadata_key2: metadata_value2"
   ]
  },
  {
   "cell_type": "markdown",
   "id": "2230aa44",
   "metadata": {},
   "source": [
    "Fuente: [Carlos Santana -  Dot CSV](https://www.youtube.com/channel/UCy5znSnfMsDwaLlROnZ7Qbg)\n",
    "\n",
    "<hr>"
   ]
  },
  {
   "cell_type": "markdown",
   "id": "3004423b",
   "metadata": {},
   "source": [
    "### Motivación:\n",
    "La serie de videos de **Carlos Santana** me parecen la explicación más intuitiva que he encontrado de cómo funciona una red neuronal.<br>\n",
    "He querido hacer un resumen para que se pueda repasar de forma rápida."
   ]
  },
  {
   "cell_type": "markdown",
   "id": "448b28fc",
   "metadata": {},
   "source": [
    "## La neurona"
   ]
  },
  {
   "cell_type": "markdown",
   "id": "35de3640",
   "metadata": {},
   "source": [
    "Es la unidad básica de procesamiento de una red neuronal. Tiene unos valores de entrada (x) y genera un resultado de salida (y), es decir, es una función."
   ]
  },
  {
   "cell_type": "markdown",
   "id": "93346aa6",
   "metadata": {},
   "source": [
    "![](images/rn01.png)"
   ]
  },
  {
   "cell_type": "markdown",
   "id": "faa7134f",
   "metadata": {},
   "source": [
    "El cálculo interno es una suma ponderada, a cada valor de entrada **x** se le asigna un peso:\n",
    "    "
   ]
  },
  {
   "cell_type": "markdown",
   "id": "fdc96883",
   "metadata": {},
   "source": [
    "![](images/rn02.png)"
   ]
  },
  {
   "cell_type": "markdown",
   "id": "1973a28e",
   "metadata": {},
   "source": [
    "Representa un modelo de regresión lineal:"
   ]
  },
  {
   "cell_type": "markdown",
   "id": "80cf0cab",
   "metadata": {},
   "source": [
    "![](images/rn03.png)"
   ]
  },
  {
   "cell_type": "markdown",
   "id": "1e1cc05f",
   "metadata": {},
   "source": [
    "Si escogemos un ejemplo sencillo de dos variables binarias (que toman valores 0,1) x1 y x2 , podemos definir el valor de **y** así:"
   ]
  },
  {
   "cell_type": "markdown",
   "id": "f840a77d",
   "metadata": {},
   "source": [
    "![](images/rn04.png)"
   ]
  },
  {
   "cell_type": "markdown",
   "id": "f2fdcf0c",
   "metadata": {},
   "source": [
    "Representandolo gráficamente:"
   ]
  },
  {
   "cell_type": "markdown",
   "id": "f0ccef36",
   "metadata": {},
   "source": [
    "![](images/rn05.png)"
   ]
  },
  {
   "cell_type": "markdown",
   "id": "c687996c",
   "metadata": {},
   "source": [
    "Podemos ver que hemos construido una puerta **AND**.\n",
    "\n"
   ]
  },
  {
   "cell_type": "markdown",
   "id": "4a69c449",
   "metadata": {},
   "source": [
    "![](images/rn09.png)"
   ]
  },
  {
   "cell_type": "markdown",
   "id": "1a81265f",
   "metadata": {},
   "source": [
    "También podríamos construir una puerta **OR** modificando los parámetros w y b:"
   ]
  },
  {
   "cell_type": "markdown",
   "id": "d233530d",
   "metadata": {},
   "source": [
    "![](images/rn10.png)"
   ]
  },
  {
   "cell_type": "markdown",
   "id": "264f79c4",
   "metadata": {},
   "source": [
    "![](images/rn06.png)"
   ]
  },
  {
   "cell_type": "markdown",
   "id": "5232bc34",
   "metadata": {},
   "source": [
    "Sin embargo, una puerta **XOR** no se puede construir con una sola neurona. No hay una recta que separe los 0 de los 1:"
   ]
  },
  {
   "cell_type": "markdown",
   "id": "b34c4233",
   "metadata": {},
   "source": [
    "![](images/rn11.png)"
   ]
  },
  {
   "cell_type": "markdown",
   "id": "ac6de072",
   "metadata": {},
   "source": [
    "![](images/rn07.png)"
   ]
  },
  {
   "cell_type": "markdown",
   "id": "36e21ad0",
   "metadata": {},
   "source": [
    "Para logralo necesitaríamos dos neuronas:"
   ]
  },
  {
   "cell_type": "markdown",
   "id": "7d14ea14",
   "metadata": {},
   "source": [
    "![](images/rn08.png)"
   ]
  },
  {
   "cell_type": "markdown",
   "id": "23d9d666",
   "metadata": {},
   "source": [
    "Por lo tanto, uniendo más neuronas conseguiremos modelos más complejos."
   ]
  },
  {
   "cell_type": "markdown",
   "id": "6b8ee6bf",
   "metadata": {},
   "source": [
    "## La red neuronal"
   ]
  },
  {
   "cell_type": "markdown",
   "id": "3e3740cd",
   "metadata": {},
   "source": [
    "Está formada por capas de neuronas donde las neuronas de una capa se relacionan con las de la siguiente:"
   ]
  },
  {
   "cell_type": "markdown",
   "id": "a5cc4d11",
   "metadata": {},
   "source": [
    "![](images/rn12.png)"
   ]
  },
  {
   "cell_type": "markdown",
   "id": "1fc7828c",
   "metadata": {},
   "source": [
    "Sin embargo, si combinamos capas de regresión lineal nos da como resultado sólo una regresión lineal, es como si sólo hubiésemos hecho una operación, equivaldría a tener sólo una neurona:"
   ]
  },
  {
   "cell_type": "markdown",
   "id": "d9a3bf5b",
   "metadata": {},
   "source": [
    "![](images/rn13.png)"
   ]
  },
  {
   "cell_type": "markdown",
   "id": "3cf375f5",
   "metadata": {},
   "source": [
    "Por lo tanto, necesitaremos manipular cada línea que dé como resultado funciones no lineales obteniendo un resultado final no lineal:"
   ]
  },
  {
   "cell_type": "markdown",
   "id": "5ca6c630",
   "metadata": {},
   "source": [
    "![](images/rn14.png)"
   ]
  },
  {
   "cell_type": "markdown",
   "id": "dbf5f626",
   "metadata": {},
   "source": [
    "Para conseguir esa no linealidad usaremos las **funciones de activación**:"
   ]
  },
  {
   "cell_type": "markdown",
   "id": "507ab3d8",
   "metadata": {},
   "source": [
    "![](images/rn15.png)"
   ]
  },
  {
   "cell_type": "markdown",
   "id": "622cc977",
   "metadata": {},
   "source": [
    "Puece ser una **función escalonada**, como la usada en el ejemplo de la neurona:"
   ]
  },
  {
   "cell_type": "markdown",
   "id": "9ffaa018",
   "metadata": {},
   "source": [
    "![](images/rn16.png)"
   ]
  },
  {
   "cell_type": "markdown",
   "id": "6dfb3b8b",
   "metadata": {},
   "source": [
    "**Función sigmoide**: tiene valores entre 0 y 1 por lo que es útil para representar probabilidades."
   ]
  },
  {
   "cell_type": "markdown",
   "id": "3017365b",
   "metadata": {},
   "source": [
    "![](images/rn17.png)"
   ]
  },
  {
   "cell_type": "markdown",
   "id": "906be3cf",
   "metadata": {},
   "source": [
    "**Función tangente hiperbólica**: similar a la sigmoide pero con valores entre -1 y 1:"
   ]
  },
  {
   "cell_type": "markdown",
   "id": "5b99d906",
   "metadata": {},
   "source": [
    "![](images/rn18.png)"
   ]
  },
  {
   "cell_type": "markdown",
   "id": "6bd39e97",
   "metadata": {},
   "source": [
    "**Función unidad rectificada lineal (ReLU)**: da 0 cuando la entrada es negativa. Es muy utilizada."
   ]
  },
  {
   "cell_type": "markdown",
   "id": "bc9d5d43",
   "metadata": {},
   "source": [
    "![](images/rn19.png)"
   ]
  },
  {
   "cell_type": "markdown",
   "id": "2827161e",
   "metadata": {},
   "source": [
    "Ahora uniendo diferentes neuronas con sus funciones de activación podemos solucionar problemas más complejos, como clasificar los puntos dentro de un círculo:"
   ]
  },
  {
   "cell_type": "markdown",
   "id": "e10a9249",
   "metadata": {},
   "source": [
    "![](images/rn20.png)"
   ]
  },
  {
   "cell_type": "markdown",
   "id": "87a71f74",
   "metadata": {},
   "source": [
    "Colocando 4 neuronas con las funciones de activación orientadas de forma distinta:"
   ]
  },
  {
   "cell_type": "markdown",
   "id": "b56f7f7d",
   "metadata": {},
   "source": [
    "![](images/rn21.png)"
   ]
  },
  {
   "cell_type": "markdown",
   "id": "05e010f5",
   "metadata": {},
   "source": [
    "Nos da como resultado una firgura con un bulto encima:"
   ]
  },
  {
   "cell_type": "markdown",
   "id": "eea52d96",
   "metadata": {},
   "source": [
    "![](images/rn22.png)"
   ]
  },
  {
   "cell_type": "markdown",
   "id": "6ca79ca4",
   "metadata": {},
   "source": [
    "Que será la solución a nuestro problema:"
   ]
  },
  {
   "cell_type": "markdown",
   "id": "d59d8ae0",
   "metadata": {},
   "source": [
    "![](images/rn23.png)"
   ]
  },
  {
   "cell_type": "markdown",
   "id": "78cdab8f",
   "metadata": {},
   "source": [
    "Ahora que ya tenemos el modelo,veamos cómo aprende automáticamente."
   ]
  },
  {
   "cell_type": "markdown",
   "id": "9a0eb34a",
   "metadata": {},
   "source": [
    "## El aprendizaje automático de la red"
   ]
  },
  {
   "cell_type": "markdown",
   "id": "8a0c636e",
   "metadata": {},
   "source": [
    "Queremos que sea la red la que ajuste automáticamente los parámetros para solucionar el problema."
   ]
  },
  {
   "cell_type": "markdown",
   "id": "0922a9ac",
   "metadata": {},
   "source": [
    "### El algoritmo *Backpropagation*"
   ]
  },
  {
   "cell_type": "markdown",
   "id": "788d1540",
   "metadata": {},
   "source": [
    "Se calcula el error final de la red y se recorre cada capa empezando por la última y repartiendo ese error entre las neuronas de la capa anterior. Esos errores se usarán para calcular el gradiente de cada parámetro de la red.<br>\n",
    "Este gradiente será usado por el algoritmo del [**descenso del gradiente**](https://juandrh.github.io/blog/curso_fast.ai/2021/07/28/Aprendizaje-automatico.html), que irá ajustando los parámetros en busca del error mínimo."
   ]
  },
  {
   "cell_type": "markdown",
   "id": "04fa62ec",
   "metadata": {},
   "source": [
    "![](images/rn24.png)"
   ]
  },
  {
   "cell_type": "markdown",
   "id": "409b28ae",
   "metadata": {},
   "source": [
    "Se realizarán las derivadas del coste respecto de cada peso y del sesgo (b):"
   ]
  },
  {
   "cell_type": "markdown",
   "id": "41403433",
   "metadata": {},
   "source": [
    "![](images/rn25.png)"
   ]
  },
  {
   "cell_type": "markdown",
   "id": "7206292d",
   "metadata": {},
   "source": [
    "![](images/rn26.png)"
   ]
  },
  {
   "cell_type": "markdown",
   "id": "dc3289a7",
   "metadata": {},
   "source": [
    "La función de coste es la composición de las siguientes funciones:\n",
    "   - Suma ponderada de parámetros (w y b) y el valor de la función de activación de la capa anterior(a) \n",
    "   - Función de activación (a)\n",
    "   - Función de coste (error) (C)"
   ]
  },
  {
   "cell_type": "markdown",
   "id": "2366a14e",
   "metadata": {},
   "source": [
    "![](images/rn27.png)"
   ]
  },
  {
   "cell_type": "markdown",
   "id": "740c2c26",
   "metadata": {},
   "source": [
    "Para realizar el cálculo usamos la **regla de la cadena**:"
   ]
  },
  {
   "cell_type": "markdown",
   "id": "356ee71e",
   "metadata": {},
   "source": [
    "![](images/rn28.png)"
   ]
  },
  {
   "cell_type": "markdown",
   "id": "cec1197e",
   "metadata": {},
   "source": [
    "![](images/rn29.png)"
   ]
  },
  {
   "cell_type": "markdown",
   "id": "dfb2533c",
   "metadata": {},
   "source": [
    "![](images/rn30.png)"
   ]
  },
  {
   "cell_type": "markdown",
   "id": "e35a4175",
   "metadata": {},
   "source": [
    "![](images/rn31.png)"
   ]
  },
  {
   "cell_type": "markdown",
   "id": "a050c140",
   "metadata": {},
   "source": [
    "Para ver cuanto afecta en el coste un cambio en la neurona, cuanta responsabilidad tiene en el coste final,  tenemos esto:"
   ]
  },
  {
   "cell_type": "markdown",
   "id": "2eaa6d4c",
   "metadata": {},
   "source": [
    "![](images/rn32.png)"
   ]
  },
  {
   "cell_type": "markdown",
   "id": "bff071af",
   "metadata": {},
   "source": [
    "![](images/rn33.png)"
   ]
  },
  {
   "cell_type": "markdown",
   "id": "6da47b66",
   "metadata": {},
   "source": [
    "![](images/rn34.png)"
   ]
  },
  {
   "cell_type": "markdown",
   "id": "e3065e31",
   "metadata": {},
   "source": [
    "![](images/rn35.png)"
   ]
  },
  {
   "cell_type": "markdown",
   "id": "67e88fee",
   "metadata": {},
   "source": [
    "![](images/rn36.png)"
   ]
  },
  {
   "cell_type": "code",
   "execution_count": null,
   "id": "620477f9",
   "metadata": {},
   "outputs": [],
   "source": [
    "Al final realizaremos estos 3 pasos:"
   ]
  },
  {
   "cell_type": "markdown",
   "id": "e28792b2",
   "metadata": {},
   "source": [
    "![](images/rn37.png)"
   ]
  },
  {
   "cell_type": "markdown",
   "id": "2051666b",
   "metadata": {},
   "source": [
    "Por lo tanto, con un único pase hacia atrás podemos calcular las derivadas parciales de toda la red. Repartimos el error de la capa siguiente (l) en la capa actual (l-1).\n",
    "\n",
    "Estas derivadas paraciales se usarán en el descenso del gradiente para encontrar la solución del problema con mínimo error."
   ]
  },
  {
   "cell_type": "code",
   "execution_count": null,
   "id": "c7c9495c",
   "metadata": {},
   "outputs": [],
   "source": []
  }
 ],
 "metadata": {
  "kernelspec": {
   "display_name": "Python 3 (ipykernel)",
   "language": "python",
   "name": "python3"
  },
  "language_info": {
   "codemirror_mode": {
    "name": "ipython",
    "version": 3
   },
   "file_extension": ".py",
   "mimetype": "text/x-python",
   "name": "python",
   "nbconvert_exporter": "python",
   "pygments_lexer": "ipython3",
   "version": "3.8.10"
  }
 },
 "nbformat": 4,
 "nbformat_minor": 5
}
