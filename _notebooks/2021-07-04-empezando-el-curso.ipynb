{
  "nbformat": 4,
  "nbformat_minor": 0,
  "metadata": {
    "colab": {
      "name": "post1.ipynb",
      "provenance": [],
      "collapsed_sections": [],
      "authorship_tag": "ABX9TyO+9d+HBr01UQ9oRY4YA7FV",
      "include_colab_link": true
    },
    "kernelspec": {
      "name": "python3",
      "display_name": "Python 3"
    },
    "language_info": {
      "name": "python"
    }
  },
  "cells": [
    {
      "cell_type": "markdown",
      "metadata": {
        "id": "view-in-github",
        "colab_type": "text"
      },
      "source": [
        "<a href=\"https://colab.research.google.com/github/juandrh/blog/blob/master/_notebooks/2021-07-04-empezando-el-curso.ipynb\" target=\"_parent\"><img src=\"https://colab.research.google.com/assets/colab-badge.svg\" alt=\"Open In Colab\"/></a>"
      ]
    },
    {
      "cell_type": "markdown",
      "metadata": {
        "id": "x8rDOuWUw59B"
      },
      "source": [
        "# \"Empezando el curso\"\n",
        "> \"¿Qué se necesita?\"\n",
        "\n",
        "- toc: false\n",
        "- branch: master\n",
        "- badges: true\n",
        "- comments: true\n",
        "- categories: [curso_Fast.ai]\n",
        "- image: images/logo.png\n",
        "- hide: false\n",
        "- search_exclude: true\n",
        "- metadata_key1: metadata_value1\n",
        "- metadata_key2: metadata_value2"
      ]
    },
    {
      "cell_type": "markdown",
      "metadata": {
        "id": "NOrGQYg4w4ki"
      },
      "source": [
        ""
      ]
    },
    {
      "cell_type": "markdown",
      "metadata": {
        "id": "m3NdKienj9CI"
      },
      "source": [
        ""
      ]
    },
    {
      "cell_type": "markdown",
      "metadata": {
        "id": "JYdmaNPGy_hS"
      },
      "source": [
        "Empezando el curso gratuito de [fast.ai](https://www.fast.ai/) *\"Practical Deep Learning for Coders (2020)\"*\n",
        "\n",
        "¿Qué necesitas para hacerlo?\n",
        "\n",
        "- Seguir un proceso de forma tenaz con cada lección:\n",
        "\n",
        "  -  ver vídeo\n",
        "  -  leer la lección\n",
        "  -  ejecutar el código \n",
        "  -  repetir el código por tí mismo\n",
        "  -  practicar con tus datos el código\n",
        "\n",
        "- Buscar un proyecto personal e ir hasta el final (por ejemplo, una competición de Kaggle)\n",
        "\n",
        "\n",
        "Otros requisitos:\n",
        "  - Cuenta en [Github](https://www.github.com/) \n",
        "  - Cuenta en [Google Colab](https://colab.research.google.com/) o [Gradient](https://gradient.paperspace.com/)\n",
        "\n",
        "\n",
        "Consejos:\n",
        "\n",
        "- Usa *\"fast.ai pages\"* como blog para publicar tus avances.\n",
        "\n",
        "\n"
      ]
    }
  ]
}
