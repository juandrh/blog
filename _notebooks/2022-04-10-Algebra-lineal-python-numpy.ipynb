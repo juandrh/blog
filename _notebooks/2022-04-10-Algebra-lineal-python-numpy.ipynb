{
 "cells": [
  {
   "cell_type": "markdown",
   "id": "42599432",
   "metadata": {},
   "source": [
    "# \"Guía rápida de algebra lineal con Python + Numpy\"\n",
    "> \"Guía rápida de Algebra lineal con Python + Numpy\"\n",
    "\n",
    "- toc: true\n",
    "- branch: master\n",
    "- badges: true\n",
    "- comments: true\n",
    "- categories: [python]\n",
    "- image: images/framework.jpg\n",
    "- hide: false\n",
    "- search_exclude: true\n",
    "- metadata_key1: metadata_value1\n",
    "- metadata_key2: metadata_value2"
   ]
  },
  {
   "cell_type": "markdown",
   "id": "0148a1e2",
   "metadata": {},
   "source": [
    "Fuentes:\n",
    "[numpy](https://numpy.org/) "
   ]
  },
  {
   "cell_type": "code",
   "execution_count": 3,
   "id": "387abb3f",
   "metadata": {},
   "outputs": [],
   "source": [
    "import numpy as np"
   ]
  },
  {
   "cell_type": "code",
   "execution_count": null,
   "id": "34a2ce24-d353-4ffc-8eb5-88b7d8898327",
   "metadata": {},
   "outputs": [],
   "source": [
    "# Listas vs vectores de Numpy"
   ]
  },
  {
   "cell_type": "code",
   "execution_count": 7,
   "id": "ec381c59-70ca-4861-b658-9cb041933d00",
   "metadata": {},
   "outputs": [
    {
     "name": "stdout",
     "output_type": "stream",
     "text": [
      "[1, 2, 3, 4]\n",
      "[1 2 3 4]\n"
     ]
    }
   ],
   "source": [
    "# creación de listas y vectores\n",
    "lista = [1,2,3,4]\n",
    "vector = np.array([1,2,3,4]) # vector de numpy\n",
    "print(lista)\n",
    "print(vector)"
   ]
  },
  {
   "cell_type": "code",
   "execution_count": 10,
   "id": "c7b8fb20-10d4-43f4-8531-5a094bb1d299",
   "metadata": {},
   "outputs": [
    {
     "name": "stdout",
     "output_type": "stream",
     "text": [
      "[1, 2, 3, 4, 1, 2, 3, 4] vs  [2 4 6 8]\n",
      "[1, 2, 3, 4, 1, 2, 3, 4] vs  [2 4 6 8]\n"
     ]
    }
   ],
   "source": [
    "# Operaciones\n",
    "print(lista+lista, \"vs \", vector+vector )\n",
    "print(lista*2 , \"vs \",vector*2)"
   ]
  },
  {
   "cell_type": "code",
   "execution_count": 18,
   "id": "5fc8f7b2-a1cb-4714-b06e-16491f0fbba3",
   "metadata": {},
   "outputs": [
    {
     "name": "stdout",
     "output_type": "stream",
     "text": [
      "[[1 2 3 4]\n",
      " [1 2 3 4]\n",
      " [1 2 3 4]]\n",
      "[[1 2 3 4]\n",
      " [1 2 3 4]\n",
      " [1 2 3 4]]\n",
      "[[1 2 3 4]\n",
      " [1 2 3 4]\n",
      " [1 1 1 1]]\n",
      "[[1 2 3 4]]\n"
     ]
    }
   ],
   "source": [
    "# Matrices: creación\n",
    "matriz1 = np.array([lista, lista, lista])\n",
    "matriz2 = np.array([vector, vector, vector])  \n",
    "matriz3 = np.array([lista,vector, [1, 1, 1, 1]])\n",
    "matriz4 = np.array([[1,2,3,4]])  # matriz (1 x 4)\n",
    "\n",
    "print(matriz1)\n",
    "print(matriz2)\n",
    "print(matriz3)\n",
    "print(matriz4)"
   ]
  },
  {
   "cell_type": "code",
   "execution_count": 14,
   "id": "dd147e94-b809-4c42-9a6d-c5f01e1e3f67",
   "metadata": {},
   "outputs": [
    {
     "name": "stdout",
     "output_type": "stream",
     "text": [
      "[[3 5 7 9]\n",
      " [3 5 7 9]\n",
      " [3 5 7 9]]\n"
     ]
    }
   ],
   "source": [
    "# Matrices: escalado y translación\n",
    "m_transformada = matriz1 * 2 + 1 \n",
    "print(m_transformada)"
   ]
  },
  {
   "cell_type": "code",
   "execution_count": 15,
   "id": "5ae4a6fe-5c0d-41e9-9a19-03fd7d85e592",
   "metadata": {},
   "outputs": [
    {
     "name": "stdout",
     "output_type": "stream",
     "text": [
      "[[2 4 6 8]\n",
      " [2 4 6 8]\n",
      " [2 4 6 8]]\n",
      "[[ 1  4  9 16]\n",
      " [ 1  4  9 16]\n",
      " [ 1  4  9 16]]\n"
     ]
    }
   ],
   "source": [
    "# Matrices: operaciones elemento a elemento\n",
    "matriz_suma = matriz1 + matriz1 \n",
    "print(matriz_suma)\n",
    "matriz_producto = matriz1 * matriz1\n",
    "print(matriz_producto)"
   ]
  },
  {
   "cell_type": "code",
   "execution_count": 19,
   "id": "caf31036-8369-4e26-9502-f1868fab27ca",
   "metadata": {
    "tags": []
   },
   "outputs": [
    {
     "name": "stdout",
     "output_type": "stream",
     "text": [
      "[[1 2 3 4]\n",
      " [1 2 3 4]\n",
      " [1 2 3 4]]\n",
      "(3, 4)\n",
      "[[1 1 1]\n",
      " [2 2 2]\n",
      " [3 3 3]\n",
      " [4 4 4]]\n",
      "(4, 3)\n",
      "[[1]\n",
      " [2]\n",
      " [3]\n",
      " [4]]\n",
      "(4, 1)\n"
     ]
    }
   ],
   "source": [
    "# Matrices: transpuesta\n",
    "print (matriz1)\n",
    "print(matriz1.shape)\n",
    "print (matriz1.T)\n",
    "print(matriz1.T.shape)\n",
    "print (matriz4.T)\n",
    "print(matriz4.T.shape)"
   ]
  },
  {
   "cell_type": "markdown",
   "id": "d9ae3c32-911b-4c91-8058-291bcaa6f887",
   "metadata": {
    "tags": []
   },
   "source": [
    "$$ norm(\\vec a) = ||\\vec a|| = \\sqrt {\\sum_{i=1}^{n} a_i ^ 2}$$"
   ]
  },
  {
   "cell_type": "code",
   "execution_count": 25,
   "id": "0a15dbe2-07fe-4349-83b2-298e894c596c",
   "metadata": {},
   "outputs": [
    {
     "name": "stdout",
     "output_type": "stream",
     "text": [
      "5.477225575051661\n",
      "9.486832980505138\n",
      "[1.73205081 3.46410162 5.19615242 6.92820323]\n",
      "[5.47722558 5.47722558 5.47722558]\n"
     ]
    }
   ],
   "source": [
    "# Matrices: norma\n",
    "norma_vector = np.linalg.norm(vector)\n",
    "norma_matriz = np.linalg.norm(matriz1)  # La matriz se toma como una lista de elementos\n",
    "norma_matriz_col = np.linalg.norm(matriz1, axis=0)  # La matriz se toma como una lista de elementos\n",
    "norma_matriz_fila = np.linalg.norm(matriz1, axis=1)  # La matriz se toma como una lista de elementos\n",
    "print(norma_vector )\n",
    "print(norma_matriz )\n",
    "print(norma_matriz_col )\n",
    "print(norma_matriz_fila )"
   ]
  },
  {
   "cell_type": "markdown",
   "id": "e32347f9-148f-4282-8f1b-7be4157b7cc8",
   "metadata": {},
   "source": [
    "$$\\vec a \\cdot \\vec b = \\sum_{i=1}^{n} a_i b_i$$"
   ]
  },
  {
   "cell_type": "code",
   "execution_count": 24,
   "id": "cec3083a-fe66-406e-adb6-313728990265",
   "metadata": {},
   "outputs": [
    {
     "name": "stdout",
     "output_type": "stream",
     "text": [
      "30\n"
     ]
    }
   ],
   "source": [
    "# Matrices: producto escalar\n",
    "prod_escalar = np.dot(vector, vector)\n",
    "print(prod_escalar)"
   ]
  },
  {
   "cell_type": "code",
   "execution_count": null,
   "id": "d8b074c7-f235-4c5b-98af-dd439eb40317",
   "metadata": {},
   "outputs": [],
   "source": []
  }
 ],
 "metadata": {
  "kernelspec": {
   "display_name": "Python 3 (ipykernel)",
   "language": "python",
   "name": "python3"
  },
  "language_info": {
   "codemirror_mode": {
    "name": "ipython",
    "version": 3
   },
   "file_extension": ".py",
   "mimetype": "text/x-python",
   "name": "python",
   "nbconvert_exporter": "python",
   "pygments_lexer": "ipython3",
   "version": "3.9.7"
  }
 },
 "nbformat": 4,
 "nbformat_minor": 5
}
