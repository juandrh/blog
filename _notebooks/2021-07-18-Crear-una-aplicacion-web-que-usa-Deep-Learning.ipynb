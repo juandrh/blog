{
  "nbformat": 4,
  "nbformat_minor": 0,
  "metadata": {
    "colab": {
      "name": "2021-07-18-Crear-una-aplicacion-web-que-usa-Deep-Learning.ipynb",
      "provenance": [],
      "collapsed_sections": [],
      "authorship_tag": "ABX9TyMtlPeFJYXOwP0NYqGeRPtn",
      "include_colab_link": true
    },
    "kernelspec": {
      "name": "python3",
      "display_name": "Python 3"
    },
    "language_info": {
      "name": "python"
    }
  },
  "cells": [
    {
      "cell_type": "markdown",
      "metadata": {
        "id": "view-in-github",
        "colab_type": "text"
      },
      "source": [
        "<a href=\"https://colab.research.google.com/github/juandrh/blog/blob/master/2021-07-18-Crear_una_aplicacion_web_que_usa_Deep_Learning.ipynb\" target=\"_parent\"><img src=\"https://colab.research.google.com/assets/colab-badge.svg\" alt=\"Open In Colab\"/></a>"
      ]
    },
    {
      "cell_type": "markdown",
      "metadata": {
        "id": "gzK7QA2cCZBK"
      },
      "source": [
        "**<h1>Creación de una aplicación web que use un modelo entrenado con Deep Learning a partir del curso de Fastai</h1>**\n"
      ]
    },
    {
      "cell_type": "markdown",
      "metadata": {
        "id": "CJ3CnGh2CmzY"
      },
      "source": [
        "[Practical Deep Learning for Coders](https://course.fast.ai/)"
      ]
    },
    {
      "cell_type": "markdown",
      "metadata": {
        "id": "jfigxzN6ClKC"
      },
      "source": [
        "**<h2>Motivación</h2>**\n",
        "<p>En la lección 2 se ofrecen diferentes opciones para poder usar el modelo entrenando en el curso a través de la web.  Recomiendan hacerlo a través de Voila y Binder por ser una forma sencilla de publicar Jupyter notebooks.</p>\n",
        "<p>Yo, en cambio, he querido ir más allá y crear una aplicación web en la cual se realice la predicción del modelo entrenado en el lado del servidor. Esta aproximación tiene la ventaja de poder implementarse de forma fácil también en apps de dispositivos móviles.</p>\n",
        "<p>De esta forma, se podrá subir la imagen desde la web al servidor, devolviendo el resultado obtenido.</p>"
      ]
    },
    {
      "cell_type": "markdown",
      "metadata": {
        "id": "gpWX2J6WGHF6"
      },
      "source": [
        "**<h2>Preparación del entorno</h2>**\n",
        "\n",
        "<h3>Crea un entorno virtual donde trabajar:</h3>\n",
        "\n",
        "<p>En el terminal:\n",
        "\n",
        "*   python3 -m venv env1 \n",
        "*   source env1/bin/activate\n",
        "\n",
        "Si se quiere salir del entorno:\n",
        "\n",
        "\n",
        "\n",
        "*   deactivate\n",
        "\n",
        "\n",
        "</p>\n",
        "<br>\n",
        "<h3>Instala Flask: framework que permite crear aplicaciones web rápidamente </h3>\n",
        "\n",
        "*   pip3 install flask\n",
        "*   python -m flask --version \n",
        "\n",
        "<br>\n",
        "<h3>Crea directorio donde alojar la web y dos subcarpetas que usará la app</h3>\n",
        "\n",
        "*   mkdir web\n",
        "*   cd web\n",
        "*   mkdir templates\n",
        "*   mkdir static\n",
        "\n",
        "Nota: no cambiar el nombre de templates y static ya que los usará Flask\n",
        "\n"
      ]
    },
    {
      "cell_type": "markdown",
      "metadata": {
        "id": "QOBONRwgHG5Z"
      },
      "source": [
        "**<h2>**Archivos de la aplicación</h2>**\n",
        "\n",
        "Crea un archivo de python con tu editor de textos (yo uso VS Code) en la carpeta “web”.\n",
        "<br>\n",
        " Combinaremos el código de nuestro modelo de Deep Learning usado para el curso y escrito en un Jupyter Notebook y el código específico de Flask que generará la web."
      ]
    },
    {
      "cell_type": "code",
      "metadata": {
        "id": "RTA9bZksKruU"
      },
      "source": [
        "import fastbook\n",
        "from fastbook import *\n",
        "from fastai.vision import *\n",
        "from flask import Flask, render_template, request, redirect, url_for, abort, send_from_directory\n",
        "import os\n",
        "from werkzeug.utils import secure_filename\n",
        "import imghdr\n",
        "\n",
        "fastbook.setup_book()\n",
        "\n",
        "\n",
        "# Se importa nuestro modelo preentrenado “export.pkl”\n",
        "\n",
        "path=Path()\n",
        "path.ls(file_exts='.pkl')\n",
        "learn_inf=load_learner(path/'export.pkl')\n",
        "\n",
        "\n",
        "# valores para uso de Flask\n",
        "app = Flask(__name__)\n",
        "app.config['MAX_CONTENT_LENGTH'] = 2 * 1024 * 1024\n",
        "app.config['UPLOAD_EXTENSIONS'] = ['.jpg', '.png', '.gif']\n",
        "app.config['UPLOAD_PATH'] = 'static'\n",
        "\n",
        "# función que valida la extensión del archivo\n",
        "def validate_image(stream):\n",
        "   header = stream.read(512)\n",
        "   stream.seek(0)\n",
        "   format = imghdr.what(None, header)\n",
        "   if not format:\n",
        "       return None\n",
        "   return '.' + (format if format != 'jpeg' else 'jpg')\n",
        "\n",
        "# función que valida el tamaño del archivo\n",
        "@app.errorhandler(413)\n",
        "def too_large(e):\n",
        "   return \"File is too large\", 413\n",
        "\n",
        "\n",
        "# función  de genera la página pricipal\n",
        "@app.route('/')\n",
        "def index():\n",
        "   for f in os.listdir(app.config['UPLOAD_PATH']):\n",
        "       os.remove(os.path.join(app.config['UPLOAD_PATH'], f))\n",
        "   return render_template('inicio.html')\n",
        "\n",
        "# función  generada tras pulsar boton de Clasificación\n",
        "@app.route('/', methods=['POST'])\n",
        "def upload_files():\n",
        "   files = os.listdir(app.config['UPLOAD_PATH'])\n",
        "   uploaded_file = request.files['file']\n",
        "   filename = secure_filename(uploaded_file.filename)\n",
        "   if filename != '':\n",
        "       file_ext = os.path.splitext(filename)[1]\n",
        "       if file_ext not in app.config['UPLOAD_EXTENSIONS'] or \\\n",
        "               file_ext != validate_image(uploaded_file.stream):\n",
        "           return \"Invalid image\", 400\n",
        "          \n",
        "       filenamefull =os.path.join(app.config['UPLOAD_PATH'], filename) \n",
        "       uploaded_file.save(filenamefull)  #guardar la imagen, se mostrará en el resultado\n",
        "     \n",
        "       img = PILImage.create(os.path.join(filenamefull))\n",
        "       pred,pred_inx,prob=learn_inf.predict(img)   # uso del modelo para hacer la predicción\n",
        "       prediccion=f'Prediccion: {pred}; probabilidad: {prob[pred_inx]:.04f}'\n",
        "              \n",
        "   return render_template('resultado.html',prediccion=prediccion, files=files,imagen=filenamefull)   "
      ],
      "execution_count": null,
      "outputs": []
    },
    {
      "cell_type": "markdown",
      "metadata": {
        "id": "drhfJUy5K9b7"
      },
      "source": [
        "Dentro de las carpetas “templates” creamos dos archivos html “inicio.html” y “resultado.html”\n",
        "\n"
      ]
    },
    {
      "cell_type": "markdown",
      "metadata": {
        "id": "Ddj90vuBLJQ8"
      },
      "source": [
        "<h3>inicio.html</h3>"
      ]
    },
    {
      "cell_type": "code",
      "metadata": {
        "id": "qcTCQ3NELm4f"
      },
      "source": [
        "<!doctype html>\n",
        "<!--Aplicacion web basica: se elige una imagen, se envia al servidor para pasarla por el modelo entrenado-->\n",
        "<html>\n",
        "<head>\n",
        "  <title>Clasificador de lunares</title>\n",
        "</head>\n",
        "\n",
        "<body>\n",
        "  <h1>Clasificador de lunares</h1>\n",
        "  <form method=\"POST\" action=\"\" enctype=\"multipart/form-data\">\n",
        "    <p><input type=\"file\" name=\"file\"></p>\n",
        "    <p><input type=\"submit\" value=\"Clasificar\"></p>\n",
        "  </form>\n",
        "</body>\n",
        "</html>"
      ],
      "execution_count": null,
      "outputs": []
    },
    {
      "cell_type": "markdown",
      "metadata": {
        "id": "PZGTWE-VL24F"
      },
      "source": [
        "<h3>resultado.html</h3>"
      ]
    },
    {
      "cell_type": "code",
      "metadata": {
        "id": "3FUrR80rL6c2"
      },
      "source": [
        "<!doctype html>\n",
        "<!--Aplicacion web basica: se muestra la imagen elegida y el resultado de la prediccion-->\n",
        "\n",
        "<html>\n",
        "<head>\n",
        "  <title>Clasificador de lunares</title>\n",
        "</head>\n",
        "\n",
        "<body>\n",
        "  <h1>Clasificador de lunares</h1>\n",
        "  <img src=\"{{imagen}}\" style=\"width: 128px\">\n",
        "  <p>{{prediccion}}</p>\n",
        "  <br>\n",
        "  <button onclick=\"goBack()\">Volver</button>\n",
        "  <script>\n",
        "    function goBack() {\n",
        "      window.history.back();\n",
        "    }\n",
        "  </script>\n",
        "\n",
        "</body>\n",
        "</html>"
      ],
      "execution_count": null,
      "outputs": []
    },
    {
      "cell_type": "markdown",
      "metadata": {
        "id": "ZypjVmZjMNLB"
      },
      "source": [
        "**<h2>Publicación de la aplicación</h2>**\n",
        "<p>Iniciar el servidor web con Flask en modo local:</p>\n",
        "\n",
        "\n",
        "*   export FLASK_APP=app\n",
        "*   flask run\n",
        "\n",
        "<p>Abrir navegador y colocar en la barra de direcciones:</p>\n",
        "\n",
        "\n",
        "*   http://127.0.0.1:5000/\n",
        "\n",
        "\n",
        "<p>Averiguar la dirección ip en mi red:</p>\n",
        "\n",
        "\n",
        "*   ip a\n",
        "\n",
        "<p>Ejecutar la aplicación de forma visible dentro de mi red:\n",
        "</p>\n",
        "\n",
        "\n",
        "*   flask run --host=0.0.0.0\n",
        "\n",
        "Ahora podrás acceder desde cualquier dispositivo que esté conectado a tu red (a tu WIFI, por ejemplo)\n",
        "\n",
        "\n",
        "Ejecutar flask de forma visible fuera de mi red:\n",
        "\n",
        "Para ello necesitaremos un servidor con acceso a la red que ejecute nuestra aplicación. Podemos montarlo nosotros o usar los servicios de otras empresas como, por ejemplo:\n",
        "\n",
        "\n",
        "\n",
        "*   [Heroku](https://www.heroku.com/)\n",
        "*   [Microsoft Azure](https://azure.microsoft.com/es-es/)\n",
        "*   [Amazon AWS](https://aws.amazon.com/es/)\n",
        "*   [SeeMe.ai](https://www.seeme.ai/)\n",
        "\n",
        "\n"
      ]
    }
  ]
}
