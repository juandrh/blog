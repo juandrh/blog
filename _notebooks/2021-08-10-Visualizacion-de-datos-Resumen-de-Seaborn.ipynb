{
 "cells": [
  {
   "cell_type": "markdown",
   "id": "7424bccd",
   "metadata": {},
   "source": [
    "# \"Seaborn: visualización de datos en Python\"\n",
    "> \"Guía de referencia básica de la librería Seaborn de Python\"\n",
    "\n",
    "- toc: true\n",
    "- branch: master\n",
    "- badges: true\n",
    "- comments: true\n",
    "- categories: [python, kaggle, ML]\n",
    "- image: images/python.png\n",
    "- hide: false\n",
    "- search_exclude: true\n",
    "- metadata_key1: metadata_value1\n",
    "- metadata_key2: metadata_value2"
   ]
  },
  {
   "cell_type": "markdown",
   "id": "f77efb9f",
   "metadata": {},
   "source": [
    "> tip: Puedes ver este post en GitHub o ejecutarlo en Binder o Google Colab, pulsa el icono."
   ]
  },
  {
   "cell_type": "markdown",
   "id": "3d5d3f3d",
   "metadata": {},
   "source": [
    "Fuentes:<br>\n",
    "[Cursos Machine Learning - Kaggle](https://www.kaggle.com/learn)<br>\n"
   ]
  },
  {
   "cell_type": "code",
   "execution_count": 3,
   "id": "f7337905",
   "metadata": {},
   "outputs": [],
   "source": [
    "import pandas as pd\n",
    "pd.plotting.register_matplotlib_converters()\n",
    "import matplotlib.pyplot as plt\n",
    "%matplotlib inline              # para dibujar los gráficos en el Notebook\n",
    "import seaborn as sns"
   ]
  },
  {
   "cell_type": "code",
   "execution_count": null,
   "id": "0d824372",
   "metadata": {},
   "outputs": [],
   "source": [
    "plt.figure(figsize=(16,6))  # Establece el ancho y alto de la figura\n",
    "plt.title(\"Título del gráfico\")\n",
    "plt.ylabel(\"Etiqueta eje y\")\n",
    "plt.xlabel(\"Etiqueta eje x\")\n",
    "plt.xlim(0,10)\n",
    "plt.ylim(10,20)\n",
    "\n",
    "sns.set_style(\"dark\") #  (1)\"darkgrid\", (2)\"whitegrid\", (3)\"dark\", (4)\"white\", and (5)\"ticks\""
   ]
  },
  {
   "cell_type": "code",
   "execution_count": null,
   "id": "c883e2d7",
   "metadata": {},
   "outputs": [],
   "source": [
    "fig, axs = plt.subplots(2, 2)\n",
    "fig.suptitle('Gráfico múltiple')\n",
    "axs[0, 0].plot(x, y)\n",
    "axs[0, 0].set_title('Axis [0, 0]')\n",
    "axs[0, 1].plot(x, y, 'tab:orange')\n",
    "axs[0, 1].set_title('Axis [0, 1]')\n",
    "axs[1, 0].plot(x, -y, 'tab:green')\n",
    "axs[1, 0].set_title('Axis [1, 0]')\n",
    "axs[1, 1].plot(x, -y, 'tab:red')\n",
    "axs[1, 1].set_title('Axis [1, 1]')\n"
   ]
  },
  {
   "cell_type": "markdown",
   "id": "72ac805d",
   "metadata": {},
   "source": [
    "## Tendencias a lo largo del tiempo"
   ]
  },
  {
   "cell_type": "code",
   "execution_count": null,
   "id": "50b2cd27",
   "metadata": {},
   "outputs": [],
   "source": [
    "sns.lineplot(data=datos)   # gráfico de lineas"
   ]
  },
  {
   "cell_type": "markdown",
   "id": "5ff03cb3",
   "metadata": {},
   "source": [
    "## Relación"
   ]
  },
  {
   "cell_type": "markdown",
   "id": "f167bca9",
   "metadata": {},
   "source": [
    "### Comparación cantidades de grupos diferentes"
   ]
  },
  {
   "cell_type": "code",
   "execution_count": null,
   "id": "8b46dfe3",
   "metadata": {},
   "outputs": [],
   "source": [
    "sns.barplot(x=datos.index, y=datos['ColumnaA']) # gráfico de barras"
   ]
  },
  {
   "cell_type": "markdown",
   "id": "d031c07a",
   "metadata": {},
   "source": [
    "### Encontrar patrones de color en tablas de números"
   ]
  },
  {
   "cell_type": "code",
   "execution_count": null,
   "id": "ec760552",
   "metadata": {},
   "outputs": [],
   "source": [
    "sns.heatmap(data=datos, annot=True)  # annot -> escribe los valores en cada celda"
   ]
  },
  {
   "cell_type": "markdown",
   "id": "4da1a5c6",
   "metadata": {},
   "source": [
    "### Relación entre dos variables continuas (y una tercera)"
   ]
  },
  {
   "cell_type": "code",
   "execution_count": null,
   "id": "f678c617",
   "metadata": {},
   "outputs": [],
   "source": [
    "sns.scatterplot(x=datos['columnaA'], y=datos['columnaB'], hue=datos['columnaC'])"
   ]
  },
  {
   "cell_type": "markdown",
   "id": "90018bc1",
   "metadata": {},
   "source": [
    "### Dibujar múltiples líneas de regresión "
   ]
  },
  {
   "cell_type": "code",
   "execution_count": null,
   "id": "d2158bf3",
   "metadata": {},
   "outputs": [],
   "source": [
    "sns.lmplot(x=\"columnaA\", y=\"columnaB\", hue=\"columnaC\", data=datos)"
   ]
  },
  {
   "cell_type": "markdown",
   "id": "bbabe29b",
   "metadata": {},
   "source": [
    "### Relación entre una variable contínua y otra categórica"
   ]
  },
  {
   "cell_type": "code",
   "execution_count": null,
   "id": "9ce42a39",
   "metadata": {},
   "outputs": [],
   "source": [
    "sns.swarmplot(x=datos['columnaA'], y=datos['columnaB'])"
   ]
  },
  {
   "cell_type": "markdown",
   "id": "c3ab4f9a",
   "metadata": {},
   "source": [
    "## Distribución"
   ]
  },
  {
   "cell_type": "code",
   "execution_count": null,
   "id": "8c9edd32",
   "metadata": {},
   "outputs": [],
   "source": [
    "sns.distplot(a=datos['ColumnaA'], kde=False)\n",
    "sns.kdeplot(data=datos['ColumnaA'], shade=True)\n",
    "sns.jointplot(x=datos['ColumnaA'], y=datos['ColumnaB'], kind=\"kde\")"
   ]
  }
 ],
 "metadata": {
  "kernelspec": {
   "display_name": "Python 3 (ipykernel)",
   "language": "python",
   "name": "python3"
  },
  "language_info": {
   "codemirror_mode": {
    "name": "ipython",
    "version": 3
   },
   "file_extension": ".py",
   "mimetype": "text/x-python",
   "name": "python",
   "nbconvert_exporter": "python",
   "pygments_lexer": "ipython3",
   "version": "3.8.10"
  }
 },
 "nbformat": 4,
 "nbformat_minor": 5
}
