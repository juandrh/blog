{
 "cells": [
  {
   "cell_type": "code",
   "execution_count": null,
   "id": "b6618812",
   "metadata": {},
   "outputs": [],
   "source": [
    "# \"Aplicación Web con DL\"\n",
    "> \"por juandrh2.0\"\n",
    "\n",
    "- toc: false\n",
    "- branch: master\n",
    "- badges: true\n",
    "- comments: true\n",
    "- categories: [curso_Fast.ai]\n",
    "- image: images/some_folder/your_image.png\n",
    "- hide: false\n",
    "- search_exclude: true\n",
    "- metadata_key1: metadata_value1\n",
    "- metadata_key2: metadata_value2"
   ]
  },
  {
   "cell_type": "markdown",
   "id": "3bff0cd2",
   "metadata": {},
   "source": [
    "# Lección 03: Herramientas y conceptos fundamentales de deep learning"
   ]
  },
  {
   "cell_type": "markdown",
   "id": "cbd3ae82",
   "metadata": {},
   "source": [
    "<a href=\"https://course.fast.ai/\">Practical Deep Learning for Coders</a>\n"
   ]
  },
  {
   "cell_type": "markdown",
   "id": "1346d207",
   "metadata": {},
   "source": [
    "Consejo: ser tenaz, seguir intentándo resolver los problemas. "
   ]
  },
  {
   "cell_type": "markdown",
   "id": "1c0aa523",
   "metadata": {},
   "source": [
    "## Fundamentos de visión por ordenador"
   ]
  },
  {
   "cell_type": "markdown",
   "id": "6ce9322d",
   "metadata": {},
   "source": [
    "Usaremos el conjunto de datos MNIST, compuesto por digitos escritos a mano. Aprenderemos a crear un sistema que los reconozca."
   ]
  },
  {
   "cell_type": "markdown",
   "id": "c1e98454",
   "metadata": {},
   "source": [
    "### Manejo de los datos"
   ]
  },
  {
   "cell_type": "code",
   "execution_count": 6,
   "id": "54376541",
   "metadata": {},
   "outputs": [],
   "source": [
    "# Cargar lo datos\n",
    "path = untar_data(URLs.MNIST_SAMPLE)\n",
    "Path.BASE_PATH = path"
   ]
  },
  {
   "cell_type": "code",
   "execution_count": 7,
   "id": "05df7a45",
   "metadata": {
    "collapsed": true
   },
   "outputs": [
    {
     "data": {
      "text/plain": [
       "(#3) [Path('valid'),Path('labels.csv'),Path('train')]"
      ]
     },
     "execution_count": 7,
     "metadata": {},
     "output_type": "execute_result"
    }
   ],
   "source": [
    "# listar archivos/carpetas de un directorio\n",
    "path.ls()"
   ]
  },
  {
   "cell_type": "code",
   "execution_count": 15,
   "id": "c05938b0",
   "metadata": {
    "collapsed": true
   },
   "outputs": [
    {
     "data": {
      "text/plain": [
       "(#6265) [Path('train/7/10002.png'),Path('train/7/1001.png'),Path('train/7/10014.png'),Path('train/7/10019.png'),Path('train/7/10039.png'),Path('train/7/10046.png'),Path('train/7/10050.png'),Path('train/7/10063.png'),Path('train/7/10077.png'),Path('train/7/10086.png')...]"
      ]
     },
     "execution_count": 15,
     "metadata": {},
     "output_type": "execute_result"
    }
   ],
   "source": [
    "# crear dos vectores con los listados de archivos\n",
    "treses=(path/'train'/'3').ls().sorted()\n",
    "sietes=(path/'train'/'7').ls().sorted()\n"
   ]
  },
  {
   "cell_type": "code",
   "execution_count": 12,
   "id": "bde8b9b1",
   "metadata": {},
   "outputs": [
    {
     "data": {
      "image/png": "[encoded data removed]",
      "text/plain": [
       "<PIL.PngImagePlugin.PngImageFile image mode=L size=28x28 at 0x7F6293949AC0>"
      ]
     },
     "execution_count": 12,
     "metadata": {},
     "output_type": "execute_result"
    }
   ],
   "source": [
    "# mostrar una imagen \n",
    "img3_path = treses[1]\n",
    "img3 = Image.open(img3_path)\n",
    "img3"
   ]
  },
  {
   "cell_type": "code",
   "execution_count": 14,
   "id": "84f26f78",
   "metadata": {},
   "outputs": [
    {
     "data": {
      "text/html": [
       "<style type=\"text/css\">\n",
       "#T_86cf1_row0_col0, #T_86cf1_row0_col1, #T_86cf1_row0_col2, #T_86cf1_row0_col3, #T_86cf1_row0_col4, #T_86cf1_row0_col5, #T_86cf1_row0_col6, #T_86cf1_row0_col7, #T_86cf1_row0_col8, #T_86cf1_row0_col9, #T_86cf1_row0_col10, #T_86cf1_row0_col11, #T_86cf1_row0_col12, #T_86cf1_row0_col13, #T_86cf1_row0_col14, #T_86cf1_row1_col0, #T_86cf1_row1_col1, #T_86cf1_row1_col2, #T_86cf1_row1_col3, #T_86cf1_row1_col4, #T_86cf1_row1_col5, #T_86cf1_row1_col6, #T_86cf1_row1_col7, #T_86cf1_row1_col8, #T_86cf1_row2_col0, #T_86cf1_row2_col1, #T_86cf1_row2_col2, #T_86cf1_row2_col3, #T_86cf1_row2_col4, #T_86cf1_row2_col5, #T_86cf1_row2_col6, #T_86cf1_row3_col0, #T_86cf1_row3_col1, #T_86cf1_row3_col2, #T_86cf1_row3_col3, #T_86cf1_row3_col4, #T_86cf1_row4_col0, #T_86cf1_row4_col1, #T_86cf1_row4_col2, #T_86cf1_row4_col3, #T_86cf1_row4_col4, #T_86cf1_row4_col10, #T_86cf1_row4_col11, #T_86cf1_row4_col12, #T_86cf1_row4_col13, #T_86cf1_row4_col14, #T_86cf1_row5_col0, #T_86cf1_row5_col1, #T_86cf1_row5_col2, #T_86cf1_row5_col3, #T_86cf1_row5_col4, #T_86cf1_row5_col9, #T_86cf1_row5_col10, #T_86cf1_row5_col11, #T_86cf1_row5_col12, #T_86cf1_row5_col13, #T_86cf1_row6_col0, #T_86cf1_row6_col1, #T_86cf1_row6_col2, #T_86cf1_row6_col3, #T_86cf1_row6_col4, #T_86cf1_row6_col5, #T_86cf1_row6_col6, #T_86cf1_row6_col7, #T_86cf1_row6_col8, #T_86cf1_row6_col9, #T_86cf1_row6_col10, #T_86cf1_row6_col11, #T_86cf1_row6_col12, #T_86cf1_row6_col13, #T_86cf1_row7_col0, #T_86cf1_row7_col1, #T_86cf1_row7_col2, #T_86cf1_row7_col3, #T_86cf1_row7_col4, #T_86cf1_row7_col5, #T_86cf1_row7_col6, #T_86cf1_row7_col7, #T_86cf1_row7_col8, #T_86cf1_row7_col9, #T_86cf1_row7_col10, #T_86cf1_row8_col0, #T_86cf1_row8_col1, #T_86cf1_row8_col2, #T_86cf1_row8_col3, #T_86cf1_row8_col4, #T_86cf1_row8_col5, #T_86cf1_row8_col6, #T_86cf1_row8_col7, #T_86cf1_row8_col8, #T_86cf1_row9_col0, #T_86cf1_row9_col1, #T_86cf1_row9_col2, #T_86cf1_row9_col3, #T_86cf1_row9_col4, #T_86cf1_row9_col5, #T_86cf1_row9_col6, #T_86cf1_row9_col7, #T_86cf1_row9_col8, #T_86cf1_row10_col0, #T_86cf1_row10_col1, #T_86cf1_row10_col2, #T_86cf1_row10_col3, #T_86cf1_row10_col4, #T_86cf1_row10_col5, #T_86cf1_row10_col6, #T_86cf1_row10_col7, #T_86cf1_row10_col8, #T_86cf1_row10_col9, #T_86cf1_row10_col10 {\n",
       "  font-size: 6pt;\n",
       "  background-color: #ffffff;\n",
       "  color: #000000;\n",
       "}\n",
       "#T_86cf1_row1_col9 {\n",
       "  font-size: 6pt;\n",
       "  background-color: #efefef;\n",
       "  color: #000000;\n",
       "}\n",
       "#T_86cf1_row1_col10 {\n",
       "  font-size: 6pt;\n",
       "  background-color: #7c7c7c;\n",
       "  color: #f1f1f1;\n",
       "}\n",
       "#T_86cf1_row1_col11 {\n",
       "  font-size: 6pt;\n",
       "  background-color: #4a4a4a;\n",
       "  color: #f1f1f1;\n",
       "}\n",
       "#T_86cf1_row1_col12, #T_86cf1_row1_col13, #T_86cf1_row1_col14, #T_86cf1_row2_col9, #T_86cf1_row2_col10, #T_86cf1_row2_col11, #T_86cf1_row3_col8, #T_86cf1_row4_col5, #T_86cf1_row4_col6, #T_86cf1_row4_col7 {\n",
       "  font-size: 6pt;\n",
       "  background-color: #000000;\n",
       "  color: #f1f1f1;\n",
       "}\n",
       "#T_86cf1_row2_col7 {\n",
       "  font-size: 6pt;\n",
       "  background-color: #e4e4e4;\n",
       "  color: #000000;\n",
       "}\n",
       "#T_86cf1_row2_col8, #T_86cf1_row8_col10 {\n",
       "  font-size: 6pt;\n",
       "  background-color: #6b6b6b;\n",
       "  color: #f1f1f1;\n",
       "}\n",
       "#T_86cf1_row2_col12 {\n",
       "  font-size: 6pt;\n",
       "  background-color: #171717;\n",
       "  color: #f1f1f1;\n",
       "}\n",
       "#T_86cf1_row2_col13 {\n",
       "  font-size: 6pt;\n",
       "  background-color: #4b4b4b;\n",
       "  color: #f1f1f1;\n",
       "}\n",
       "#T_86cf1_row2_col14, #T_86cf1_row7_col14, #T_86cf1_row8_col12, #T_86cf1_row8_col14, #T_86cf1_row9_col12, #T_86cf1_row9_col14 {\n",
       "  font-size: 6pt;\n",
       "  background-color: #010101;\n",
       "  color: #f1f1f1;\n",
       "}\n",
       "#T_86cf1_row3_col5 {\n",
       "  font-size: 6pt;\n",
       "  background-color: #272727;\n",
       "  color: #f1f1f1;\n",
       "}\n",
       "#T_86cf1_row3_col6 {\n",
       "  font-size: 6pt;\n",
       "  background-color: #0a0a0a;\n",
       "  color: #f1f1f1;\n",
       "}\n",
       "#T_86cf1_row3_col7 {\n",
       "  font-size: 6pt;\n",
       "  background-color: #050505;\n",
       "  color: #f1f1f1;\n",
       "}\n",
       "#T_86cf1_row3_col9 {\n",
       "  font-size: 6pt;\n",
       "  background-color: #333333;\n",
       "  color: #f1f1f1;\n",
       "}\n",
       "#T_86cf1_row3_col10 {\n",
       "  font-size: 6pt;\n",
       "  background-color: #e6e6e6;\n",
       "  color: #000000;\n",
       "}\n",
       "#T_86cf1_row3_col11, #T_86cf1_row3_col14 {\n",
       "  font-size: 6pt;\n",
       "  background-color: #fafafa;\n",
       "  color: #000000;\n",
       "}\n",
       "#T_86cf1_row3_col12 {\n",
       "  font-size: 6pt;\n",
       "  background-color: #fbfbfb;\n",
       "  color: #000000;\n",
       "}\n",
       "#T_86cf1_row3_col13 {\n",
       "  font-size: 6pt;\n",
       "  background-color: #fdfdfd;\n",
       "  color: #000000;\n",
       "}\n",
       "#T_86cf1_row4_col8 {\n",
       "  font-size: 6pt;\n",
       "  background-color: #1b1b1b;\n",
       "  color: #f1f1f1;\n",
       "}\n",
       "#T_86cf1_row4_col9 {\n",
       "  font-size: 6pt;\n",
       "  background-color: #e0e0e0;\n",
       "  color: #000000;\n",
       "}\n",
       "#T_86cf1_row5_col5 {\n",
       "  font-size: 6pt;\n",
       "  background-color: #fcfcfc;\n",
       "  color: #000000;\n",
       "}\n",
       "#T_86cf1_row5_col6, #T_86cf1_row5_col7 {\n",
       "  font-size: 6pt;\n",
       "  background-color: #f6f6f6;\n",
       "  color: #000000;\n",
       "}\n",
       "#T_86cf1_row5_col8, #T_86cf1_row7_col11 {\n",
       "  font-size: 6pt;\n",
       "  background-color: #f8f8f8;\n",
       "  color: #000000;\n",
       "}\n",
       "#T_86cf1_row5_col14, #T_86cf1_row10_col11 {\n",
       "  font-size: 6pt;\n",
       "  background-color: #e8e8e8;\n",
       "  color: #000000;\n",
       "}\n",
       "#T_86cf1_row6_col14, #T_86cf1_row9_col10 {\n",
       "  font-size: 6pt;\n",
       "  background-color: #060606;\n",
       "  color: #f1f1f1;\n",
       "}\n",
       "#T_86cf1_row7_col12 {\n",
       "  font-size: 6pt;\n",
       "  background-color: #b6b6b6;\n",
       "  color: #000000;\n",
       "}\n",
       "#T_86cf1_row7_col13 {\n",
       "  font-size: 6pt;\n",
       "  background-color: #252525;\n",
       "  color: #f1f1f1;\n",
       "}\n",
       "#T_86cf1_row8_col9 {\n",
       "  font-size: 6pt;\n",
       "  background-color: #f9f9f9;\n",
       "  color: #000000;\n",
       "}\n",
       "#T_86cf1_row8_col11 {\n",
       "  font-size: 6pt;\n",
       "  background-color: #101010;\n",
       "  color: #f1f1f1;\n",
       "}\n",
       "#T_86cf1_row8_col13, #T_86cf1_row9_col13 {\n",
       "  font-size: 6pt;\n",
       "  background-color: #020202;\n",
       "  color: #f1f1f1;\n",
       "}\n",
       "#T_86cf1_row9_col9 {\n",
       "  font-size: 6pt;\n",
       "  background-color: #f7f7f7;\n",
       "  color: #000000;\n",
       "}\n",
       "#T_86cf1_row9_col11 {\n",
       "  font-size: 6pt;\n",
       "  background-color: #030303;\n",
       "  color: #f1f1f1;\n",
       "}\n",
       "#T_86cf1_row10_col12, #T_86cf1_row10_col13 {\n",
       "  font-size: 6pt;\n",
       "  background-color: #bababa;\n",
       "  color: #000000;\n",
       "}\n",
       "#T_86cf1_row10_col14 {\n",
       "  font-size: 6pt;\n",
       "  background-color: #393939;\n",
       "  color: #f1f1f1;\n",
       "}\n",
       "</style>\n",
       "<table id=\"T_86cf1_\">\n",
       "  <thead>\n",
       "    <tr>\n",
       "      <th class=\"blank level0\" >&nbsp;</th>\n",
       "      <th class=\"col_heading level0 col0\" >0</th>\n",
       "      <th class=\"col_heading level0 col1\" >1</th>\n",
       "      <th class=\"col_heading level0 col2\" >2</th>\n",
       "      <th class=\"col_heading level0 col3\" >3</th>\n",
       "      <th class=\"col_heading level0 col4\" >4</th>\n",
       "      <th class=\"col_heading level0 col5\" >5</th>\n",
       "      <th class=\"col_heading level0 col6\" >6</th>\n",
       "      <th class=\"col_heading level0 col7\" >7</th>\n",
       "      <th class=\"col_heading level0 col8\" >8</th>\n",
       "      <th class=\"col_heading level0 col9\" >9</th>\n",
       "      <th class=\"col_heading level0 col10\" >10</th>\n",
       "      <th class=\"col_heading level0 col11\" >11</th>\n",
       "      <th class=\"col_heading level0 col12\" >12</th>\n",
       "      <th class=\"col_heading level0 col13\" >13</th>\n",
       "      <th class=\"col_heading level0 col14\" >14</th>\n",
       "    </tr>\n",
       "  </thead>\n",
       "  <tbody>\n",
       "    <tr>\n",
       "      <th id=\"T_86cf1_level0_row0\" class=\"row_heading level0 row0\" >0</th>\n",
       "      <td id=\"T_86cf1_row0_col0\" class=\"data row0 col0\" >0</td>\n",
       "      <td id=\"T_86cf1_row0_col1\" class=\"data row0 col1\" >0</td>\n",
       "      <td id=\"T_86cf1_row0_col2\" class=\"data row0 col2\" >0</td>\n",
       "      <td id=\"T_86cf1_row0_col3\" class=\"data row0 col3\" >0</td>\n",
       "      <td id=\"T_86cf1_row0_col4\" class=\"data row0 col4\" >0</td>\n",
       "      <td id=\"T_86cf1_row0_col5\" class=\"data row0 col5\" >0</td>\n",
       "      <td id=\"T_86cf1_row0_col6\" class=\"data row0 col6\" >0</td>\n",
       "      <td id=\"T_86cf1_row0_col7\" class=\"data row0 col7\" >0</td>\n",
       "      <td id=\"T_86cf1_row0_col8\" class=\"data row0 col8\" >0</td>\n",
       "      <td id=\"T_86cf1_row0_col9\" class=\"data row0 col9\" >0</td>\n",
       "      <td id=\"T_86cf1_row0_col10\" class=\"data row0 col10\" >0</td>\n",
       "      <td id=\"T_86cf1_row0_col11\" class=\"data row0 col11\" >0</td>\n",
       "      <td id=\"T_86cf1_row0_col12\" class=\"data row0 col12\" >0</td>\n",
       "      <td id=\"T_86cf1_row0_col13\" class=\"data row0 col13\" >0</td>\n",
       "      <td id=\"T_86cf1_row0_col14\" class=\"data row0 col14\" >0</td>\n",
       "    </tr>\n",
       "    <tr>\n",
       "      <th id=\"T_86cf1_level0_row1\" class=\"row_heading level0 row1\" >1</th>\n",
       "      <td id=\"T_86cf1_row1_col0\" class=\"data row1 col0\" >0</td>\n",
       "      <td id=\"T_86cf1_row1_col1\" class=\"data row1 col1\" >0</td>\n",
       "      <td id=\"T_86cf1_row1_col2\" class=\"data row1 col2\" >0</td>\n",
       "      <td id=\"T_86cf1_row1_col3\" class=\"data row1 col3\" >0</td>\n",
       "      <td id=\"T_86cf1_row1_col4\" class=\"data row1 col4\" >0</td>\n",
       "      <td id=\"T_86cf1_row1_col5\" class=\"data row1 col5\" >0</td>\n",
       "      <td id=\"T_86cf1_row1_col6\" class=\"data row1 col6\" >0</td>\n",
       "      <td id=\"T_86cf1_row1_col7\" class=\"data row1 col7\" >0</td>\n",
       "      <td id=\"T_86cf1_row1_col8\" class=\"data row1 col8\" >0</td>\n",
       "      <td id=\"T_86cf1_row1_col9\" class=\"data row1 col9\" >29</td>\n",
       "      <td id=\"T_86cf1_row1_col10\" class=\"data row1 col10\" >150</td>\n",
       "      <td id=\"T_86cf1_row1_col11\" class=\"data row1 col11\" >195</td>\n",
       "      <td id=\"T_86cf1_row1_col12\" class=\"data row1 col12\" >254</td>\n",
       "      <td id=\"T_86cf1_row1_col13\" class=\"data row1 col13\" >255</td>\n",
       "      <td id=\"T_86cf1_row1_col14\" class=\"data row1 col14\" >254</td>\n",
       "    </tr>\n",
       "    <tr>\n",
       "      <th id=\"T_86cf1_level0_row2\" class=\"row_heading level0 row2\" >2</th>\n",
       "      <td id=\"T_86cf1_row2_col0\" class=\"data row2 col0\" >0</td>\n",
       "      <td id=\"T_86cf1_row2_col1\" class=\"data row2 col1\" >0</td>\n",
       "      <td id=\"T_86cf1_row2_col2\" class=\"data row2 col2\" >0</td>\n",
       "      <td id=\"T_86cf1_row2_col3\" class=\"data row2 col3\" >0</td>\n",
       "      <td id=\"T_86cf1_row2_col4\" class=\"data row2 col4\" >0</td>\n",
       "      <td id=\"T_86cf1_row2_col5\" class=\"data row2 col5\" >0</td>\n",
       "      <td id=\"T_86cf1_row2_col6\" class=\"data row2 col6\" >0</td>\n",
       "      <td id=\"T_86cf1_row2_col7\" class=\"data row2 col7\" >48</td>\n",
       "      <td id=\"T_86cf1_row2_col8\" class=\"data row2 col8\" >166</td>\n",
       "      <td id=\"T_86cf1_row2_col9\" class=\"data row2 col9\" >224</td>\n",
       "      <td id=\"T_86cf1_row2_col10\" class=\"data row2 col10\" >253</td>\n",
       "      <td id=\"T_86cf1_row2_col11\" class=\"data row2 col11\" >253</td>\n",
       "      <td id=\"T_86cf1_row2_col12\" class=\"data row2 col12\" >234</td>\n",
       "      <td id=\"T_86cf1_row2_col13\" class=\"data row2 col13\" >196</td>\n",
       "      <td id=\"T_86cf1_row2_col14\" class=\"data row2 col14\" >253</td>\n",
       "    </tr>\n",
       "    <tr>\n",
       "      <th id=\"T_86cf1_level0_row3\" class=\"row_heading level0 row3\" >3</th>\n",
       "      <td id=\"T_86cf1_row3_col0\" class=\"data row3 col0\" >0</td>\n",
       "      <td id=\"T_86cf1_row3_col1\" class=\"data row3 col1\" >0</td>\n",
       "      <td id=\"T_86cf1_row3_col2\" class=\"data row3 col2\" >0</td>\n",
       "      <td id=\"T_86cf1_row3_col3\" class=\"data row3 col3\" >0</td>\n",
       "      <td id=\"T_86cf1_row3_col4\" class=\"data row3 col4\" >0</td>\n",
       "      <td id=\"T_86cf1_row3_col5\" class=\"data row3 col5\" >93</td>\n",
       "      <td id=\"T_86cf1_row3_col6\" class=\"data row3 col6\" >244</td>\n",
       "      <td id=\"T_86cf1_row3_col7\" class=\"data row3 col7\" >249</td>\n",
       "      <td id=\"T_86cf1_row3_col8\" class=\"data row3 col8\" >253</td>\n",
       "      <td id=\"T_86cf1_row3_col9\" class=\"data row3 col9\" >187</td>\n",
       "      <td id=\"T_86cf1_row3_col10\" class=\"data row3 col10\" >46</td>\n",
       "      <td id=\"T_86cf1_row3_col11\" class=\"data row3 col11\" >10</td>\n",
       "      <td id=\"T_86cf1_row3_col12\" class=\"data row3 col12\" >8</td>\n",
       "      <td id=\"T_86cf1_row3_col13\" class=\"data row3 col13\" >4</td>\n",
       "      <td id=\"T_86cf1_row3_col14\" class=\"data row3 col14\" >10</td>\n",
       "    </tr>\n",
       "    <tr>\n",
       "      <th id=\"T_86cf1_level0_row4\" class=\"row_heading level0 row4\" >4</th>\n",
       "      <td id=\"T_86cf1_row4_col0\" class=\"data row4 col0\" >0</td>\n",
       "      <td id=\"T_86cf1_row4_col1\" class=\"data row4 col1\" >0</td>\n",
       "      <td id=\"T_86cf1_row4_col2\" class=\"data row4 col2\" >0</td>\n",
       "      <td id=\"T_86cf1_row4_col3\" class=\"data row4 col3\" >0</td>\n",
       "      <td id=\"T_86cf1_row4_col4\" class=\"data row4 col4\" >0</td>\n",
       "      <td id=\"T_86cf1_row4_col5\" class=\"data row4 col5\" >107</td>\n",
       "      <td id=\"T_86cf1_row4_col6\" class=\"data row4 col6\" >253</td>\n",
       "      <td id=\"T_86cf1_row4_col7\" class=\"data row4 col7\" >253</td>\n",
       "      <td id=\"T_86cf1_row4_col8\" class=\"data row4 col8\" >230</td>\n",
       "      <td id=\"T_86cf1_row4_col9\" class=\"data row4 col9\" >48</td>\n",
       "      <td id=\"T_86cf1_row4_col10\" class=\"data row4 col10\" >0</td>\n",
       "      <td id=\"T_86cf1_row4_col11\" class=\"data row4 col11\" >0</td>\n",
       "      <td id=\"T_86cf1_row4_col12\" class=\"data row4 col12\" >0</td>\n",
       "      <td id=\"T_86cf1_row4_col13\" class=\"data row4 col13\" >0</td>\n",
       "      <td id=\"T_86cf1_row4_col14\" class=\"data row4 col14\" >0</td>\n",
       "    </tr>\n",
       "    <tr>\n",
       "      <th id=\"T_86cf1_level0_row5\" class=\"row_heading level0 row5\" >5</th>\n",
       "      <td id=\"T_86cf1_row5_col0\" class=\"data row5 col0\" >0</td>\n",
       "      <td id=\"T_86cf1_row5_col1\" class=\"data row5 col1\" >0</td>\n",
       "      <td id=\"T_86cf1_row5_col2\" class=\"data row5 col2\" >0</td>\n",
       "      <td id=\"T_86cf1_row5_col3\" class=\"data row5 col3\" >0</td>\n",
       "      <td id=\"T_86cf1_row5_col4\" class=\"data row5 col4\" >0</td>\n",
       "      <td id=\"T_86cf1_row5_col5\" class=\"data row5 col5\" >3</td>\n",
       "      <td id=\"T_86cf1_row5_col6\" class=\"data row5 col6\" >20</td>\n",
       "      <td id=\"T_86cf1_row5_col7\" class=\"data row5 col7\" >20</td>\n",
       "      <td id=\"T_86cf1_row5_col8\" class=\"data row5 col8\" >15</td>\n",
       "      <td id=\"T_86cf1_row5_col9\" class=\"data row5 col9\" >0</td>\n",
       "      <td id=\"T_86cf1_row5_col10\" class=\"data row5 col10\" >0</td>\n",
       "      <td id=\"T_86cf1_row5_col11\" class=\"data row5 col11\" >0</td>\n",
       "      <td id=\"T_86cf1_row5_col12\" class=\"data row5 col12\" >0</td>\n",
       "      <td id=\"T_86cf1_row5_col13\" class=\"data row5 col13\" >0</td>\n",
       "      <td id=\"T_86cf1_row5_col14\" class=\"data row5 col14\" >43</td>\n",
       "    </tr>\n",
       "    <tr>\n",
       "      <th id=\"T_86cf1_level0_row6\" class=\"row_heading level0 row6\" >6</th>\n",
       "      <td id=\"T_86cf1_row6_col0\" class=\"data row6 col0\" >0</td>\n",
       "      <td id=\"T_86cf1_row6_col1\" class=\"data row6 col1\" >0</td>\n",
       "      <td id=\"T_86cf1_row6_col2\" class=\"data row6 col2\" >0</td>\n",
       "      <td id=\"T_86cf1_row6_col3\" class=\"data row6 col3\" >0</td>\n",
       "      <td id=\"T_86cf1_row6_col4\" class=\"data row6 col4\" >0</td>\n",
       "      <td id=\"T_86cf1_row6_col5\" class=\"data row6 col5\" >0</td>\n",
       "      <td id=\"T_86cf1_row6_col6\" class=\"data row6 col6\" >0</td>\n",
       "      <td id=\"T_86cf1_row6_col7\" class=\"data row6 col7\" >0</td>\n",
       "      <td id=\"T_86cf1_row6_col8\" class=\"data row6 col8\" >0</td>\n",
       "      <td id=\"T_86cf1_row6_col9\" class=\"data row6 col9\" >0</td>\n",
       "      <td id=\"T_86cf1_row6_col10\" class=\"data row6 col10\" >0</td>\n",
       "      <td id=\"T_86cf1_row6_col11\" class=\"data row6 col11\" >0</td>\n",
       "      <td id=\"T_86cf1_row6_col12\" class=\"data row6 col12\" >0</td>\n",
       "      <td id=\"T_86cf1_row6_col13\" class=\"data row6 col13\" >0</td>\n",
       "      <td id=\"T_86cf1_row6_col14\" class=\"data row6 col14\" >249</td>\n",
       "    </tr>\n",
       "    <tr>\n",
       "      <th id=\"T_86cf1_level0_row7\" class=\"row_heading level0 row7\" >7</th>\n",
       "      <td id=\"T_86cf1_row7_col0\" class=\"data row7 col0\" >0</td>\n",
       "      <td id=\"T_86cf1_row7_col1\" class=\"data row7 col1\" >0</td>\n",
       "      <td id=\"T_86cf1_row7_col2\" class=\"data row7 col2\" >0</td>\n",
       "      <td id=\"T_86cf1_row7_col3\" class=\"data row7 col3\" >0</td>\n",
       "      <td id=\"T_86cf1_row7_col4\" class=\"data row7 col4\" >0</td>\n",
       "      <td id=\"T_86cf1_row7_col5\" class=\"data row7 col5\" >0</td>\n",
       "      <td id=\"T_86cf1_row7_col6\" class=\"data row7 col6\" >0</td>\n",
       "      <td id=\"T_86cf1_row7_col7\" class=\"data row7 col7\" >0</td>\n",
       "      <td id=\"T_86cf1_row7_col8\" class=\"data row7 col8\" >0</td>\n",
       "      <td id=\"T_86cf1_row7_col9\" class=\"data row7 col9\" >0</td>\n",
       "      <td id=\"T_86cf1_row7_col10\" class=\"data row7 col10\" >0</td>\n",
       "      <td id=\"T_86cf1_row7_col11\" class=\"data row7 col11\" >14</td>\n",
       "      <td id=\"T_86cf1_row7_col12\" class=\"data row7 col12\" >101</td>\n",
       "      <td id=\"T_86cf1_row7_col13\" class=\"data row7 col13\" >223</td>\n",
       "      <td id=\"T_86cf1_row7_col14\" class=\"data row7 col14\" >253</td>\n",
       "    </tr>\n",
       "    <tr>\n",
       "      <th id=\"T_86cf1_level0_row8\" class=\"row_heading level0 row8\" >8</th>\n",
       "      <td id=\"T_86cf1_row8_col0\" class=\"data row8 col0\" >0</td>\n",
       "      <td id=\"T_86cf1_row8_col1\" class=\"data row8 col1\" >0</td>\n",
       "      <td id=\"T_86cf1_row8_col2\" class=\"data row8 col2\" >0</td>\n",
       "      <td id=\"T_86cf1_row8_col3\" class=\"data row8 col3\" >0</td>\n",
       "      <td id=\"T_86cf1_row8_col4\" class=\"data row8 col4\" >0</td>\n",
       "      <td id=\"T_86cf1_row8_col5\" class=\"data row8 col5\" >0</td>\n",
       "      <td id=\"T_86cf1_row8_col6\" class=\"data row8 col6\" >0</td>\n",
       "      <td id=\"T_86cf1_row8_col7\" class=\"data row8 col7\" >0</td>\n",
       "      <td id=\"T_86cf1_row8_col8\" class=\"data row8 col8\" >0</td>\n",
       "      <td id=\"T_86cf1_row8_col9\" class=\"data row8 col9\" >11</td>\n",
       "      <td id=\"T_86cf1_row8_col10\" class=\"data row8 col10\" >166</td>\n",
       "      <td id=\"T_86cf1_row8_col11\" class=\"data row8 col11\" >239</td>\n",
       "      <td id=\"T_86cf1_row8_col12\" class=\"data row8 col12\" >253</td>\n",
       "      <td id=\"T_86cf1_row8_col13\" class=\"data row8 col13\" >253</td>\n",
       "      <td id=\"T_86cf1_row8_col14\" class=\"data row8 col14\" >253</td>\n",
       "    </tr>\n",
       "    <tr>\n",
       "      <th id=\"T_86cf1_level0_row9\" class=\"row_heading level0 row9\" >9</th>\n",
       "      <td id=\"T_86cf1_row9_col0\" class=\"data row9 col0\" >0</td>\n",
       "      <td id=\"T_86cf1_row9_col1\" class=\"data row9 col1\" >0</td>\n",
       "      <td id=\"T_86cf1_row9_col2\" class=\"data row9 col2\" >0</td>\n",
       "      <td id=\"T_86cf1_row9_col3\" class=\"data row9 col3\" >0</td>\n",
       "      <td id=\"T_86cf1_row9_col4\" class=\"data row9 col4\" >0</td>\n",
       "      <td id=\"T_86cf1_row9_col5\" class=\"data row9 col5\" >0</td>\n",
       "      <td id=\"T_86cf1_row9_col6\" class=\"data row9 col6\" >0</td>\n",
       "      <td id=\"T_86cf1_row9_col7\" class=\"data row9 col7\" >0</td>\n",
       "      <td id=\"T_86cf1_row9_col8\" class=\"data row9 col8\" >0</td>\n",
       "      <td id=\"T_86cf1_row9_col9\" class=\"data row9 col9\" >16</td>\n",
       "      <td id=\"T_86cf1_row9_col10\" class=\"data row9 col10\" >248</td>\n",
       "      <td id=\"T_86cf1_row9_col11\" class=\"data row9 col11\" >250</td>\n",
       "      <td id=\"T_86cf1_row9_col12\" class=\"data row9 col12\" >253</td>\n",
       "      <td id=\"T_86cf1_row9_col13\" class=\"data row9 col13\" >253</td>\n",
       "      <td id=\"T_86cf1_row9_col14\" class=\"data row9 col14\" >253</td>\n",
       "    </tr>\n",
       "    <tr>\n",
       "      <th id=\"T_86cf1_level0_row10\" class=\"row_heading level0 row10\" >10</th>\n",
       "      <td id=\"T_86cf1_row10_col0\" class=\"data row10 col0\" >0</td>\n",
       "      <td id=\"T_86cf1_row10_col1\" class=\"data row10 col1\" >0</td>\n",
       "      <td id=\"T_86cf1_row10_col2\" class=\"data row10 col2\" >0</td>\n",
       "      <td id=\"T_86cf1_row10_col3\" class=\"data row10 col3\" >0</td>\n",
       "      <td id=\"T_86cf1_row10_col4\" class=\"data row10 col4\" >0</td>\n",
       "      <td id=\"T_86cf1_row10_col5\" class=\"data row10 col5\" >0</td>\n",
       "      <td id=\"T_86cf1_row10_col6\" class=\"data row10 col6\" >0</td>\n",
       "      <td id=\"T_86cf1_row10_col7\" class=\"data row10 col7\" >0</td>\n",
       "      <td id=\"T_86cf1_row10_col8\" class=\"data row10 col8\" >0</td>\n",
       "      <td id=\"T_86cf1_row10_col9\" class=\"data row10 col9\" >0</td>\n",
       "      <td id=\"T_86cf1_row10_col10\" class=\"data row10 col10\" >0</td>\n",
       "      <td id=\"T_86cf1_row10_col11\" class=\"data row10 col11\" >43</td>\n",
       "      <td id=\"T_86cf1_row10_col12\" class=\"data row10 col12\" >98</td>\n",
       "      <td id=\"T_86cf1_row10_col13\" class=\"data row10 col13\" >98</td>\n",
       "      <td id=\"T_86cf1_row10_col14\" class=\"data row10 col14\" >208</td>\n",
       "    </tr>\n",
       "  </tbody>\n",
       "</table>\n"
      ],
      "text/plain": [
       "<pandas.io.formats.style.Styler at 0x7f6268f920a0>"
      ]
     },
     "execution_count": 14,
     "metadata": {},
     "output_type": "execute_result"
    }
   ],
   "source": [
    "# pasar la imagen a formato tabla\n",
    "img3t= tensor(img3)\n",
    "df = pd.DataFrame (img3t [4:15,:15])\n",
    "df.style.set_properties (**{'font-size':'6pt'}).background_gradient('Greys')"
   ]
  },
  {
   "cell_type": "markdown",
   "id": "0957820b",
   "metadata": {},
   "source": [
    "### Primera aproximación"
   ]
  },
  {
   "cell_type": "markdown",
   "id": "950d7c36",
   "metadata": {},
   "source": [
    "Antes de empezar con modelos más complejos se recomienda:\n",
    " - Usar un modelo muy sencillo y fácil de implementar: será mejor que un resultado aleatorio y servirá de base\n",
    " - Usar un modelo creado por otra persona con tus datos"
   ]
  },
  {
   "cell_type": "markdown",
   "id": "67588098",
   "metadata": {},
   "source": [
    "Modelo sencillo: Comparar con la media de los 3s y 7s"
   ]
  },
  {
   "cell_type": "code",
   "execution_count": 19,
   "id": "1bec41f7",
   "metadata": {},
   "outputs": [
    {
     "data": {
      "text/plain": [
       "(6131, 6265)"
      ]
     },
     "execution_count": 19,
     "metadata": {},
     "output_type": "execute_result"
    }
   ],
   "source": [
    "# creo dos tensores que agrupen todas las imagenes de cada uno\n",
    "tensores3=[tensor(Image.open(i)) for i in treses]\n",
    "tensores7=[tensor(Image.open(i)) for i in sietes]\n",
    "len(tensores3),len(tensores7)"
   ]
  },
  {
   "cell_type": "code",
   "execution_count": 22,
   "id": "409bc9f9",
   "metadata": {},
   "outputs": [
    {
     "data": {
      "text/plain": [
       "<AxesSubplot:>"
      ]
     },
     "execution_count": 22,
     "metadata": {},
     "output_type": "execute_result"
    },
    {
     "data": {
      "image/png": "[encoded data removed]",
      "text/plain": [
       "<Figure size 72x72 with 1 Axes>"
      ]
     },
     "metadata": {
      "needs_background": "light"
     },
     "output_type": "display_data"
    }
   ],
   "source": [
    "# mostrar una imagen a partir de un tensor\n",
    "show_image(tensores3[1])"
   ]
  },
  {
   "cell_type": "code",
   "execution_count": 23,
   "id": "a8e55c5d",
   "metadata": {},
   "outputs": [],
   "source": [
    "# crear tensores con las imagenes apiladas\n",
    "pila3s = torch.stack(tensores3).float()/255\n",
    "pila7s = torch.stack(tensores7).float()/255"
   ]
  },
  {
   "cell_type": "code",
   "execution_count": 27,
   "id": "26b2b683",
   "metadata": {},
   "outputs": [
    {
     "data": {
      "text/plain": [
       "torch.Size([6131, 28, 28])"
      ]
     },
     "execution_count": 27,
     "metadata": {},
     "output_type": "execute_result"
    }
   ],
   "source": [
    "# medir dimensiones del tensor \n",
    "pila3s.shape"
   ]
  },
  {
   "cell_type": "code",
   "execution_count": 32,
   "id": "cefb5edd",
   "metadata": {},
   "outputs": [
    {
     "data": {
      "text/plain": [
       "(3, 3)"
      ]
     },
     "execution_count": 32,
     "metadata": {},
     "output_type": "execute_result"
    }
   ],
   "source": [
    "# dos métodos de medir rango del tensor \n",
    "len(pila3s.shape), pila3s.ndim\n"
   ]
  },
  {
   "cell_type": "code",
   "execution_count": 36,
   "id": "80b1dd3b",
   "metadata": {},
   "outputs": [],
   "source": [
    "# calcular la media de cada uno de la primera dimensión (0)\n",
    "media3= pila3s.mean(0)\n",
    "media7= pila7s.mean(0)"
   ]
  },
  {
   "cell_type": "code",
   "execution_count": 40,
   "id": "f7420e5e",
   "metadata": {},
   "outputs": [
    {
     "data": {
      "text/plain": [
       "<AxesSubplot:>"
      ]
     },
     "execution_count": 40,
     "metadata": {},
     "output_type": "execute_result"
    },
    {
     "data": {
      "image/png": "[encoded data removed]",
      "text/plain": [
       "<Figure size 72x72 with 1 Axes>"
      ]
     },
     "metadata": {
      "needs_background": "light"
     },
     "output_type": "display_data"
    },
    {
     "data": {
      "image/png": "[encoded data removed]",
      "text/plain": [
       "<Figure size 72x72 with 1 Axes>"
      ]
     },
     "metadata": {
      "needs_background": "light"
     },
     "output_type": "display_data"
    }
   ],
   "source": [
    "show_image(media3)\n",
    "show_image(media7)"
   ]
  },
  {
   "cell_type": "code",
   "execution_count": null,
   "id": "74d0e12f",
   "metadata": {},
   "outputs": [],
   "source": []
  }
 ],
 "metadata": {
  "kernelspec": {
   "display_name": "Python 3 (ipykernel)",
   "language": "python",
   "name": "python3"
  },
  "language_info": {
   "codemirror_mode": {
    "name": "ipython",
    "version": 3
   },
   "file_extension": ".py",
   "mimetype": "text/x-python",
   "name": "python",
   "nbconvert_exporter": "python",
   "pygments_lexer": "ipython3",
   "version": "3.8.10"
  }
 },
 "nbformat": 4,
 "nbformat_minor": 5
}
