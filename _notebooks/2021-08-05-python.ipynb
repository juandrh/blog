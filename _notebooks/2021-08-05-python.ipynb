{
 "cells": [
  {
   "cell_type": "markdown",
   "id": "e1420bd2",
   "metadata": {},
   "source": [
    "# \"Python\"\n",
    "> \"Conceptos básicos para iniciarse\"\n",
    "\n",
    "- toc: true\n",
    "- branch: master\n",
    "- badges: true\n",
    "- comments: true\n",
    "- categories: [python]\n",
    "- image: images/python.png\n",
    "- hide: false\n",
    "- search_exclude: true\n",
    "- metadata_key1: metadata_value1\n",
    "- metadata_key2: metadata_value2"
   ]
  },
  {
   "cell_type": "markdown",
   "id": "f77efb9f",
   "metadata": {},
   "source": [
    "*Nota: Puedes ver este post en GitHub o ejecutarlo en Binder o Google Colab, pulsa el icono.*"
   ]
  },
  {
   "cell_type": "markdown",
   "id": "3d5d3f3d",
   "metadata": {},
   "source": [
    "Fuentes:<br>\n",
    "[Documentación oficial de Python](https://www.python.org/doc/)<br>\n",
    "[Curso básico de Python en Kaggle](https://www.kaggle.com/learn/python)<br>\n",
    "[Python for Absolute Beginners | Python 3 Complete Course ](https://www.udemy.com/share/102hZ42@PkdgfUtTT1IPck5EBkhOfT5u/)\n"
   ]
  },
  {
   "cell_type": "markdown",
   "id": "6a7d829f",
   "metadata": {},
   "source": [
    "## Conceptos básicos\n"
   ]
  },
  {
   "cell_type": "code",
   "execution_count": 105,
   "id": "a49e9699",
   "metadata": {},
   "outputs": [
    {
     "name": "stdout",
     "output_type": "stream",
     "text": [
      "hola hola hola hola \n",
      "15/7 = 2.142857142857143 y es del tipo <class 'float'>\n",
      "15//7 = 2 y es del tipo <class 'int'>\n",
      "2 elevado a 3 = 8\n",
      "La parte imaginaria de 2+3j es 3.0\n",
      "y tiene 4 bits\n"
     ]
    }
   ],
   "source": [
    "print (\"hola \" * 4)   #operaciones con cadenas\n",
    "print(\"15/7 = {0} y es del tipo {1}\".format(15/7,type(15/7)))  # división de números  \n",
    "print(\"15//7 = %d y es del tipo %s\"%(15//7,type(15//7)))       # división de números truncada\n",
    "print(\"2 elevado a 3 = %d\"%(2 ** 3))       # Elevar a la potencia\n",
    "x=2+3j\n",
    "print(\"La parte imaginaria de 2+3j es\",x.imag )\n",
    "y=8\n",
    "print(\"y tiene %d bits\"%y.bit_length())\n",
    "\n"
   ]
  },
  {
   "cell_type": "markdown",
   "id": "54f0bbff",
   "metadata": {},
   "source": [
    "#### Orden de precedencia en operadores aritméticos:\n",
    "\n",
    "\n",
    "Prioridad | Operadores\n",
    "---- | -------------\n",
    "1 |  **( )**\n",
    "2 |  **exponentes**\n",
    "3 |  **multiplicación / división**\n",
    "4 |  **suma / resta**\n"
   ]
  },
  {
   "cell_type": "code",
   "execution_count": 58,
   "id": "e2a85f5a",
   "metadata": {},
   "outputs": [
    {
     "name": "stdout",
     "output_type": "stream",
     "text": [
      "Mínimo = 1\n",
      "Máximo = 3\n",
      "Valor absoluto = 5\n",
      "3.0\n",
      "3\n",
      "12\n"
     ]
    }
   ],
   "source": [
    "print(\"Mínimo = %d\"%min(1,2,3))    \n",
    "print(\"Máximo = %d\"%max(1,2,3))   \n",
    "print(\"Valor absoluto = %d\"%abs(-5)) \n",
    "print (float(3))  # conversión a float\n",
    "print (int(3.5))  # conversión a entero\n",
    "print (int('10')+2)  # conversión de cadena"
   ]
  },
  {
   "cell_type": "code",
   "execution_count": 43,
   "id": "c67cfb11",
   "metadata": {},
   "outputs": [
    {
     "name": "stdout",
     "output_type": "stream",
     "text": [
      "1-2-3\n"
     ]
    }
   ],
   "source": [
    "print (1,2,3, sep=\"-\") # para elegir separadores "
   ]
  },
  {
   "cell_type": "code",
   "execution_count": 49,
   "id": "8fd6251f",
   "metadata": {},
   "outputs": [
    {
     "name": "stdout",
     "output_type": "stream",
     "text": [
      "Hola Juan\n"
     ]
    }
   ],
   "source": [
    "print (\"Hola\", end=\" \") # para elegir comportamiento final (por defecto es salto de línea)\n",
    "print (\"Juan\")"
   ]
  },
  {
   "cell_type": "code",
   "execution_count": 134,
   "id": "f9289f13",
   "metadata": {},
   "outputs": [
    {
     "data": {
      "text/plain": [
       "(2, 1)"
      ]
     },
     "execution_count": 134,
     "metadata": {},
     "output_type": "execute_result"
    }
   ],
   "source": [
    "a = 1 # intercambio de valores de dos variables\n",
    "b = 2\n",
    "a,b = b,a\n",
    "a,b"
   ]
  },
  {
   "cell_type": "markdown",
   "id": "c964774a",
   "metadata": {},
   "source": [
    "## Funciones"
   ]
  },
  {
   "cell_type": "code",
   "execution_count": 33,
   "id": "5c95b021",
   "metadata": {},
   "outputs": [
    {
     "name": "stdout",
     "output_type": "stream",
     "text": [
      "Help on built-in function max in module builtins:\n",
      "\n",
      "max(...)\n",
      "    max(iterable, *[, default=obj, key=func]) -> value\n",
      "    max(arg1, arg2, *args, *[, key=func]) -> value\n",
      "    \n",
      "    With a single iterable argument, return its biggest item. The\n",
      "    default keyword-only argument specifies an object to return if\n",
      "    the provided iterable is empty.\n",
      "    With two or more arguments, return the largest argument.\n",
      "\n"
     ]
    }
   ],
   "source": [
    "help(max)   # ayuda sobre funciones"
   ]
  },
  {
   "cell_type": "code",
   "execution_count": 40,
   "id": "62fe77f8",
   "metadata": {},
   "outputs": [],
   "source": [
    "def maximo(a,b):\n",
    "    \"\"\"devuelve el máximo de dos números\n",
    "    \n",
    "    >>> maximo(2,5): 5\n",
    "    \n",
    "    \"\"\"\n",
    "    \n",
    "    \n",
    "    if a>b:\n",
    "        return a\n",
    "    else:\n",
    "        return b"
   ]
  },
  {
   "cell_type": "code",
   "execution_count": 41,
   "id": "b418fc43",
   "metadata": {},
   "outputs": [
    {
     "data": {
      "text/plain": [
       "5"
      ]
     },
     "execution_count": 41,
     "metadata": {},
     "output_type": "execute_result"
    }
   ],
   "source": [
    "maximo(2,5)"
   ]
  },
  {
   "cell_type": "code",
   "execution_count": 42,
   "id": "13f9bc70",
   "metadata": {},
   "outputs": [
    {
     "name": "stdout",
     "output_type": "stream",
     "text": [
      "Help on function maximo in module __main__:\n",
      "\n",
      "maximo(a, b)\n",
      "    devuelve el máximo de dos números\n",
      "    \n",
      "    >>> maximo(2,5): 5\n",
      "\n"
     ]
    }
   ],
   "source": [
    "help(maximo)"
   ]
  },
  {
   "cell_type": "code",
   "execution_count": 53,
   "id": "2b869fc2",
   "metadata": {},
   "outputs": [
    {
     "data": {
      "text/plain": [
       "10"
      ]
     },
     "execution_count": 53,
     "metadata": {},
     "output_type": "execute_result"
    }
   ],
   "source": [
    "def ejecutar (funcion,argumento):  # se puede pasar funciones como argumento\n",
    "    return funcion(argumento)\n",
    "\n",
    "def suma3(x):\n",
    "    return x + 3\n",
    "\n",
    "\n",
    "ejecutar(suma3,7)"
   ]
  },
  {
   "cell_type": "markdown",
   "id": "31a188ed",
   "metadata": {},
   "source": [
    "## Operadores lógicos"
   ]
  },
  {
   "cell_type": "markdown",
   "id": "4520d9f8",
   "metadata": {},
   "source": [
    "Operador | descripción\n",
    "---- | -------------\n",
    "**==  !=** |  Igual, distinto\n",
    "< <=|  menor, menor o igual\n",
    "> >= |  mayor, mayor o igual\n",
    "and or not | combinar booleanos"
   ]
  },
  {
   "cell_type": "code",
   "execution_count": 61,
   "id": "775a18b4",
   "metadata": {},
   "outputs": [
    {
     "name": "stdout",
     "output_type": "stream",
     "text": [
      "True\n",
      "False\n",
      "¿53 es par?  False\n"
     ]
    }
   ],
   "source": [
    "print(2.0 == 2)\n",
    "print('2' == 2)\n",
    "print(\"¿53 es par? \",53 % 2 == 0) "
   ]
  },
  {
   "cell_type": "code",
   "execution_count": 63,
   "id": "9f9dceb0",
   "metadata": {},
   "outputs": [
    {
     "data": {
      "text/plain": [
       "True"
      ]
     },
     "execution_count": 63,
     "metadata": {},
     "output_type": "execute_result"
    }
   ],
   "source": [
    "True and False or True"
   ]
  },
  {
   "cell_type": "markdown",
   "id": "f5ed2d1b",
   "metadata": {},
   "source": [
    "Tipo de dato | Tratamiento en Bool(), If y otros lugares donde se espera Bool\n",
    "---- | -------------\n",
    "números |  True, salvo 0\n",
    "string,listas,tuplas,etc | True, salvo cadenas, listas, ... *vacias*"
   ]
  },
  {
   "cell_type": "code",
   "execution_count": 69,
   "id": "10c93801",
   "metadata": {},
   "outputs": [
    {
     "name": "stdout",
     "output_type": "stream",
     "text": [
      "True\n",
      "False\n",
      "True\n",
      "False\n"
     ]
    }
   ],
   "source": [
    "print(bool(3)) \n",
    "print(bool(0)) \n",
    "print(bool(\"hola\")) \n",
    "print(bool(\"\")) "
   ]
  },
  {
   "cell_type": "markdown",
   "id": "e7f42f86",
   "metadata": {},
   "source": [
    "## Condicionales"
   ]
  },
  {
   "cell_type": "code",
   "execution_count": 66,
   "id": "aa9babbd",
   "metadata": {},
   "outputs": [
    {
     "name": "stdout",
     "output_type": "stream",
     "text": [
      "-1 tiene signo negativo\n",
      "0 is cero\n",
      "1 tiene signo positivo\n"
     ]
    }
   ],
   "source": [
    "def signo(x):\n",
    "    if x > 0:\n",
    "        print(x, \"tiene signo positivo\")\n",
    "    elif x < 0:\n",
    "        print(x, \"tiene signo negativo\")    \n",
    "    else:\n",
    "        print(x, \"is cero\")\n",
    "\n",
    "signo(-1)\n",
    "signo(0)\n",
    "signo(1)\n"
   ]
  },
  {
   "cell_type": "markdown",
   "id": "d1bebcff",
   "metadata": {},
   "source": [
    "## Listas"
   ]
  },
  {
   "cell_type": "code",
   "execution_count": 90,
   "id": "f44c1925",
   "metadata": {},
   "outputs": [
    {
     "data": {
      "text/plain": [
       "(4, 3, [2, 3], 3)"
      ]
     },
     "execution_count": 90,
     "metadata": {},
     "output_type": "execute_result"
    }
   ],
   "source": [
    "numeros = [1,2,3,4]\n",
    "matriz = [ \n",
    "    [1,2,3],\n",
    "    [4,5,6],\n",
    "    [7,8,9]]\n",
    "numeros[-1],matriz [0][2],numeros[1:3],matriz [0][2]"
   ]
  },
  {
   "cell_type": "code",
   "execution_count": 114,
   "id": "fc0c7c17",
   "metadata": {},
   "outputs": [
    {
     "data": {
      "text/plain": [
       "(4, ['a', 'b', 'd', 'f'], 10, 4)"
      ]
     },
     "execution_count": 114,
     "metadata": {},
     "output_type": "execute_result"
    }
   ],
   "source": [
    "letras = ['b','f','d','a']\n",
    "len(letras),sorted(letras),sum(numeros),max(numeros)"
   ]
  },
  {
   "cell_type": "code",
   "execution_count": 115,
   "id": "e1963c65",
   "metadata": {},
   "outputs": [
    {
     "data": {
      "text/plain": [
       "['b', 'f', 'd', 'a', 't']"
      ]
     },
     "execution_count": 115,
     "metadata": {},
     "output_type": "execute_result"
    }
   ],
   "source": [
    "letras.append('t')  # añadir un elemento al final\n",
    "letras"
   ]
  },
  {
   "cell_type": "code",
   "execution_count": 116,
   "id": "76fbc40a",
   "metadata": {},
   "outputs": [
    {
     "data": {
      "text/plain": [
       "['b', 'f', 'd', 'a']"
      ]
     },
     "execution_count": 116,
     "metadata": {},
     "output_type": "execute_result"
    }
   ],
   "source": [
    "letras.pop()  # quitar el últmo elemento \n",
    "letras"
   ]
  },
  {
   "cell_type": "code",
   "execution_count": 117,
   "id": "887690ef",
   "metadata": {},
   "outputs": [
    {
     "data": {
      "text/plain": [
       "1"
      ]
     },
     "execution_count": 117,
     "metadata": {},
     "output_type": "execute_result"
    }
   ],
   "source": [
    "letras.index('f')"
   ]
  },
  {
   "cell_type": "code",
   "execution_count": 118,
   "id": "d5f881b7",
   "metadata": {},
   "outputs": [
    {
     "data": {
      "text/plain": [
       "True"
      ]
     },
     "execution_count": 118,
     "metadata": {},
     "output_type": "execute_result"
    }
   ],
   "source": [
    "'a' in letras"
   ]
  },
  {
   "cell_type": "markdown",
   "id": "1d99ff88",
   "metadata": {},
   "source": [
    "## Tuplas\n",
    "No se pueden modificar"
   ]
  },
  {
   "cell_type": "code",
   "execution_count": 119,
   "id": "86a66669",
   "metadata": {},
   "outputs": [],
   "source": [
    "t = (1, 2, 3)"
   ]
  },
  {
   "cell_type": "code",
   "execution_count": 132,
   "id": "69d19211",
   "metadata": {},
   "outputs": [
    {
     "name": "stdout",
     "output_type": "stream",
     "text": [
      "Nos devuelve una tupla (1, 4)\n"
     ]
    },
    {
     "data": {
      "text/plain": [
       "(1, 4)"
      ]
     },
     "execution_count": 132,
     "metadata": {},
     "output_type": "execute_result"
    }
   ],
   "source": [
    "x = 0.25\n",
    "print(\"Nos devuelve una tupla\",x.as_integer_ratio())\n",
    "numerador, denominador = x.as_integer_ratio()\n",
    "numerador, denominador "
   ]
  },
  {
   "cell_type": "code",
   "execution_count": null,
   "id": "403fe8f7",
   "metadata": {},
   "outputs": [],
   "source": []
  }
 ],
 "metadata": {
  "kernelspec": {
   "display_name": "Python 3 (ipykernel)",
   "language": "python",
   "name": "python3"
  },
  "language_info": {
   "codemirror_mode": {
    "name": "ipython",
    "version": 3
   },
   "file_extension": ".py",
   "mimetype": "text/x-python",
   "name": "python",
   "nbconvert_exporter": "python",
   "pygments_lexer": "ipython3",
   "version": "3.8.10"
  }
 },
 "nbformat": 4,
 "nbformat_minor": 5
}
