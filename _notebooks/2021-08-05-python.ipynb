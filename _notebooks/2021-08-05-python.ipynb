{
 "cells": [
  {
   "cell_type": "markdown",
   "id": "94555d29",
   "metadata": {},
   "source": [
    "# \"Python\"\n",
    "> \"Conceptos básicos para iniciarse\"\n",
    "\n",
    "- toc: false\n",
    "- branch: master\n",
    "- badges: true\n",
    "- comments: true\n",
    "- categories: [python]\n",
    "- image: images/python.png\n",
    "- hide: false\n",
    "- search_exclude: true\n",
    "- metadata_key1: metadata_value1\n",
    "- metadata_key2: metadata_value2"
   ]
  },
  {
   "cell_type": "markdown",
   "id": "f77efb9f",
   "metadata": {},
   "source": [
    "Nota: Puedes ejecutar este post en Google Colab o Binder o verlo en GitHub, pulsa el icono."
   ]
  },
  {
   "cell_type": "markdown",
   "id": "6a7d829f",
   "metadata": {},
   "source": [
    "## Conceptos básicos:\n"
   ]
  },
  {
   "cell_type": "code",
   "execution_count": 5,
   "id": "f7be73d3",
   "metadata": {},
   "outputs": [
    {
     "name": "stdout",
     "output_type": "stream",
     "text": [
      "hola hola hola hola \n"
     ]
    }
   ],
   "source": [
    "print (\"hola \"*4) #operaciones con cadenas"
   ]
  },
  {
   "cell_type": "code",
   "execution_count": null,
   "id": "3bab063d",
   "metadata": {},
   "outputs": [],
   "source": []
  }
 ],
 "metadata": {
  "kernelspec": {
   "display_name": "Python 3 (ipykernel)",
   "language": "python",
   "name": "python3"
  },
  "language_info": {
   "codemirror_mode": {
    "name": "ipython",
    "version": 3
   },
   "file_extension": ".py",
   "mimetype": "text/x-python",
   "name": "python",
   "nbconvert_exporter": "python",
   "pygments_lexer": "ipython3",
   "version": "3.8.10"
  }
 },
 "nbformat": 4,
 "nbformat_minor": 5
}
