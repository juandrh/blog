{
 "cells": [
  {
   "cell_type": "markdown",
   "id": "94555d29",
   "metadata": {},
   "source": [
    "# \"Python\"\n",
    "> \"Conceptos básicos para iniciarse\"\n",
    "\n",
    "- toc: false\n",
    "- branch: master\n",
    "- badges: true\n",
    "- comments: true\n",
    "- categories: [python]\n",
    "- image: images/python.png\n",
    "- hide: false\n",
    "- search_exclude: true\n",
    "- metadata_key1: metadata_value1\n",
    "- metadata_key2: metadata_value2"
   ]
  },
  {
   "cell_type": "markdown",
   "id": "f77efb9f",
   "metadata": {},
   "source": [
    "*Nota: Puedes ver este post en GitHub o ejecutarlo en Binder o Google Colab, pulsa el icono.*"
   ]
  },
  {
   "cell_type": "markdown",
   "id": "10c6fee0",
   "metadata": {},
   "source": [
    "Fuentes:<br>\n",
    "[Documentación oficial de Python](https://www.python.org/doc/)<br>\n",
    "[Curso básico de Python en Kaggle](https://www.kaggle.com/learn/python)<br>\n",
    "[Python for Absolute Beginners | Python 3 Complete Course ](https://www.udemy.com/share/102hZ42@PkdgfUtTT1IPck5EBkhOfT5u/)\n"
   ]
  },
  {
   "cell_type": "markdown",
   "id": "6a7d829f",
   "metadata": {},
   "source": [
    "## Conceptos básicos\n"
   ]
  },
  {
   "cell_type": "code",
   "execution_count": 21,
   "id": "80386467",
   "metadata": {},
   "outputs": [
    {
     "name": "stdout",
     "output_type": "stream",
     "text": [
      "hola hola hola hola \n",
      "15/7 = 2.142857142857143 y es del tipo <class 'float'>\n",
      "15//7 = 2 y es del tipo <class 'int'>\n",
      "2 elevado a 3 = 8\n"
     ]
    }
   ],
   "source": [
    "print (\"hola \" * 4)   #operaciones con cadenas\n",
    "print(\"15/7 = {0} y es del tipo {1}\".format(15/7,type(15/7)))  # división de números  \n",
    "print(\"15//7 = %d y es del tipo %s\"%(15//7,type(15//7)))       # división de números truncada\n",
    "print(\"2 elevado a 3 = %d\"%(2 ** 3))       # Elevar a la potencia\n"
   ]
  },
  {
   "cell_type": "markdown",
   "id": "d4ce6511",
   "metadata": {},
   "source": [
    "#### Orden de precedencia en operadores aritméticos:\n",
    "\n",
    "\n",
    "Prioridad | Operadores\n",
    "---- | -------------\n",
    "1 |  **( )**\n",
    "2 |  **exponentes**\n",
    "3 |  **multiplicación / división**\n",
    "4 |  **suma / resta**\n"
   ]
  },
  {
   "cell_type": "code",
   "execution_count": 58,
   "id": "6dd2e9ec",
   "metadata": {},
   "outputs": [
    {
     "name": "stdout",
     "output_type": "stream",
     "text": [
      "Mínimo = 1\n",
      "Máximo = 3\n",
      "Valor absoluto = 5\n",
      "3.0\n",
      "3\n",
      "12\n"
     ]
    }
   ],
   "source": [
    "print(\"Mínimo = %d\"%min(1,2,3))    \n",
    "print(\"Máximo = %d\"%max(1,2,3))   \n",
    "print(\"Valor absoluto = %d\"%abs(-5)) \n",
    "print (float(3))  # conversión a float\n",
    "print (int(3.5))  # conversión a entero\n",
    "print (int('10')+2)  # conversión de cadena"
   ]
  },
  {
   "cell_type": "code",
   "execution_count": 43,
   "id": "2d3f5a02",
   "metadata": {},
   "outputs": [
    {
     "name": "stdout",
     "output_type": "stream",
     "text": [
      "1-2-3\n"
     ]
    }
   ],
   "source": [
    "print (1,2,3, sep=\"-\") # para elegir separadores "
   ]
  },
  {
   "cell_type": "code",
   "execution_count": 49,
   "id": "090a2018",
   "metadata": {},
   "outputs": [
    {
     "name": "stdout",
     "output_type": "stream",
     "text": [
      "Hola Juan\n"
     ]
    }
   ],
   "source": [
    "print (\"Hola\", end=\" \") # para elegir comportamiento final (por defecto es salto de línea)\n",
    "print (\"Juan\")"
   ]
  },
  {
   "cell_type": "markdown",
   "id": "5ac1f860",
   "metadata": {},
   "source": [
    "## Funciones"
   ]
  },
  {
   "cell_type": "code",
   "execution_count": 33,
   "id": "e6a137c6",
   "metadata": {},
   "outputs": [
    {
     "name": "stdout",
     "output_type": "stream",
     "text": [
      "Help on built-in function max in module builtins:\n",
      "\n",
      "max(...)\n",
      "    max(iterable, *[, default=obj, key=func]) -> value\n",
      "    max(arg1, arg2, *args, *[, key=func]) -> value\n",
      "    \n",
      "    With a single iterable argument, return its biggest item. The\n",
      "    default keyword-only argument specifies an object to return if\n",
      "    the provided iterable is empty.\n",
      "    With two or more arguments, return the largest argument.\n",
      "\n"
     ]
    }
   ],
   "source": [
    "help(max)   # ayuda sobre funciones"
   ]
  },
  {
   "cell_type": "code",
   "execution_count": 40,
   "id": "00ee4a4f",
   "metadata": {},
   "outputs": [],
   "source": [
    "def maximo(a,b):\n",
    "    \"\"\"devuelve el máximo de dos números\n",
    "    \n",
    "    >>> maximo(2,5): 5\n",
    "    \n",
    "    \"\"\"\n",
    "    \n",
    "    \n",
    "    if a>b:\n",
    "        return a\n",
    "    else:\n",
    "        return b"
   ]
  },
  {
   "cell_type": "code",
   "execution_count": 41,
   "id": "2ff08104",
   "metadata": {},
   "outputs": [
    {
     "data": {
      "text/plain": [
       "5"
      ]
     },
     "execution_count": 41,
     "metadata": {},
     "output_type": "execute_result"
    }
   ],
   "source": [
    "maximo(2,5)"
   ]
  },
  {
   "cell_type": "code",
   "execution_count": 42,
   "id": "02790728",
   "metadata": {},
   "outputs": [
    {
     "name": "stdout",
     "output_type": "stream",
     "text": [
      "Help on function maximo in module __main__:\n",
      "\n",
      "maximo(a, b)\n",
      "    devuelve el máximo de dos números\n",
      "    \n",
      "    >>> maximo(2,5): 5\n",
      "\n"
     ]
    }
   ],
   "source": [
    "help(maximo)"
   ]
  },
  {
   "cell_type": "code",
   "execution_count": 53,
   "id": "49dd8b7a",
   "metadata": {},
   "outputs": [
    {
     "data": {
      "text/plain": [
       "10"
      ]
     },
     "execution_count": 53,
     "metadata": {},
     "output_type": "execute_result"
    }
   ],
   "source": [
    "def ejecutar (funcion,argumento):  # se puede pasar funciones como argumento\n",
    "    return funcion(argumento)\n",
    "\n",
    "def suma3(x):\n",
    "    return x + 3\n",
    "\n",
    "\n",
    "ejecutar(suma3,7)"
   ]
  },
  {
   "cell_type": "markdown",
   "id": "69afff54",
   "metadata": {},
   "source": [
    "## Operadores lógicos"
   ]
  },
  {
   "cell_type": "markdown",
   "id": "de66cdd5",
   "metadata": {},
   "source": [
    "Operador | descripción\n",
    "---- | -------------\n",
    "**==  !=** |  Igual, distinto\n",
    "< <=|  menor, menor o igual\n",
    "> >= |  mayor, mayor o igual\n",
    "and or not | combinar booleanos"
   ]
  },
  {
   "cell_type": "code",
   "execution_count": 61,
   "id": "2855a26b",
   "metadata": {},
   "outputs": [
    {
     "name": "stdout",
     "output_type": "stream",
     "text": [
      "True\n",
      "False\n",
      "¿53 es par?  False\n"
     ]
    }
   ],
   "source": [
    "print(2.0 == 2)\n",
    "print('2' == 2)\n",
    "print(\"¿53 es par? \",53 % 2 == 0) "
   ]
  },
  {
   "cell_type": "code",
   "execution_count": 63,
   "id": "040358f4",
   "metadata": {},
   "outputs": [
    {
     "data": {
      "text/plain": [
       "True"
      ]
     },
     "execution_count": 63,
     "metadata": {},
     "output_type": "execute_result"
    }
   ],
   "source": [
    "True and False or True"
   ]
  },
  {
   "cell_type": "markdown",
   "id": "1da6c3cf",
   "metadata": {},
   "source": [
    "## Condicionales"
   ]
  },
  {
   "cell_type": "code",
   "execution_count": 66,
   "id": "7931943a",
   "metadata": {},
   "outputs": [
    {
     "name": "stdout",
     "output_type": "stream",
     "text": [
      "-1 tiene signo negativo\n",
      "0 is cero\n",
      "1 tiene signo positivo\n"
     ]
    }
   ],
   "source": [
    "def signo(x):\n",
    "    if x > 0:\n",
    "        print(x, \"tiene signo positivo\")\n",
    "    elif x < 0:\n",
    "        print(x, \"tiene signo negativo\")    \n",
    "    else:\n",
    "        print(x, \"is cero\")\n",
    "\n",
    "signo(-1)\n",
    "signo(0)\n",
    "signo(1)\n"
   ]
  },
  {
   "cell_type": "code",
   "execution_count": null,
   "id": "2eb6c2b3",
   "metadata": {},
   "outputs": [],
   "source": []
  }
 ],
 "metadata": {
  "kernelspec": {
   "display_name": "Python 3 (ipykernel)",
   "language": "python",
   "name": "python3"
  },
  "language_info": {
   "codemirror_mode": {
    "name": "ipython",
    "version": 3
   },
   "file_extension": ".py",
   "mimetype": "text/x-python",
   "name": "python",
   "nbconvert_exporter": "python",
   "pygments_lexer": "ipython3",
   "version": "3.8.10"
  }
 },
 "nbformat": 4,
 "nbformat_minor": 5
}
