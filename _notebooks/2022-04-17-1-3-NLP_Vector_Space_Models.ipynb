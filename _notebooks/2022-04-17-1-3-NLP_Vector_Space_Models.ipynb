{
 "cells": [
  {
   "cell_type": "markdown",
   "id": "42599432",
   "metadata": {},
   "source": [
    "# \"1.3- NLP: Vector Space Models\"\n",
    "> \"Procesamiento del lenguaje natural with Classification and Vector Spaces\"\n",
    "\n",
    "- toc: true\n",
    "- branch: master\n",
    "- badges: true\n",
    "- comments: true\n",
    "- categories: [python, NLP, ML]\n",
    "- image: images/framework.jpg\n",
    "- hide: false\n",
    "- search_exclude: true\n",
    "- metadata_key1: metadata_value1\n",
    "- metadata_key2: metadata_value2"
   ]
  },
  {
   "cell_type": "markdown",
   "id": "0148a1e2",
   "metadata": {},
   "source": [
    "Fuentes:\n",
    "[DeepLearning.AI: Procesamiento de lenguaje natural. Programa especializado en Coursera](https://www.coursera.org/specializations/natural-language-processing) "
   ]
  },
  {
   "cell_type": "markdown",
   "id": "16b95f76",
   "metadata": {},
   "source": [
    "**Vector space models**\n",
    "capture semantic meaning and relationships between words."
   ]
  },
  {
   "cell_type": "markdown",
   "id": "61a948d3",
   "metadata": {},
   "source": [
    "# Word by Word Design\n",
    "Matrix: number of times each word shows up next each other word. \n",
    "![](images/nlp019.png)\n",
    "v=[2,1,1,0]"
   ]
  },
  {
   "cell_type": "markdown",
   "id": "cc0f90ff",
   "metadata": {},
   "source": [
    "# Word by Document Design\n",
    "Map words to documents. Number of times each word showed up in the document. \n",
    "![](images/nlp020.png)"
   ]
  },
  {
   "cell_type": "code",
   "execution_count": null,
   "id": "387abb3f",
   "metadata": {},
   "outputs": [],
   "source": []
  }
 ],
 "metadata": {
  "kernelspec": {
   "display_name": "Python 3 (ipykernel)",
   "language": "python",
   "name": "python3"
  },
  "language_info": {
   "codemirror_mode": {
    "name": "ipython",
    "version": 3
   },
   "file_extension": ".py",
   "mimetype": "text/x-python",
   "name": "python",
   "nbconvert_exporter": "python",
   "pygments_lexer": "ipython3",
   "version": "3.9.7"
  }
 },
 "nbformat": 4,
 "nbformat_minor": 5
}
