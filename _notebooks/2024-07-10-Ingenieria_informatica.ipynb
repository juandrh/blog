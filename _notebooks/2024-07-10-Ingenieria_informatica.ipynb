{
 "cells": [
  {
   "cell_type": "markdown",
   "id": "42599432",
   "metadata": {},
   "source": [
    "false# \"Grado en ingeniería Informática\"\n",
    "> \"Mis estudios en la Universidad a Distancia de Madrid (UDIMA) \"\n",
    "\n",
    "- toc: false\n",
    "- branch: master\n",
    "- badges: false\n",
    "- sticky_rank: 1\n",
    "- comments: true\n",
    "- categories: [ingenieria informatica]\n",
    "- image: images/framework.jpg\n",
    "- hide: false\n",
    "- search_exclude: true\n",
    "- metadata_key1: metadata_value1\n",
    "- metadata_key2: metadata_value2\n"
   ]
  },
  {
   "cell_type": "markdown",
   "id": "d49151f3-0836-4c42-9dcf-47755f742b5f",
   "metadata": {},
   "source": [
    "![](images/UDIMA.png)"
   ]
  },
  {
   "cell_type": "markdown",
   "id": "c2095c19-ab92-47a1-a3c1-cbd8e4f1260b",
   "metadata": {},
   "source": [
    "## Esquemas y trabajos realizados en cada asignatura  "
   ]
  },
  {
   "cell_type": "markdown",
   "id": "852c0725-43c2-41be-9296-707262bf150e",
   "metadata": {},
   "source": [
    "# Curso 1º:\n",
    "- Fundamentos de Programación: [Guía docente](https://www.udima.es/es/fundamentos-programacion-116.html) - [Esquemas](https://github.com/juandrh/Estudios_Ingenieria_Informatica/tree/main/Curso01/fp/FP-01-10.pdf) - [Trabajos](https://github.com/juandrh/Estudios_Ingenieria_Informatica/tree/main/Curso01/fp) \n",
    "- Álgebra: [Guía docente](https://www.udima.es/es/algebra.html) - [Esquemas](https://github.com/juandrh/Estudios_Ingenieria_Informatica/tree/main/Curso01/alg/Esquemas-AL.pdf) - [Trabajos](https://github.com/juandrh/Estudios_Ingenieria_Informatica/tree/main/Curso01/alg) \n",
    "- Tecnología y Estructura de Computadores: [Guía docente](https://www.udima.es/es/tecnologia-estructura-computadores-118.html) - [Esquemas](https://github.com/juandrh/Estudios_Ingenieria_Informatica/tree/main/Curso01/tec/Esq-TEC.pdf) - [Trabajos](https://github.com/juandrh/Estudios_Ingenieria_Informatica/tree/main/Curso01/tec) \n",
    "- Análisis Matemático: [Guía docente](https://www.udima.es/es/analisis-matematico.html) - [Esquemas](https://github.com/juandrh/Estudios_Ingenieria_Informatica/tree/main/Curso01/am/ESQ-AM.pdf) - [Trabajos](https://github.com/juandrh/Estudios_Ingenieria_Informatica/tree/main/Curso01/am) \n",
    "- Tecnologías de la Información y de la Comunicación: [Guía docente](https://www.udima.es/es/tecnologias-informacion-comunicacion-116.html) - [Esquemas](https://github.com/juandrh/Estudios_Ingenieria_Informatica/tree/main/Curso01/tic/Esq-TIC.pdf) - [Trabajos](https://github.com/juandrh/Estudios_Ingenieria_Informatica/tree/main/Curso01/tic) \n",
    "- Electromagnetismo, Semiconductores y Ondas: [Guía docente](https://www.udima.es/es/electromagnetismo-semiconductores-ondas.html) - [Esquemas](https://github.com/juandrh/Estudios_Ingenieria_Informatica/tree/main/Curso01/eso/Esq-ES.pdf) - [Trabajos](https://github.com/juandrh/Estudios_Ingenieria_Informatica/tree/main/Curso01/eso) \n",
    "- Matemática Discreta: [Guía docente](https://www.udima.es/es/matematica-discreta-116.html) - [Esquemas](https://github.com/juandrh/Estudios_Ingenieria_Informatica/tree/main/Curso01/md/MD.pdf) - [Trabajos](https://github.com/juandrh/Estudios_Ingenieria_Informatica/tree/main/Curso01/md) \n",
    "- Estructuras de datos: [Guía docente](https://www.udima.es/es/estructuras-datos-116.html) - [Esquemas](https://github.com/juandrh/Estudios_Ingenieria_Informatica/tree/main/Curso01/ed/Esq-ED.pdf) - [Trabajos](https://github.com/juandrh/Estudios_Ingenieria_Informatica/tree/main/Curso01/ed) \n",
    "- Inglés:   _covalidada_\n",
    "- Metodología de la Programación: [Guía docente](https://www.udima.es/es/metodologia-programacion-118.html) - [Esquemas](https://github.com/juandrh/Estudios_Ingenieria_Informatica/tree/main/Curso01/mp/ESQ-MP.pdf) - [Trabajos](https://github.com/juandrh/Estudios_Ingenieria_Informatica/tree/main/Curso01/mp) \n"
   ]
  },
  {
   "cell_type": "markdown",
   "id": "6fa08bbe-b896-4c71-aa2c-65ad9f9be31a",
   "metadata": {},
   "source": [
    "# Curso 2º:\n",
    "\n",
    "- Estadística y Probabilidad:   _covalidada_\n",
    "- Bases de Datos: [Guía docente](https://www.udima.es/es/bases-datos-116.html) - [Esquemas](https://github.com/juandrh/Estudios_Ingenieria_Informatica/tree/main/Curso02/bd/Esq-BBDD.pdf) - [Trabajos](https://github.com/juandrh/Estudios_Ingenieria_Informatica/tree/main/Curso02/bd) \n",
    "- Derecho Informático y Deontología Profesional: [Guía docente](https://www.udima.es/es/derecho-informatico-deontologia-profesional.html) - [Esquemas](https://github.com/juandrh/Estudios_Ingenieria_Informatica/tree/main/Curso02/dch/Esq-Derecho.pdf) - [Trabajos](https://github.com/juandrh/Estudios_Ingenieria_Informatica/tree/main/Curso02/dch) \n",
    "- Redes de Computadores: [Guía docente](https://www.udima.es/es/redes-de-computadores.html) - [Esquemas](https://github.com/juandrh/Estudios_Ingenieria_Informatica/tree/main/Curso02/redes/Esq-REDES.pdf) - [Trabajos](https://github.com/juandrh/Estudios_Ingenieria_Informatica/tree/main/Curso02/redes) \n",
    "- Lógica: [Guía docente](https://www.udima.es/es/logica.html) - [Esquemas](https://github.com/juandrh/Estudios_Ingenieria_Informatica/tree/main/Curso02/log/Esq-LOGICA.pdf) - [Trabajos](https://github.com/juandrh/Estudios_Ingenieria_Informatica/tree/main/Curso02/log) \n",
    "- Sistemas Operativos:\n",
    "- Interacción Persona-Computador:\n",
    "- Paradigmas de la Programación:\n",
    "- Organización de Empresas:  _covalidada_\n",
    "- Análisis y Diseño de Algoritmos:"
   ]
  },
  {
   "cell_type": "markdown",
   "id": "c1d3ab46-550b-4534-837b-2700afbd7d54",
   "metadata": {},
   "source": [
    "# Curso 3º:\n",
    "\n",
    "- Ingeniería de Sistemas y de la Información\n",
    "- Inteligencia Artificial\n",
    "- Ingeniería del Software I\n",
    "- Sistemas Distribuidos\n",
    "- Autómatas y Procesadores de lenguajes: [Guía docente](https://www.udima.es/es/automatas-procesadores-lenguajes.html) - [Esquemas](https://github.com/juandrh/Estudios_Ingenieria_Informatica/tree/main/Curso03/apl/Esq-Aut-Proc-Leng.pdf) - [Trabajos](https://github.com/juandrh/Estudios_Ingenieria_Informatica/tree/main/Curso03/apl) \n",
    "- Arquitectura de Computadores y Sistemas\n",
    "- Ingeniería del Conocimiento\n",
    "- Seguridad en Redes y Criptografía"
   ]
  }
 ],
 "metadata": {
  "kernelspec": {
   "display_name": "Python 3 (ipykernel)",
   "language": "python",
   "name": "python3"
  },
  "language_info": {
   "codemirror_mode": {
    "name": "ipython",
    "version": 3
   },
   "file_extension": ".py",
   "mimetype": "text/x-python",
   "name": "python",
   "nbconvert_exporter": "python",
   "pygments_lexer": "ipython3",
   "version": "3.9.7"
  }
 },
 "nbformat": 4,
 "nbformat_minor": 5
}
