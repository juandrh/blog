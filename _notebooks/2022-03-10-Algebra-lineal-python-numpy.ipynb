{
 "cells": [
  {
   "cell_type": "markdown",
   "id": "42599432",
   "metadata": {},
   "source": [
    "# \"Guía rápida de algebra lineal con Numpy + Python\"\n",
    "> \"Guía rápida de Algebra lineal con Numpy + Python\"\n",
    "\n",
    "- toc: true\n",
    "- branch: master\n",
    "- badges: true\n",
    "- comments: true\n",
    "- categories: [python]\n",
    "- image: images/framework.jpg\n",
    "- hide: false\n",
    "- search_exclude: true\n",
    "- metadata_key1: metadata_value1\n",
    "- metadata_key2: metadata_value2"
   ]
  },
  {
   "cell_type": "markdown",
   "id": "0148a1e2",
   "metadata": {},
   "source": [
    "Fuentes:\n",
    "[numpy](https://numpy.org/) "
   ]
  },
  {
   "cell_type": "code",
   "execution_count": 3,
   "id": "387abb3f",
   "metadata": {},
   "outputs": [],
   "source": [
    "import numpy as np"
   ]
  },
  {
   "cell_type": "markdown",
   "id": "fd302c34-4667-43f1-bff8-094439c2edcb",
   "metadata": {},
   "source": [
    "# Listas vs vectores de Numpy"
   ]
  },
  {
   "cell_type": "code",
   "execution_count": 44,
   "id": "ec381c59-70ca-4861-b658-9cb041933d00",
   "metadata": {},
   "outputs": [
    {
     "name": "stdout",
     "output_type": "stream",
     "text": [
      "[1, 2, 3, 4]\n",
      "[1 2 3 4]\n",
      "[0. 0.]\n",
      "[1. 1.]\n",
      "[1 1]\n",
      "[0 1 2 3]\n",
      "[2 5 8]\n",
      "[ 0.  5. 10. 15. 20.]\n"
     ]
    }
   ],
   "source": [
    "# creación de listas y vectores\n",
    "lista = [1,2,3,4]\n",
    "vector = np.array([1,2,3,4]) # vector de numpy\n",
    "print(lista)\n",
    "print(vector)\n",
    "print(np.zeros(2))\n",
    "print(np.ones(2))\n",
    "print(np.ones(2, dtype=np.int64))\n",
    "print(np.arange(4))   \n",
    "print(np.arange(2, 10, 3)) # desde 2 hasta 10 saltando 3\n",
    "print(np.linspace(0, 20, num=5))   # 5 elementos separados entre 0 y 20"
   ]
  },
  {
   "cell_type": "code",
   "execution_count": 10,
   "id": "c7b8fb20-10d4-43f4-8531-5a094bb1d299",
   "metadata": {},
   "outputs": [
    {
     "name": "stdout",
     "output_type": "stream",
     "text": [
      "[1, 2, 3, 4, 1, 2, 3, 4] vs  [2 4 6 8]\n",
      "[1, 2, 3, 4, 1, 2, 3, 4] vs  [2 4 6 8]\n"
     ]
    }
   ],
   "source": [
    "# Operaciones\n",
    "print(lista+lista, \"vs \", vector+vector )\n",
    "print(lista*2 , \"vs \",vector*2)"
   ]
  },
  {
   "cell_type": "markdown",
   "id": "ede08608-98ea-426f-b426-503863ae30e0",
   "metadata": {},
   "source": [
    "# Matrices"
   ]
  },
  {
   "cell_type": "code",
   "execution_count": 28,
   "id": "5fc8f7b2-a1cb-4714-b06e-16491f0fbba3",
   "metadata": {},
   "outputs": [
    {
     "name": "stdout",
     "output_type": "stream",
     "text": [
      "[[1 2 3 4]\n",
      " [1 2 3 4]\n",
      " [1 2 3 4]]\n",
      "[[1 2 3 4]\n",
      " [1 2 3 4]\n",
      " [1 2 3 4]]\n",
      "[[1 2 3 4]\n",
      " [1 2 3 4]\n",
      " [1 1 1 1]]\n",
      "[[1 2 3 4]]\n"
     ]
    }
   ],
   "source": [
    "# Creación\n",
    "matriz1 = np.array([lista, lista, lista])\n",
    "matriz2 = np.array([vector, vector, vector])  \n",
    "matriz3 = np.array([lista,vector, [1, 1, 1, 1]])\n",
    "matriz4 = np.array([[1,2,3,4]])  # matriz (1 x 4)\n",
    "\n",
    "print(matriz1)\n",
    "print(matriz2)\n",
    "print(matriz3)\n",
    "print(matriz4)"
   ]
  },
  {
   "cell_type": "code",
   "execution_count": 14,
   "id": "dd147e94-b809-4c42-9a6d-c5f01e1e3f67",
   "metadata": {},
   "outputs": [
    {
     "name": "stdout",
     "output_type": "stream",
     "text": [
      "[[3 5 7 9]\n",
      " [3 5 7 9]\n",
      " [3 5 7 9]]\n"
     ]
    }
   ],
   "source": [
    "# Escalado y translación\n",
    "m_transformada = matriz1 * 2 + 1 \n",
    "print(m_transformada)"
   ]
  },
  {
   "cell_type": "code",
   "execution_count": 15,
   "id": "5ae4a6fe-5c0d-41e9-9a19-03fd7d85e592",
   "metadata": {},
   "outputs": [
    {
     "name": "stdout",
     "output_type": "stream",
     "text": [
      "[[2 4 6 8]\n",
      " [2 4 6 8]\n",
      " [2 4 6 8]]\n",
      "[[ 1  4  9 16]\n",
      " [ 1  4  9 16]\n",
      " [ 1  4  9 16]]\n"
     ]
    }
   ],
   "source": [
    "# Operaciones elemento a elemento\n",
    "matriz_suma = matriz1 + matriz1 \n",
    "print(matriz_suma)\n",
    "matriz_producto = matriz1 * matriz1\n",
    "print(matriz_producto)"
   ]
  },
  {
   "cell_type": "code",
   "execution_count": 19,
   "id": "caf31036-8369-4e26-9502-f1868fab27ca",
   "metadata": {
    "tags": []
   },
   "outputs": [
    {
     "name": "stdout",
     "output_type": "stream",
     "text": [
      "[[1 2 3 4]\n",
      " [1 2 3 4]\n",
      " [1 2 3 4]]\n",
      "(3, 4)\n",
      "[[1 1 1]\n",
      " [2 2 2]\n",
      " [3 3 3]\n",
      " [4 4 4]]\n",
      "(4, 3)\n",
      "[[1]\n",
      " [2]\n",
      " [3]\n",
      " [4]]\n",
      "(4, 1)\n"
     ]
    }
   ],
   "source": [
    "# Transpuesta\n",
    "print (matriz1)\n",
    "print(matriz1.shape)\n",
    "print (matriz1.T)\n",
    "print(matriz1.T.shape)\n",
    "print (matriz4.T)\n",
    "print(matriz4.T.shape)"
   ]
  },
  {
   "cell_type": "markdown",
   "id": "d9ae3c32-911b-4c91-8058-291bcaa6f887",
   "metadata": {
    "tags": []
   },
   "source": [
    "![](images/nlp021.png)"
   ]
  },
  {
   "cell_type": "code",
   "execution_count": 25,
   "id": "0a15dbe2-07fe-4349-83b2-298e894c596c",
   "metadata": {},
   "outputs": [
    {
     "name": "stdout",
     "output_type": "stream",
     "text": [
      "5.477225575051661\n",
      "9.486832980505138\n",
      "[1.73205081 3.46410162 5.19615242 6.92820323]\n",
      "[5.47722558 5.47722558 5.47722558]\n"
     ]
    }
   ],
   "source": [
    "# Norma\n",
    "norma_vector = np.linalg.norm(vector)\n",
    "norma_matriz = np.linalg.norm(matriz1)  # La matriz se toma como una lista de elementos\n",
    "norma_matriz_col = np.linalg.norm(matriz1, axis=0)  # La matriz se toma como una lista de elementos\n",
    "norma_matriz_fila = np.linalg.norm(matriz1, axis=1)  # La matriz se toma como una lista de elementos\n",
    "print(norma_vector )\n",
    "print(norma_matriz )\n",
    "print(norma_matriz_col )\n",
    "print(norma_matriz_fila )"
   ]
  },
  {
   "cell_type": "markdown",
   "id": "e32347f9-148f-4282-8f1b-7be4157b7cc8",
   "metadata": {},
   "source": [
    "![](images/nlp022.png)"
   ]
  },
  {
   "cell_type": "code",
   "execution_count": 26,
   "id": "cec3083a-fe66-406e-adb6-313728990265",
   "metadata": {},
   "outputs": [
    {
     "name": "stdout",
     "output_type": "stream",
     "text": [
      "30\n",
      "30\n",
      "30\n",
      "30\n"
     ]
    }
   ],
   "source": [
    "# Producto escalar\n",
    "prod_escalar = np.dot(vector, vector)   # NP.DOT acepta listas y vectores\n",
    "print(prod_escalar)\n",
    "\n",
    "# Otras formas NO RECOMENDADAS de calcularlo\n",
    "print (np.sum(vector * vector)) \n",
    "print (vector @ vector)     \n",
    "\n",
    "prod_escalar = 0\n",
    "for a, b in zip(vector,vector):\n",
    "    prod_escalar += a * b    \n",
    "print(prod_escalar)"
   ]
  },
  {
   "cell_type": "code",
   "execution_count": 29,
   "id": "d8b074c7-f235-4c5b-98af-dd439eb40317",
   "metadata": {},
   "outputs": [
    {
     "name": "stdout",
     "output_type": "stream",
     "text": [
      "[ 3  6  9 12]\n",
      "[10 10 10]\n"
     ]
    }
   ],
   "source": [
    "# Suma por columnas y filas \n",
    "print(np.sum(matriz1, axis=0))    # por columnas\n",
    "print(np.sum(matriz1, axis=1))    # por filas"
   ]
  },
  {
   "cell_type": "code",
   "execution_count": 30,
   "id": "e428af1c-18ee-4ba9-a14d-8e510f8d0b41",
   "metadata": {},
   "outputs": [
    {
     "name": "stdout",
     "output_type": "stream",
     "text": [
      "2.5\n",
      "[1. 2. 3. 4.]\n",
      "[2.5 2.5 2.5]\n"
     ]
    }
   ],
   "source": [
    "# Media\n",
    "print(np.mean(matriz1)) \n",
    "print(np.mean(matriz1, axis=0))  # por columnas\n",
    "print(np.mean(matriz1, axis=1))  # por filas"
   ]
  },
  {
   "cell_type": "code",
   "execution_count": 31,
   "id": "de9d1b33-eb48-48b5-b497-4328784c6e07",
   "metadata": {},
   "outputs": [
    {
     "name": "stdout",
     "output_type": "stream",
     "text": [
      "matriz original\n",
      "[[1 2 3 4]\n",
      " [1 2 3 4]\n",
      " [1 2 3 4]]\n",
      "matriz centrada\n",
      "[[-1.5 -0.5  0.5  1.5]\n",
      " [-1.5 -0.5  0.5  1.5]\n",
      " [-1.5 -0.5  0.5  1.5]]\n",
      "Nueva media por columnas\n",
      "[0. 0. 0.]\n"
     ]
    }
   ],
   "source": [
    "# Centrando por columnas\n",
    "matrizCentrada = matriz1.T - np.mean(matriz1, axis=1) # quita la media de cada columna\n",
    "matrizCentrada = matrizCentrada.T \n",
    "\n",
    "print('matriz original')\n",
    "print(matriz1)\n",
    "print('matriz centrada')\n",
    "print(matrizCentrada)\n",
    "\n",
    "print('Nueva media por columnas')\n",
    "print(matrizCentrada.mean(axis=1))"
   ]
  },
  {
   "cell_type": "markdown",
   "id": "4ee95b01-f537-4d64-9691-9e47f559547d",
   "metadata": {},
   "source": [
    "# Otras funciones útiles de Numpy"
   ]
  },
  {
   "cell_type": "code",
   "execution_count": 66,
   "id": "6fffb79c-2e4c-4b78-842f-f9480e56bb6d",
   "metadata": {},
   "outputs": [
    {
     "name": "stdout",
     "output_type": "stream",
     "text": [
      "[1 3 4 5 6 7]\n",
      "[1 1 1 3 3 4 5 5 6 7 7 7 7 7 7]\n",
      "1\n",
      "7\n",
      "[7 7 1 1 3 1 3 4 5 6 5 7 7 7 7 7 7 1 1 3 1 3 4 5 6 5 7 7 7 7]\n",
      "[1 1 3 1 3 4]\n",
      "[4 6]\n",
      "[7 7 7 7 5 6 5 4 3 1 3 1 1 7 7]\n"
     ]
    }
   ],
   "source": [
    "a = np.array([7,7,1,1,3,1,3,4,5,6,5,7,7,7,7])\n",
    "print(np.unique(a))  # valores únicos\n",
    "print(np.sort(a))    # ordenar\n",
    "print(np.min(a))    # mínimo\n",
    "print(np.max(a))    # máximo\n",
    "print(np.concatenate((a, a)))\n",
    "print(a[a < 5])\n",
    "print(a[a%2==0])\n",
    "print(np.flip(a))\n"
   ]
  },
  {
   "cell_type": "code",
   "execution_count": 67,
   "id": "9b31a342-fee8-4257-b19d-a2cab818b6c4",
   "metadata": {},
   "outputs": [
    {
     "name": "stdout",
     "output_type": "stream",
     "text": [
      "[[1 2 3 4]\n",
      " [1 2 3 4]\n",
      " [1 2 3 4]]\n",
      "2\n",
      "12\n",
      "(3, 4)\n",
      "[1 2 3 4 1 2 3 4 1 2 3 4]\n"
     ]
    }
   ],
   "source": [
    "print (matriz1)\n",
    "print (matriz1.ndim)\n",
    "print (matriz1.size)\n",
    "print (matriz1.shape)\n",
    "print (matriz1.flatten())"
   ]
  },
  {
   "cell_type": "code",
   "execution_count": 58,
   "id": "8ef5ebc3-afb4-4c01-9e5d-d7b41f61f4d2",
   "metadata": {},
   "outputs": [
    {
     "name": "stdout",
     "output_type": "stream",
     "text": [
      "[[1 2]\n",
      " [3 4]\n",
      " [5 6]]\n",
      "[[1 2 3]\n",
      " [4 5 6]]\n"
     ]
    }
   ],
   "source": [
    "# redimensionar\n",
    "a = np.array([1,2,3,4,5,6])\n",
    "print (a.reshape(3, 2))\n",
    "print (a.reshape(2, 3))"
   ]
  },
  {
   "cell_type": "code",
   "execution_count": 63,
   "id": "8868cfad-e6e5-4f76-a5c5-e7db690b6ea7",
   "metadata": {},
   "outputs": [
    {
     "name": "stdout",
     "output_type": "stream",
     "text": [
      "(6,)\n",
      "(1, 6)\n",
      "(1, 6)\n",
      "(6, 1)\n",
      "(6, 1)\n"
     ]
    }
   ],
   "source": [
    "# añadir dimensiones\n",
    "a = np.array([1, 2, 3, 4, 5, 6])\n",
    "print(a.shape)\n",
    "\n",
    "a2 = a[np.newaxis, :]\n",
    "print(a2.shape)\n",
    "print(np.expand_dims(a, axis=0).shape)\n",
    "\n",
    "a2 = a[:, np.newaxis]\n",
    "print(a2.shape)\n",
    "print(np.expand_dims(a, axis=1).shape)"
   ]
  },
  {
   "cell_type": "markdown",
   "id": "01440162-304e-4c72-8632-fef21601a381",
   "metadata": {},
   "source": [
    "# Exportar / importar a archivo csv"
   ]
  },
  {
   "cell_type": "code",
   "execution_count": 70,
   "id": "a39aad9b-e0dd-4b81-81dc-e90064a39481",
   "metadata": {},
   "outputs": [
    {
     "name": "stdout",
     "output_type": "stream",
     "text": [
      "          0         1         2         3\n",
      "0 -2.582892  0.430148 -1.240820  1.595726\n",
      "1  0.990278  1.171510  0.941257 -0.146925\n",
      "2  0.769893  0.812997 -0.950684  0.117696\n",
      "3  0.204840  0.347845  1.969792  0.519928\n",
      "[[-2.58289208  0.43014843 -1.24082018  1.59572603]\n",
      " [ 0.99027828  1.17150989  0.94125714 -0.14692469]\n",
      " [ 0.76989341  0.81299683 -0.95068423  0.11769564]\n",
      " [ 0.20484034  0.34784527  1.96979195  0.51992837]]\n"
     ]
    }
   ],
   "source": [
    "import pandas as pd\n",
    "\n",
    "a = np.array([[-2.58289208,  0.43014843, -1.24082018, 1.59572603],\n",
    "              [ 0.99027828, 1.17150989,  0.94125714, -0.14692469],\n",
    "              [ 0.76989341,  0.81299683, -0.95068423, 0.11769564],\n",
    "              [ 0.20484034,  0.34784527,  1.96979195, 0.51992837]])\n",
    "df = pd.DataFrame(a)\n",
    "print(df)\n",
    "df.to_csv('pd.csv', index= False)\n",
    "\n",
    "x = pd.read_csv('pd.csv', header=0).values\n",
    "print(x)"
   ]
  },
  {
   "cell_type": "code",
   "execution_count": null,
   "id": "186d73c1-783a-464b-b1a1-0e52f1d3d622",
   "metadata": {},
   "outputs": [],
   "source": []
  }
 ],
 "metadata": {
  "kernelspec": {
   "display_name": "Python 3 (ipykernel)",
   "language": "python",
   "name": "python3"
  },
  "language_info": {
   "codemirror_mode": {
    "name": "ipython",
    "version": 3
   },
   "file_extension": ".py",
   "mimetype": "text/x-python",
   "name": "python",
   "nbconvert_exporter": "python",
   "pygments_lexer": "ipython3",
   "version": "3.9.7"
  }
 },
 "nbformat": 4,
 "nbformat_minor": 5
}
