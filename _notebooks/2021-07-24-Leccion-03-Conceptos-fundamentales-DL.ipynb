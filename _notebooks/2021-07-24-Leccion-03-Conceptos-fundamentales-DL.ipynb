{
  "nbformat": 4,
  "nbformat_minor": 5,
  "metadata": {
    "kernelspec": {
      "display_name": "Python 3 (ipykernel)",
      "language": "python",
      "name": "python3"
    },
    "language_info": {
      "codemirror_mode": {
        "name": "ipython",
        "version": 3
      },
      "file_extension": ".py",
      "mimetype": "text/x-python",
      "name": "python",
      "nbconvert_exporter": "python",
      "pygments_lexer": "ipython3",
      "version": "3.8.10"
    },
    "colab": {
      "name": "2021-07-24-Leccion-03-Conceptos-fundamentales-DL.ipynb",
      "provenance": []
    }
  },
  "cells": [
    {
      "cell_type": "markdown",
      "metadata": {
        "id": "vlBQLYLv2YTQ"
      },
      "source": [
        "# \"Conceptos fundamentales de deep learning\"\n",
        "> \"por Juan del Rio\"\n",
        "\n",
        "- toc: false\n",
        "- branch: master\n",
        "- badges: true\n",
        "- comments: true\n",
        "- categories: [curso_Fast.ai]\n",
        "- image: images/some_folder/your_image.png\n",
        "- hide: false\n",
        "- search_exclude: true\n",
        "- metadata_key1: metadata_value1\n",
        "- metadata_key2: metadata_value2"
      ],
      "id": "vlBQLYLv2YTQ"
    },
    {
      "cell_type": "markdown",
      "metadata": {
        "id": "2dn53DMr2LkR"
      },
      "source": [
        ""
      ],
      "id": "2dn53DMr2LkR"
    },
    {
      "cell_type": "markdown",
      "metadata": {
        "id": "8bf50001"
      },
      "source": [
        "# Lección 03: Conceptos fundamentales de deep learning"
      ],
      "id": "8bf50001"
    },
    {
      "cell_type": "markdown",
      "metadata": {
        "id": "4e2e2b16"
      },
      "source": [
        "<a href=\"https://course.fast.ai/\">Practical Deep Learning for Coders</a>\n"
      ],
      "id": "4e2e2b16"
    },
    {
      "cell_type": "markdown",
      "metadata": {
        "id": "1b97e477"
      },
      "source": [
        "> Tip 1: ser tenaz, seguir intentándo resolver los problemas. "
      ],
      "id": "1b97e477"
    },
    {
      "cell_type": "markdown",
      "metadata": {
        "id": "71e94c33"
      },
      "source": [
        "> Tip 2: Antes de empezar con modelos más complejos se recomienda:\n",
        "   - Usar un modelo muy sencillo y fácil de implementar: será mejor que un resultado aleatorio y servirá de base\n",
        "   - Usar un modelo creado por otra persona con tus datos"
      ],
      "id": "71e94c33"
    },
    {
      "cell_type": "markdown",
      "metadata": {
        "id": "9f4761e0"
      },
      "source": [
        "###  Paso 1: Veamos un modelo sencillo para un clasificador de imagenes: **distancia a la media**"
      ],
      "id": "9f4761e0"
    },
    {
      "cell_type": "markdown",
      "metadata": {
        "id": "b06662cd"
      },
      "source": [
        " - Se calcula la media de cada uno de los grupos de imagenes a clasificar"
      ],
      "id": "b06662cd"
    },
    {
      "cell_type": "code",
      "metadata": {
        "id": "ba45213e",
        "outputId": "f4cc775d-4316-4d54-b9ab-9b61ca37f998"
      },
      "source": [
        "# creo dos tensores que agrupen todas las imagenes de cada uno\n",
        "tensores3=[tensor(Image.open(i)) for i in treses]\n",
        "tensores7=[tensor(Image.open(i)) for i in sietes]\n",
        "len(tensores3),len(tensores7)"
      ],
      "id": "ba45213e",
      "execution_count": null,
      "outputs": [
        {
          "output_type": "execute_result",
          "data": {
            "text/plain": [
              "(6131, 6265)"
            ]
          },
          "metadata": {
            "tags": []
          },
          "execution_count": 9
        }
      ]
    },
    {
      "cell_type": "code",
      "metadata": {
        "id": "45fa5529",
        "outputId": "e890239b-7464-4735-eb26-db6302823860"
      },
      "source": [
        "# mostrar una imagen a partir de un tensor\n",
        "show_image(tensores3[1])"
      ],
      "id": "45fa5529",
      "execution_count": null,
      "outputs": [
        {
          "output_type": "execute_result",
          "data": {
            "text/plain": [
              "<AxesSubplot:>"
            ]
          },
          "metadata": {
            "tags": []
          },
          "execution_count": 10
        },
        {
          "output_type": "display_data",
          "data": {
            "image/png": "[encoded data removed]",
            "text/plain": [
              "<Figure size 72x72 with 1 Axes>"
            ]
          },
          "metadata": {
            "tags": [],
            "needs_background": "light"
          }
        }
      ]
    },
    {
      "cell_type": "code",
      "metadata": {
        "id": "a710b10f"
      },
      "source": [
        "# crear tensores con las imagenes apiladas\n",
        "pila3s = torch.stack(tensores3).float()/255\n",
        "pila7s = torch.stack(tensores7).float()/255"
      ],
      "id": "a710b10f",
      "execution_count": null,
      "outputs": []
    },
    {
      "cell_type": "code",
      "metadata": {
        "id": "5520e2b1",
        "outputId": "9ef97515-991d-4556-d29f-95b6e64db41f"
      },
      "source": [
        "# medir dimensiones del tensor \n",
        "pila3s.shape"
      ],
      "id": "5520e2b1",
      "execution_count": null,
      "outputs": [
        {
          "output_type": "execute_result",
          "data": {
            "text/plain": [
              "torch.Size([6131, 28, 28])"
            ]
          },
          "metadata": {
            "tags": []
          },
          "execution_count": 12
        }
      ]
    },
    {
      "cell_type": "code",
      "metadata": {
        "id": "b70519c9",
        "outputId": "854ccdfe-d608-4aa9-8e53-22a62e31b693"
      },
      "source": [
        "# dos métodos de medir rango del tensor \n",
        "len(pila3s.shape), pila3s.ndim\n"
      ],
      "id": "b70519c9",
      "execution_count": null,
      "outputs": [
        {
          "output_type": "execute_result",
          "data": {
            "text/plain": [
              "(3, 3)"
            ]
          },
          "metadata": {
            "tags": []
          },
          "execution_count": 13
        }
      ]
    },
    {
      "cell_type": "code",
      "metadata": {
        "id": "38f2c5ba"
      },
      "source": [
        "# calcular la media de cada uno de la primera dimensión (0)\n",
        "media3= pila3s.mean(0)\n",
        "media7= pila7s.mean(0)"
      ],
      "id": "38f2c5ba",
      "execution_count": null,
      "outputs": []
    },
    {
      "cell_type": "code",
      "metadata": {
        "id": "4d6bf026",
        "outputId": "5864b010-60dc-4f9f-cd60-4b18abf71097"
      },
      "source": [
        "show_image(media3)\n",
        "show_image(media7)"
      ],
      "id": "4d6bf026",
      "execution_count": null,
      "outputs": [
        {
          "output_type": "execute_result",
          "data": {
            "text/plain": [
              "<AxesSubplot:>"
            ]
          },
          "metadata": {
            "tags": []
          },
          "execution_count": 15
        },
        {
          "output_type": "display_data",
          "data": {
            "image/png": "[encoded data removed]",
            "text/plain": [
              "<Figure size 72x72 with 1 Axes>"
            ]
          },
          "metadata": {
            "tags": [],
            "needs_background": "light"
          }
        },
        {
          "output_type": "display_data",
          "data": {
            "image/png": "[encoded data removed]",
            "text/plain": [
              "<Figure size 72x72 with 1 Axes>"
            ]
          },
          "metadata": {
            "tags": [],
            "needs_background": "light"
          }
        }
      ]
    },
    {
      "cell_type": "markdown",
      "metadata": {
        "id": "6634558e"
      },
      "source": [
        "<hr/>\n",
        "\n",
        "- Buscamos la **distancia** que hay entre cada imagen y la media.\n",
        "\n",
        "    Opciones:\n",
        "\n",
        "     * Diferencias de valores absolutos (L1 norm)\n",
        "     * Raiz del error medio cuadrático (RMSE o L2 norm): se penaliza más cuanto mayor sea el error\n"
      ],
      "id": "6634558e"
    },
    {
      "cell_type": "code",
      "metadata": {
        "id": "93e6c3cb",
        "outputId": "48c4ea4a-1a47-46fb-f172-69389b2287ba"
      },
      "source": [
        "a_3 = pila3s[1]\n",
        "show_image(a_3);"
      ],
      "id": "93e6c3cb",
      "execution_count": null,
      "outputs": [
        {
          "output_type": "display_data",
          "data": {
            "image/png": "[encoded data removed]",
            "text/plain": [
              "<Figure size 72x72 with 1 Axes>"
            ]
          },
          "metadata": {
            "tags": [],
            "needs_background": "light"
          }
        }
      ]
    },
    {
      "cell_type": "code",
      "metadata": {
        "id": "fac1fa1e",
        "outputId": "25737343-92ae-4ef8-f2eb-561f85b18367"
      },
      "source": [
        "# cálculo de las distancias\n",
        "dist_abs_3= (a_3-media3).abs().mean()\n",
        "dist_sqr_3= ((a_3-media3)**2).mean().sqrt()\n",
        "dist_abs_3,dist_sqr_3"
      ],
      "id": "fac1fa1e",
      "execution_count": null,
      "outputs": [
        {
          "output_type": "execute_result",
          "data": {
            "text/plain": [
              "(tensor(0.1114), tensor(0.2021))"
            ]
          },
          "metadata": {
            "tags": []
          },
          "execution_count": 17
        }
      ]
    },
    {
      "cell_type": "code",
      "metadata": {
        "id": "8cef5066",
        "outputId": "d634afe5-07e3-4031-f65c-6037eb200604"
      },
      "source": [
        "dist_abs_7= (a_3-media7).abs().mean()\n",
        "dist_sqr_7= ((a_3-media7)**2).mean().sqrt()\n",
        "dist_abs_7,dist_sqr_7"
      ],
      "id": "8cef5066",
      "execution_count": null,
      "outputs": [
        {
          "output_type": "execute_result",
          "data": {
            "text/plain": [
              "(tensor(0.1586), tensor(0.3021))"
            ]
          },
          "metadata": {
            "tags": []
          },
          "execution_count": 18
        }
      ]
    },
    {
      "cell_type": "markdown",
      "metadata": {
        "id": "cb3ab657"
      },
      "source": [
        "Se puede ver que la distancia al 3 \"ideal\" es menor al 7 \"ideal\", por lo tanto, el modelo predice correctamente.\n"
      ],
      "id": "cb3ab657"
    },
    {
      "cell_type": "code",
      "metadata": {
        "id": "ee38be40",
        "outputId": "97680f7f-fe9b-4e19-98e2-fcde36c4e689"
      },
      "source": [
        "# usando la libreria de Pytorch\n",
        "F.l1_loss(a_3.float(),media3),F.mse_loss(a_3.float(),media3).sqrt()\n"
      ],
      "id": "ee38be40",
      "execution_count": null,
      "outputs": [
        {
          "output_type": "execute_result",
          "data": {
            "text/plain": [
              "(tensor(0.1114), tensor(0.2021))"
            ]
          },
          "metadata": {
            "tags": []
          },
          "execution_count": 19
        }
      ]
    },
    {
      "cell_type": "markdown",
      "metadata": {
        "id": "2ef7ea2e"
      },
      "source": [
        "> Tip 1: Evitar el uso de loops, son mucho más lentos que los métodos que tienen vectores y tensores."
      ],
      "id": "2ef7ea2e"
    },
    {
      "cell_type": "markdown",
      "metadata": {
        "id": "a55015e1"
      },
      "source": [
        "> Tip 2: Usar la funcionalidad Broadcasting para mayor eficiencia.Consiste en expandir un tensor de rango inferior al rango de otro con el que se quiere operar.\n",
        "<br>Se optimiza el uso de la memoria y se ejecuta de manera rápida a través de C o GPUs"
      ],
      "id": "a55015e1"
    },
    {
      "cell_type": "markdown",
      "metadata": {
        "id": "15721c3f"
      },
      "source": [
        "###  Paso 2: aprendizaje automático con red neuronal (artificial)"
      ],
      "id": "15721c3f"
    },
    {
      "cell_type": "markdown",
      "metadata": {
        "id": "5a2d85a4"
      },
      "source": [
        "Buscaremos un sistema que vaya mejorando las predicciones de forma automática. \n",
        "\n",
        "Para ello, usaremos una red neuronal que está formada por una serie de capas de neuronas interconectadas. \n",
        "\n",
        "Están compuestas por números:\n",
        "- parámetros: valores que definen el modelo, se inicializan de forma aleatoria y se irán optimizando\n",
        "- activaciones: valores calculados\n",
        "\n",
        "Las capas pueden ser lineales o no lineales (por ejemplo, función de activación ReLU). Combinando estas capas se puede resolver cualquier problema.\n",
        "\n",
        "Cada neurona tendrá una función de activación que recibe los inputs de la capa anterior:\n",
        "\n",
        "f(x) = w * x + b , donde w son los pesos y b es el sesgo (w y b -> parámetros)\n",
        "\n",
        "Esta función nos dará las predicciones en base a los pesos que tenemos.\n"
      ],
      "id": "5a2d85a4"
    },
    {
      "cell_type": "markdown",
      "metadata": {
        "id": "1e48a9ef"
      },
      "source": [
        "<hr>\n",
        "Para lograr el aprendizaje automático usamos la técnica del Descenso del Gradiente **Stochastic Gradient Descent (SGD)** :\n",
        "\n",
        "    1- inicializar los pesos (w) de forma aleatoria o de un modelo pre-entrenado\n",
        "    2- calcular la predicciones para cada entrada (usando la función de activación) -> 'forward pass'\n",
        "    3- calcular la bondad del modelo con una función de pérdida / distancia (L1 norm, RMSE,..)\n",
        "    \n",
        "        pérdida -> cuanto menor sea mejor\n",
        "        función de pérdida:\n",
        "            - no usar la 'precisión' \n",
        "            - usar 'sigmoid': acepta cualquier valor real, valores entre 0 y 1 y derivada con sentido\n",
        "            - usar ReLU para capas no lineares, función que asigna un 0 a las entradas negativas.\n",
        "        \n",
        "    4- calcular el gradiente de w para saber cómo afecta la variación en cada uno en la función de pérdida. Cómo tenemos que variar los w para minimizar la pérdida (optimizar el modelo)  -> 'backward pass'\n",
        "        \n",
        "        y = f(x)  \n",
        "        y.backward()  // calcular el gradiente\n",
        "        x.grad        // consulta del gradiente\n",
        "    \n",
        "    5- dar un paso: modificar los w en base al gradiente: w := w + grad(w)* lr (ratio de aprendizaje/learning rate)\n",
        "    \n",
        "        lr suele estar entre 0.001 y 0.1 \n",
        "        \n",
        "        Si es pequeño tardará demasiado en llegar al óptimo\n",
        "        Si es grande puede no llegar nunca, se saltaría el óptimo\n",
        "        \n",
        "    6- volver y repetir el proceso\n",
        "    7- parar cuando se estime que el modelo es suficientemente bueno o no se puede esperar más (num. epochs)"
      ],
      "id": "1e48a9ef"
    },
    {
      "cell_type": "markdown",
      "metadata": {
        "id": "227eb0e0"
      },
      "source": [
        "### Mini lotes (batches)"
      ],
      "id": "227eb0e0"
    },
    {
      "cell_type": "markdown",
      "metadata": {
        "id": "42fc9515"
      },
      "source": [
        "En lugar de realizar el proceso sobre todas entradas (llevaría mucho tiempo) o sobre una (muy impreciso), se calculará sobre un número reducido.\n",
        "El tamaño del lote llevará a un modelo más preciso o a uno más rápido.\n",
        "\n",
        "La GPUs usarán estos lotes para acelerar el proceso"
      ],
      "id": "42fc9515"
    },
    {
      "cell_type": "code",
      "metadata": {
        "id": "68f5b4e4"
      },
      "source": [
        ""
      ],
      "id": "68f5b4e4",
      "execution_count": null,
      "outputs": []
    }
  ]
}