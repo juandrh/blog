{
 "cells": [
  {
   "cell_type": "markdown",
   "id": "42599432",
   "metadata": {},
   "source": [
    "# \"1.4- NLP: Machine Translation and Document Search\"\n",
    "> \"Procesamiento del lenguaje natural with Classification and Vector Spaces\"\n",
    "\n",
    "- toc: true\n",
    "- branch: master\n",
    "- badges: true\n",
    "- comments: true\n",
    "- categories: [python, NLP, ML]\n",
    "- image: images/framework.jpg\n",
    "- hide: false\n",
    "- search_exclude: true\n",
    "- metadata_key1: metadata_value1\n",
    "- metadata_key2: metadata_value2"
   ]
  },
  {
   "cell_type": "markdown",
   "id": "0148a1e2",
   "metadata": {},
   "source": [
    "Fuentes:\n",
    "[DeepLearning.AI: Procesamiento de lenguaje natural. Programa especializado en Coursera](https://www.coursera.org/specializations/natural-language-processing) "
   ]
  },
  {
   "cell_type": "markdown",
   "id": "16b95f76",
   "metadata": {},
   "source": [
    "# Transforming word vectors\n",
    "- From languaje X to languaje Y -> X R =Y\n",
    "- Learn R:\n",
    "- ![](images/nlp027.png)"
   ]
  },
  {
   "cell_type": "markdown",
   "id": "5b08cc26-c71d-4d6f-bfff-e328b5700fb1",
   "metadata": {},
   "source": [
    "![](images/nlp028.png)"
   ]
  },
  {
   "cell_type": "markdown",
   "id": "f0e0c654-09e1-49b4-a86e-9d14284d18e2",
   "metadata": {},
   "source": [
    "# K-nearest neighbors\n",
    "we need to find the most similar vectors to your output."
   ]
  },
  {
   "cell_type": "markdown",
   "id": "3a3fb39b-02f5-4040-8af2-edf26b265360",
   "metadata": {},
   "source": [
    "## Hashing\n",
    "- **hash_function** = takes data of arbitrary sizes and maps it to a fixed value.\n",
    "-  you don't have to compare it to all the other examples, you can just compare it to all the values in the same hash_bucket that input has been hashed to. "
   ]
  },
  {
   "cell_type": "markdown",
   "id": "e0e99a1e-5963-44a6-a04d-b6c42536b6f6",
   "metadata": {},
   "source": [
    "![](images/nlp029.png)\n",
    "![](images/nlp030.png)"
   ]
  },
  {
   "cell_type": "code",
   "execution_count": 10,
   "id": "f6366d5d-f2cc-45fa-a3d7-814d6bf35e6d",
   "metadata": {},
   "outputs": [],
   "source": [
    "def basic_hash_table(value_l, n_buckets):\n",
    "    \n",
    "    def hash_function(value, n_buckets):\n",
    "        return int(value) % n_buckets\n",
    "    \n",
    "    hash_table = {i:[] for i in range(n_buckets)} # Initialize all the buckets in the hash table as empty lists\n",
    "\n",
    "    for value in value_l:\n",
    "        hash_value = hash_function(value,n_buckets) # Get the hash key for the given value\n",
    "        hash_table[hash_value].append(value) # Add the element to the corresponding bucket\n",
    "    \n",
    "    return hash_table"
   ]
  },
  {
   "cell_type": "code",
   "execution_count": 9,
   "id": "edf20c6b-7050-4c03-84e2-d63b26dc0b11",
   "metadata": {},
   "outputs": [
    {
     "name": "stdout",
     "output_type": "stream",
     "text": [
      "{   0: [100, 10],\n",
      "    1: [],\n",
      "    2: [],\n",
      "    3: [],\n",
      "    4: [14],\n",
      "    5: [],\n",
      "    6: [],\n",
      "    7: [17, 97],\n",
      "    8: [],\n",
      "    9: []}\n"
     ]
    }
   ],
   "source": [
    "value_l = [100, 10, 14, 17, 97] # Set of values to hash\n",
    "hash_table_example = basic_hash_table(value_l, n_buckets=10)\n",
    "pp.pprint(hash_table_example)"
   ]
  },
  {
   "cell_type": "markdown",
   "id": "34cabcc2-f064-4549-a951-932972482f16",
   "metadata": {},
   "source": [
    "##  locality sensitive hashing\n",
    "technique that allows you to hash similar inputs into the same buckets with high probability. "
   ]
  },
  {
   "cell_type": "markdown",
   "id": "e5ed546e-cf1e-41e7-b2b5-5989ab608b60",
   "metadata": {},
   "source": [
    "![](images/nlp031.png)"
   ]
  },
  {
   "cell_type": "markdown",
   "id": "7f3b7f36-90e9-44b1-ba2e-4a8a495d1ad8",
   "metadata": {},
   "source": [
    "## Multiple Planes\n",
    "To get a single hash value."
   ]
  },
  {
   "cell_type": "markdown",
   "id": "592eb044-9f32-429a-87a6-cc5d4f8fdc27",
   "metadata": {},
   "source": [
    "![](images/nlp032.png)"
   ]
  },
  {
   "cell_type": "code",
   "execution_count": 73,
   "id": "a2486fcc-cb2f-451e-9232-e1cca83e6ae0",
   "metadata": {},
   "outputs": [],
   "source": [
    "import numpy as np   # library for array and matrix manipulation\n",
    "import pandas as pd\n",
    "import pprint                     # utilities for console printing \n",
    "import matplotlib.pyplot as plt   # visualization library\n",
    "pp = pprint.PrettyPrinter(indent=4) # Instantiate a pretty printer\n",
    "import pdb\n",
    "import pickle\n",
    "import string\n",
    "import time\n",
    "#import gensim\n",
    "import nltk\n",
    "import scipy\n",
    "import sklearn\n",
    "#from gensim.models import KeyedVectors\n",
    "from nltk.corpus import stopwords, twitter_samples\n",
    "from nltk.tokenize import TweetTokenizer\n",
    "from os import getcwd"
   ]
  },
  {
   "cell_type": "code",
   "execution_count": 66,
   "id": "7c76cae1-708b-4c72-8442-3175b4811214",
   "metadata": {},
   "outputs": [],
   "source": [
    "# add folder, tmp2, from our local workspace containing pre-downloaded corpora files to nltk's data path\n",
    "filePath = f\"{getcwd()}/tmp2/\"\n",
    "nltk.data.path.append(filePath)"
   ]
  },
  {
   "cell_type": "code",
   "execution_count": 71,
   "id": "3b96a901-e328-46f0-a091-0c142e11c8f3",
   "metadata": {},
   "outputs": [],
   "source": [
    "def get_dict(file_name):\n",
    "    \"\"\"\n",
    "    This function returns the english to french dictionary given a file where the each column corresponds to a word.\n",
    "    Check out the files this function takes in your workspace.\n",
    "    \"\"\"\n",
    "    my_file = pd.read_csv(file_name, delimiter=' ')\n",
    "    etof = {}  # the english to french dictionary to be returned\n",
    "    for i in range(len(my_file)):\n",
    "        # indexing into the rows.\n",
    "        en = my_file.loc[i][0]\n",
    "        fr = my_file.loc[i][1]\n",
    "        etof[en] = fr\n",
    "\n",
    "    return etof"
   ]
  },
  {
   "cell_type": "code",
   "execution_count": 72,
   "id": "dde2873c-d460-4363-bd47-f7fa8ed59ff5",
   "metadata": {},
   "outputs": [],
   "source": [
    "def cosine_similarity(A, B):\n",
    "    '''\n",
    "    Input:\n",
    "        A: a numpy array which corresponds to a word vector\n",
    "        B: A numpy array which corresponds to a word vector\n",
    "    Output:\n",
    "        cos: numerical number representing the cosine similarity between A and B.\n",
    "    '''\n",
    "    # you have to set this variable to the true label.\n",
    "    cos = -10\n",
    "    dot = np.dot(A, B)\n",
    "    norma = np.linalg.norm(A)\n",
    "    normb = np.linalg.norm(B)\n",
    "    cos = dot / (norma * normb)\n",
    "\n",
    "    return cos"
   ]
  },
  {
   "cell_type": "code",
   "execution_count": 64,
   "id": "844dd36d-6c93-4758-a0c9-e8c0e698ed50",
   "metadata": {},
   "outputs": [],
   "source": [
    "def process_tweet(tweet):\n",
    "    '''\n",
    "    Input:\n",
    "        tweet: a string containing a tweet\n",
    "    Output:\n",
    "        tweets_clean: a list of words containing the processed tweet\n",
    "\n",
    "    '''\n",
    "    stemmer = PorterStemmer()\n",
    "    stopwords_english = stopwords.words('english')\n",
    "    # remove stock market tickers like $GE\n",
    "    tweet = re.sub(r'\\$\\w*', '', tweet)\n",
    "    # remove old style retweet text \"RT\"\n",
    "    tweet = re.sub(r'^RT[\\s]+', '', tweet)\n",
    "    # remove hyperlinks\n",
    "    tweet = re.sub(r'https?:\\/\\/.*[\\r\\n]*', '', tweet)\n",
    "    # remove hashtags\n",
    "    # only removing the hash # sign from the word\n",
    "    tweet = re.sub(r'#', '', tweet)\n",
    "    # tokenize tweets\n",
    "    tokenizer = TweetTokenizer(preserve_case=False, strip_handles=True,\n",
    "                               reduce_len=True)\n",
    "    tweet_tokens = tokenizer.tokenize(tweet)\n",
    "\n",
    "    tweets_clean = []\n",
    "    for word in tweet_tokens:\n",
    "        if (word not in stopwords_english and  # remove stopwords\n",
    "            word not in string.punctuation):  # remove punctuation\n",
    "            # tweets_clean.append(word)\n",
    "            stem_word = stemmer.stem(word)  # stemming word\n",
    "            tweets_clean.append(stem_word)\n",
    "\n",
    "    return tweets_clean"
   ]
  },
  {
   "cell_type": "code",
   "execution_count": 65,
   "id": "58473478-6632-4a1e-8df4-81fb4f98a6ae",
   "metadata": {},
   "outputs": [],
   "source": [
    "# Procedure to plot and arrows that represents vectors with pyplot\n",
    "def plot_vectors(vectors, colors=['k', 'b', 'r', 'm', 'c'], axes=None, fname='image.svg', ax=None):\n",
    "    scale = 1\n",
    "    scale_units = 'x'\n",
    "    x_dir = []\n",
    "    y_dir = []\n",
    "    \n",
    "    for i, vec in enumerate(vectors):\n",
    "        x_dir.append(vec[0][0])\n",
    "        y_dir.append(vec[0][1])\n",
    "    \n",
    "    if ax == None:\n",
    "        fig, ax2 = plt.subplots()\n",
    "    else:\n",
    "        ax2 = ax\n",
    "      \n",
    "    if axes == None:\n",
    "        x_axis = 2 + np.max(np.abs(x_dir))\n",
    "        y_axis = 2 + np.max(np.abs(y_dir))\n",
    "    else:\n",
    "        x_axis = axes[0]\n",
    "        y_axis = axes[1]\n",
    "        \n",
    "    ax2.axis([-x_axis, x_axis, -y_axis, y_axis])\n",
    "        \n",
    "    for i, vec in enumerate(vectors):\n",
    "        ax2.arrow(0, 0, vec[0][0], vec[0][1], head_width=0.05 * x_axis, head_length=0.05 * y_axis, fc=colors[i], ec=colors[i])\n",
    "    \n",
    "    if ax == None:\n",
    "        plt.show()\n",
    "        fig.savefig(fname)\n"
   ]
  },
  {
   "cell_type": "code",
   "execution_count": 14,
   "id": "29b60cd8-dbef-4c5d-885e-49a12c78462b",
   "metadata": {},
   "outputs": [
    {
     "data": {
      "image/png": "[encoded data removed]",
      "text/plain": [
       "<Figure size 576x576 with 1 Axes>"
      ]
     },
     "metadata": {
      "needs_background": "light"
     },
     "output_type": "display_data"
    }
   ],
   "source": [
    "P = np.array([[1, 1.5]])  # Define a single plane. You may change the direction\n",
    "\n",
    "# Get a new plane perpendicular to P. We use a rotation matrix\n",
    "PT = np.dot([[0, 1], [-1, 0]], P.T).T  \n",
    "\n",
    "fig, ax1 = plt.subplots(figsize=(8, 8)) # Create a plot with custom size\n",
    "\n",
    "plot_vectors([P], colors=['b'], axes=[2, 2], ax=ax1) # Plot the plane P as a vector\n",
    "\n",
    "# Plot the plane P as a 2 vectors. \n",
    "# We scale by 2 just to get the arrows outside the current box\n",
    "plot_vectors([PT * 4, PT * -4], colors=['k', 'k'], axes=[4, 4], ax=ax1)\n",
    "\n",
    "# Plot 20 random points. \n",
    "for i in range(0, 20):\n",
    "        v1 = np.array(np.random.uniform(-4, 4, 2)) # Get a pair of random numbers between -4 and 4 \n",
    "        side_of_plane = np.sign(np.dot(P, v1.T)) # Get the sign of the dot product with P\n",
    "        # Color the points depending on the sign of the result of np.dot(P, point.T)\n",
    "        if side_of_plane == 1:\n",
    "            ax1.plot([v1[0]], [v1[1]], 'bo') # Plot a blue point\n",
    "        else:\n",
    "            ax1.plot([v1[0]], [v1[1]], 'ro') # Plot a red point\n",
    "\n",
    "plt.show()"
   ]
  },
  {
   "cell_type": "code",
   "execution_count": 31,
   "id": "0944bc4d-6e91-429f-9c75-b4ff45d98e58",
   "metadata": {},
   "outputs": [],
   "source": [
    "def side_of_plane_scalar(P, v):  # scalar\n",
    "    dotproduct = np.dot(P, v.T) # Get the dot product P * v'\n",
    "    sign_of_dot_product = np.sign(dotproduct) # The sign of the elements of the dotproduct matrix \n",
    "    sign_of_dot_product_scalar = sign_of_dot_product.item() # The value of the first item\n",
    "    return sign_of_dot_product_scalar"
   ]
  },
  {
   "cell_type": "code",
   "execution_count": 32,
   "id": "15e1f298-2928-47c2-ab9a-cda14d743704",
   "metadata": {},
   "outputs": [],
   "source": [
    "def hash_multi_plane(P_l, v):\n",
    "    hash_value = 0\n",
    "    for i, P in enumerate(P_l):\n",
    "        sign = side_of_plane_scalar(P,v)\n",
    "        hash_i = 1 if sign >=0 else 0\n",
    "        hash_value += 2**i * hash_i\n",
    "    return hash_value"
   ]
  },
  {
   "cell_type": "code",
   "execution_count": 50,
   "id": "ae0340bf-e403-4069-83cb-4e4ca3cff2f6",
   "metadata": {},
   "outputs": [],
   "source": [
    "P1 = np.array([[1, 1]])   # First plane 2D\n",
    "P2 = np.array([[-1, 1]])  # Second plane 2D\n",
    "P3 = np.array([[-1, -1]]) # Third plane 2D\n",
    "P_l = [P1, P2, P3]  # List of arrays. It is the multi plane\n",
    "\n",
    "# Vector to search\n",
    "v = np.array([[2,2]])"
   ]
  },
  {
   "cell_type": "code",
   "execution_count": 39,
   "id": "866d0550-5f15-409e-a2d0-1ed265a4f513",
   "metadata": {},
   "outputs": [
    {
     "data": {
      "text/plain": [
       "3"
      ]
     },
     "execution_count": 39,
     "metadata": {},
     "output_type": "execute_result"
    }
   ],
   "source": [
    "hash_multi_plane(P_l, v) # Find the number of the plane that containes this value"
   ]
  },
  {
   "cell_type": "code",
   "execution_count": 40,
   "id": "50d56932-89e8-4619-9462-72e062fcf55d",
   "metadata": {},
   "outputs": [],
   "source": [
    "# Side of the plane function. The result is a matrix\n",
    "def side_of_plane_matrix(P, v):\n",
    "    dotproduct = np.dot(P, v.T)\n",
    "    sign_of_dot_product = np.sign(dotproduct) # Get a boolean value telling if the value in the cell is positive or negative\n",
    "    return sign_of_dot_product"
   ]
  },
  {
   "cell_type": "markdown",
   "id": "71b35f05-ab60-4a43-8c50-c55472d3c0f9",
   "metadata": {},
   "source": [
    "## Random Planes"
   ]
  },
  {
   "cell_type": "code",
   "execution_count": 57,
   "id": "e7d54cf8-08df-4ef9-9453-1b7bc44eb46b",
   "metadata": {},
   "outputs": [
    {
     "name": "stdout",
     "output_type": "stream",
     "text": [
      "[[ 1.62434536 -0.61175641]\n",
      " [-0.52817175 -1.07296862]\n",
      " [ 0.86540763 -2.3015387 ]]\n"
     ]
    }
   ],
   "source": [
    "np.random.seed(1)\n",
    "num_dimensions = 2 # is 300 in assignment\n",
    "num_planes = 3 # is 10 in assignment\n",
    "random_planes_matrix = np.random.normal(\n",
    "                       size=(num_planes,\n",
    "                             num_dimensions))\n",
    "print(random_planes_matrix)"
   ]
  },
  {
   "cell_type": "code",
   "execution_count": 58,
   "id": "965de82a-def8-49d7-850a-0b29107b8b2d",
   "metadata": {},
   "outputs": [
    {
     "data": {
      "text/plain": [
       "array([[ 1.],\n",
       "       [-1.],\n",
       "       [-1.]])"
      ]
     },
     "execution_count": 58,
     "metadata": {},
     "output_type": "execute_result"
    }
   ],
   "source": [
    "sides_l = side_of_plane_matrix(random_planes_matrix, v)\n",
    "sides_l"
   ]
  },
  {
   "cell_type": "code",
   "execution_count": null,
   "id": "c205cd09-2644-47c6-bb2e-0d69c3673b97",
   "metadata": {},
   "outputs": [],
   "source": []
  },
  {
   "cell_type": "markdown",
   "id": "d091f13d-9492-4fbe-958f-851094dd7096",
   "metadata": {},
   "source": [
    "# Approximate nearest neighbors\n",
    "trades off accuracy for efficiency"
   ]
  },
  {
   "cell_type": "markdown",
   "id": "412006b0-567e-404b-bdfa-2e6e19c2d1da",
   "metadata": {},
   "source": [
    "# Naive Machine Translation and LSH"
   ]
  },
  {
   "cell_type": "markdown",
   "id": "08e82564-8c1a-41bd-9837-83f6227f4b26",
   "metadata": {},
   "source": [
    "## The word embeddings data for English and French words"
   ]
  },
  {
   "cell_type": "code",
   "execution_count": 69,
   "id": "7284b173-e3da-4c07-9608-ad8916cd0e8e",
   "metadata": {},
   "outputs": [],
   "source": [
    "en_embeddings_subset = pickle.load(open(\"./data/en_embeddings.p\", \"rb\"))\n",
    "fr_embeddings_subset = pickle.load(open(\"./data/fr_embeddings.p\", \"rb\"))"
   ]
  },
  {
   "cell_type": "code",
   "execution_count": 74,
   "id": "deead068-2339-4bb9-ae62-31fcb6da8410",
   "metadata": {},
   "outputs": [
    {
     "name": "stdout",
     "output_type": "stream",
     "text": [
      "The length of the English to French training dictionary is 5000\n",
      "The length of the English to French test dictionary is 1500\n"
     ]
    }
   ],
   "source": [
    "# loading the english to french dictionaries\n",
    "en_fr_train = get_dict('./data/en-fr.train.txt')\n",
    "print('The length of the English to French training dictionary is', len(en_fr_train))\n",
    "en_fr_test = get_dict('./data/en-fr.test.txt')\n",
    "print('The length of the English to French test dictionary is', len(en_fr_test))"
   ]
  },
  {
   "cell_type": "markdown",
   "id": "0ec5bed7-f3ab-4e34-8f25-44d3c9950b76",
   "metadata": {},
   "source": [
    "### Generate embedding and transform matrices"
   ]
  },
  {
   "cell_type": "code",
   "execution_count": 76,
   "id": "fc74f2b0-a09c-450d-85ef-4acb5e079bde",
   "metadata": {},
   "outputs": [],
   "source": [
    "def get_matrices(en_fr, french_vecs, english_vecs):\n",
    "    \"\"\"\n",
    "    Input:\n",
    "        en_fr: English to French dictionary\n",
    "        french_vecs: French words to their corresponding word embeddings.\n",
    "        english_vecs: English words to their corresponding word embeddings.\n",
    "    Output: \n",
    "        X: a matrix where the columns are the English embeddings.\n",
    "        Y: a matrix where the columns correspong to the French embeddings.\n",
    "        R: the projection matrix that minimizes the F norm ||X R -Y||^2.\n",
    "    \"\"\"    \n",
    "    # X_l and Y_l are lists of the english and french word embeddings\n",
    "    X_l = list()\n",
    "    Y_l = list()    \n",
    "    # get the english words (the keys in the dictionary) and store in a set()\n",
    "    english_set = set(english_vecs.keys())  \n",
    "    # get the french words (keys in the dictionary) and store in a set()\n",
    "    french_set = set(french_vecs.keys())    \n",
    "    # store the french words that are part of the english-french dictionary (these are the values of the dictionary)\n",
    "    french_words = set(en_fr.values())\n",
    "    \n",
    "    # loop through all english, french word pairs in the english french dictionary\n",
    "    for en_word, fr_word in en_fr.items():\n",
    "        # check that the french word has an embedding and that the english word has an embedding\n",
    "        if fr_word in french_set and en_word in english_set:\n",
    "            # get the english embedding\n",
    "            en_vec = english_vecs[en_word]\n",
    "            # get the french embedding\n",
    "            fr_vec = french_vecs[fr_word]\n",
    "            # add the english embedding to the list\n",
    "            X_l.append(en_vec)\n",
    "            # add the french embedding to the list\n",
    "            Y_l.append(fr_vec)\n",
    "    # stack the vectors of X_l into a matrix X\n",
    "    X = np.array(X_l)\n",
    "    # stack the vectors of Y_l into a matrix Y\n",
    "    Y = np.array(Y_l) \n",
    "    \n",
    "    return X, Y"
   ]
  },
  {
   "cell_type": "code",
   "execution_count": 81,
   "id": "1f4a1a11-9285-490f-be59-84108c310b20",
   "metadata": {},
   "outputs": [],
   "source": [
    "# getting the training set:\n",
    "X_train, Y_train = get_matrices(\n",
    "    en_fr_train, fr_embeddings_subset, en_embeddings_subset)"
   ]
  },
  {
   "cell_type": "markdown",
   "id": "bb2a154a-f4a7-4009-898d-949530713d0f",
   "metadata": {},
   "source": [
    "## Translations"
   ]
  },
  {
   "cell_type": "code",
   "execution_count": null,
   "id": "5a0bfe73-89a7-41c9-84e2-8be4c6ef3a7d",
   "metadata": {},
   "outputs": [],
   "source": []
  }
 ],
 "metadata": {
  "kernelspec": {
   "display_name": "Python 3 (ipykernel)",
   "language": "python",
   "name": "python3"
  },
  "language_info": {
   "codemirror_mode": {
    "name": "ipython",
    "version": 3
   },
   "file_extension": ".py",
   "mimetype": "text/x-python",
   "name": "python",
   "nbconvert_exporter": "python",
   "pygments_lexer": "ipython3",
   "version": "3.9.7"
  }
 },
 "nbformat": 4,
 "nbformat_minor": 5
}
