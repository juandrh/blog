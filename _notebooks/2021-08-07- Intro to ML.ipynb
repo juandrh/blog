{
 "cells": [
  {
   "cell_type": "markdown",
   "id": "7424bccd",
   "metadata": {},
   "source": [
    "# \"Guía hon\"\n",
    "> \"Guía de referencia básica del lenguaje Python\"\n",
    "\n",
    "- toc: true\n",
    "- branch: master\n",
    "- badges: true\n",
    "- comments: true\n",
    "- categories: [python]\n",
    "- image: images/python.png\n",
    "- hide: false\n",
    "- search_exclude: true\n",
    "- metadata_key1: metadata_value1\n",
    "- metadata_key2: metadata_value2"
   ]
  },
  {
   "cell_type": "markdown",
   "id": "f77efb9f",
   "metadata": {},
   "source": [
    "> tip: Puedes ver este post en GitHub o ejecutarlo en Binder o Google Colab, pulsa el icono."
   ]
  },
  {
   "cell_type": "markdown",
   "id": "3d5d3f3d",
   "metadata": {},
   "source": [
    "Fuentes:<br>\n",
    "[Intro to Machine Learning - Kaggle](https://www.kaggle.com/learn/intro-to-machine-learning)<br>\n"
   ]
  },
  {
   "cell_type": "markdown",
   "id": "6a7d829f",
   "metadata": {},
   "source": [
    "## 1- Exploración de los datos\n",
    "<br>\n",
    "\n"
   ]
  },
  {
   "cell_type": "code",
   "execution_count": 1,
   "id": "1aed429b",
   "metadata": {},
   "outputs": [],
   "source": [
    "import pandas as pd\n",
    "\n",
    "datos = pd.read_csv(ruta_archivo) # cargar datos desde tabla en archivo csv\n",
    "datos.describe()                  # imprime resumen de los datos\n",
    "datos.columns                     # imprime lista de las columnas\n",
    "datos.head()                      # imprime lista de las 5 primeras muestras de la tabla\n",
    "\n",
    "datos_filtrados = datos.dropna(axis=0) # elimina datos na (no available - no disponibles)"
   ]
  },
  {
   "cell_type": "code",
   "execution_count": null,
   "id": "7508e4c1",
   "metadata": {},
   "outputs": [],
   "source": [
    "y = datos.Price             # elige la columna que deseamos estimar en nuestro modelo\n",
    "\n",
    "datos_features = ['Rooms', 'Bathroom','Lattitude', 'Longtitude'] # elegimos las columnas que se pasarán al modelo\n",
    "X = datos[datos_features]"
   ]
  },
  {
   "cell_type": "code",
   "execution_count": null,
   "id": "e62560f5",
   "metadata": {},
   "outputs": [],
   "source": [
    "train_X, val_X, train_y, val_y = train_test_split(X, y, random_state = 0)  # se separan los datos para entrenar y validar"
   ]
  },
  {
   "cell_type": "markdown",
   "id": "7499ce9e",
   "metadata": {},
   "source": [
    "## 2- Construir modelo"
   ]
  },
  {
   "cell_type": "markdown",
   "id": "0a199b64",
   "metadata": {},
   "source": [
    "Pasos:\n",
    "   * Escoger el tipo de modelo\n",
    "   * Ajustar el modelo (entrenamiento): capturando patrones en los datos proporcionados\n",
    "   * Predecir en nuevos datos\n",
    "   * Evaluar: para ver la precisión del modelo"
   ]
  },
  {
   "cell_type": "code",
   "execution_count": null,
   "id": "52b232e6",
   "metadata": {},
   "outputs": [],
   "source": [
    "from sklearn.tree import DecisionTreeRegressor  \n",
    "\n",
    "modelo = DecisionTreeRegressor(random_state=1)    # escogemos el modelo Árbol de decisión\n",
    "modelo.fit(train_X, train_y)                      # se entrena el modelo \n",
    "val_predicciones = modelo.predict(val_X)          # se hace predicción\n",
    "mean_absolute_error(val_y, val_predicciones)      # se evalua el modelo"
   ]
  }
 ],
 "metadata": {
  "kernelspec": {
   "display_name": "Python 3 (ipykernel)",
   "language": "python",
   "name": "python3"
  },
  "language_info": {
   "codemirror_mode": {
    "name": "ipython",
    "version": 3
   },
   "file_extension": ".py",
   "mimetype": "text/x-python",
   "name": "python",
   "nbconvert_exporter": "python",
   "pygments_lexer": "ipython3",
   "version": "3.8.10"
  }
 },
 "nbformat": 4,
 "nbformat_minor": 5
}
