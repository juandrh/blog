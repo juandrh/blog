{
 "cells": [
  {
   "cell_type": "markdown",
   "id": "7424bccd",
   "metadata": {},
   "source": [
    "# \"Machine learning\"\n",
    "> \"Guía de referencia rápidda de machine learning con Python\"\n",
    "\n",
    "- toc: true\n",
    "- branch: master\n",
    "- badges: true\n",
    "- comments: true\n",
    "- categories: [python]\n",
    "- image: images/python.png\n",
    "- hide: false\n",
    "- search_exclude: true\n",
    "- metadata_key1: metadata_value1\n",
    "- metadata_key2: metadata_value2"
   ]
  },
  {
   "cell_type": "markdown",
   "id": "f77efb9f",
   "metadata": {},
   "source": [
    "> tip: Puedes ver este post en GitHub o ejecutarlo en Binder o Google Colab, pulsa el icono."
   ]
  },
  {
   "cell_type": "markdown",
   "id": "3d5d3f3d",
   "metadata": {},
   "source": [
    "Fuentes:<br>\n",
    "[Intro to Machine Learning - Kaggle](https://www.kaggle.com/learn/intro-to-machine-learning)<br>\n"
   ]
  },
  {
   "cell_type": "markdown",
   "id": "3df811a4",
   "metadata": {},
   "source": [
    "## 1 - Recoger los datos"
   ]
  },
  {
   "cell_type": "markdown",
   "id": "aac7fbf8",
   "metadata": {},
   "source": [
    "## 2 - Preparar los datos"
   ]
  },
  {
   "cell_type": "markdown",
   "id": "6a7d829f",
   "metadata": {},
   "source": [
    "### 2.1 - Exploración de los datos"
   ]
  },
  {
   "cell_type": "code",
   "execution_count": null,
   "id": "1aed429b",
   "metadata": {},
   "outputs": [],
   "source": [
    "import pandas as pd\n",
    "\n",
    "datos = pd.read_csv(ruta_archivo) # cargar datos desde tabla en archivo csv\n",
    "datos.describe()                  # imprime resumen de los datos\n",
    "datos.columns                     # imprime lista de las columnas\n",
    "datos.head()                      # imprime lista de las 5 primeras muestras de la tabla\n",
    "\n",
    "datos_filtrados = datos.dropna(axis=0) # elimina datos na (no available - no disponibles)"
   ]
  },
  {
   "cell_type": "code",
   "execution_count": null,
   "id": "8b86b7b9",
   "metadata": {},
   "outputs": [],
   "source": [
    "# Eliminar filas sin datos destino, \n",
    "X_full.dropna(axis=0, subset=['SalePrice'], inplace=True)\n",
    "\n",
    "# elegir la columna que deseamos estimar en nuestro modelo\n",
    "y = X_full.SalePrice\n",
    "\n",
    "# elegir las columnas que se pasarán al modelo\n",
    "# opción 1: quitar la columna destino\n",
    "X_full.drop(['SalePrice'], axis=1, inplace=True)\n",
    "\n",
    "# opción 2: elegir sólo algunas columnas\n",
    "datos_features = ['Rooms', 'Bathroom','Lattitude', 'Longtitude'] \n",
    "X = datos[datos_features]"
   ]
  },
  {
   "cell_type": "markdown",
   "id": "2698eff8",
   "metadata": {},
   "source": [
    "### 2.2- Valores que faltan"
   ]
  },
  {
   "cell_type": "markdown",
   "id": "09042487",
   "metadata": {},
   "source": [
    "#### 2.2.1 - Eliminar columna\n",
    "Para el caso en falten la mayoría de datos de una variable. Sino se puede perder información importante."
   ]
  },
  {
   "cell_type": "code",
   "execution_count": null,
   "id": "a3c12ff8",
   "metadata": {},
   "outputs": [],
   "source": [
    "cols_with_missing = [col for col in X_train.columns\n",
    "                     if X_train[col].isnull().any()]       # recopilar columnas con valores que faltan\n",
    "\n",
    "# eliminar columnas con valores que faltan\n",
    "reduced_X_train = X_train.drop(cols_with_missing, axis=1)  \n",
    "reduced_X_valid = X_valid.drop(cols_with_missing, axis=1)"
   ]
  },
  {
   "cell_type": "markdown",
   "id": "e8c9183a",
   "metadata": {},
   "source": [
    "#### 2.2.2 - Imputación\n",
    "Rellenar los valores faltantes con otro valor, por ejemplo: la media."
   ]
  },
  {
   "cell_type": "code",
   "execution_count": null,
   "id": "f291c730",
   "metadata": {},
   "outputs": [],
   "source": [
    "from sklearn.impute import SimpleImputer\n",
    "\n",
    "# Imputación\n",
    "my_imputer = SimpleImputer()\n",
    "imputed_X_train = pd.DataFrame(my_imputer.fit_transform(X_train))\n",
    "imputed_X_valid = pd.DataFrame(my_imputer.transform(X_valid))\n",
    "\n",
    "# Imputación quitó los nombres de columnas, volver a ponerlos \n",
    "imputed_X_train.columns = X_train.columns\n",
    "imputed_X_valid.columns = X_valid.columns"
   ]
  },
  {
   "cell_type": "markdown",
   "id": "1594f032",
   "metadata": {},
   "source": [
    "#### 2.2.3 - Extensión de Imputación\n",
    "Añadiendo otra columna que informe si faltaba o no el valor."
   ]
  },
  {
   "cell_type": "code",
   "execution_count": null,
   "id": "a097e988",
   "metadata": {},
   "outputs": [],
   "source": [
    "# Hacer una copia para evitar cambiar los datos originales (al imputar) \n",
    "X_train_plus = X_train.copy()\n",
    "X_valid_plus = X_valid.copy()\n",
    "\n",
    "# Hacer nuevas columnas que indiquen lo que se imputará. \n",
    "for col in cols_with_missing:\n",
    "    X_train_plus[col + '_was_missing'] = X_train_plus[col].isnull()\n",
    "    X_valid_plus[col + '_was_missing'] = X_valid_plus[col].isnull()\n",
    "\n",
    "# Imputación\n",
    "my_imputer = SimpleImputer()\n",
    "imputed_X_train_plus = pd.DataFrame(my_imputer.fit_transform(X_train_plus))\n",
    "imputed_X_valid_plus = pd.DataFrame(my_imputer.transform(X_valid_plus))\n",
    "\n",
    "# Imputación quitó los nombres de columnas, volver a ponerlos \n",
    "imputed_X_train_plus.columns = X_train_plus.columns\n",
    "imputed_X_valid_plus.columns = X_valid_plus.columns\n"
   ]
  },
  {
   "cell_type": "code",
   "execution_count": null,
   "id": "e8b38652",
   "metadata": {},
   "outputs": [],
   "source": [
    "train_X, val_X, train_y, val_y = train_test_split(X, y, random_state = 0)  # se separan los datos para entrenar y validar"
   ]
  },
  {
   "cell_type": "markdown",
   "id": "7499ce9e",
   "metadata": {},
   "source": [
    "## 3- Seleccionar el modelo"
   ]
  },
  {
   "cell_type": "code",
   "execution_count": null,
   "id": "01ec544a",
   "metadata": {},
   "outputs": [],
   "source": [
    "from sklearn.tree import DecisionTreeRegressor  # RandomForestRegressor\n",
    "\n",
    "modelo = DecisionTreeRegressor(random_state=1)    # escogemos el modelo Árbol de decisión\n"
   ]
  },
  {
   "cell_type": "markdown",
   "id": "3d28642a",
   "metadata": {},
   "source": [
    "## 4- Entrenar el modelo"
   ]
  },
  {
   "cell_type": "code",
   "execution_count": null,
   "id": "b668efe1",
   "metadata": {},
   "outputs": [],
   "source": [
    "modelo.fit(train_X, train_y)                      # se entrena el modelo "
   ]
  },
  {
   "cell_type": "markdown",
   "id": "0c7a5e1e",
   "metadata": {},
   "source": [
    "## 5- Evaluar el modelo"
   ]
  },
  {
   "cell_type": "code",
   "execution_count": null,
   "id": "c35a839e",
   "metadata": {},
   "outputs": [],
   "source": [
    "val_predicciones = modelo.predict(val_X)          # se hace predicción\n",
    "mean_absolute_error(val_y, val_predicciones)      # se evalua el modelo"
   ]
  },
  {
   "cell_type": "markdown",
   "id": "4222c411",
   "metadata": {},
   "source": [
    "### Underfitting and Overfitting\n",
    "\n",
    "   * *Underfitting*: no encuentra bien patrones relevantes, no predice bien\n",
    "   * *Overfitting*:  se ajusta demasiado a los datos de entrenamiento, no generaliza bien"
   ]
  },
  {
   "cell_type": "markdown",
   "id": "34286ae4",
   "metadata": {},
   "source": [
    "## 6- Ajustar los parámetros"
   ]
  },
  {
   "cell_type": "markdown",
   "id": "d354d039",
   "metadata": {},
   "source": [
    "## 7- Generar la predicciones"
   ]
  },
  {
   "cell_type": "code",
   "execution_count": null,
   "id": "0ca17af3",
   "metadata": {},
   "outputs": [],
   "source": []
  }
 ],
 "metadata": {
  "kernelspec": {
   "display_name": "Python 3 (ipykernel)",
   "language": "python",
   "name": "python3"
  },
  "language_info": {
   "codemirror_mode": {
    "name": "ipython",
    "version": 3
   },
   "file_extension": ".py",
   "mimetype": "text/x-python",
   "name": "python",
   "nbconvert_exporter": "python",
   "pygments_lexer": "ipython3",
   "version": "3.8.10"
  }
 },
 "nbformat": 4,
 "nbformat_minor": 5
}
