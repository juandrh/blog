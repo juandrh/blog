{
 "cells": [
  {
   "cell_type": "raw",
   "id": "5cfb6da0",
   "metadata": {},
   "source": [
    "# \"Herramientas para aprendizaje automático\"\n",
    "> \"Framework para problemas de regresión en Python\"\n",
    "\n",
    "- toc: true\n",
    "- branch: master\n",
    "- badges: true\n",
    "- comments: true\n",
    "- categories: [python, kaggle, ML]\n",
    "- image: images/framework.jpg\n",
    "- hide: false\n",
    "- search_exclude: true\n",
    "- metadata_key1: metadata_value1\n",
    "- metadata_key2: metadata_value2"
   ]
  },
  {
   "cell_type": "markdown",
   "id": "0148a1e2",
   "metadata": {},
   "source": [
    "Basado en [Abhishek Thakur ML Framework](https://github.com/abhishekkrthakur/mlframework) y toda la ayuda proporcionada por él, [Alexis Cook](https://www.kaggle.com/alexisbcook), [Luca Massaron ](https://www.kaggle.com/lucamassaron) y muchos kagglers. Muchísimas gracias.\n",
    "\n",
    "Este marco ha sido implementado durante la [competición Kaggle '30 días de ML '](https://www.kaggle.com/c/30-days-of-ml) para ayudar en futuros proyectos de regresión. Como principiante en Machine Learning y en programación con Python, estoy seguro de que hay mucho espacio para mejorarlo (por ejemplo: agregar apilamiento, cambiar código a clases).\n",
    "\n",
    "Este marco se puede utilizar ejecutando el archivo run.sh en el terminal (sh run.sh). En este archivo, establece las variables globales y descomente el fragmento de código que desea ejecutar.\n",
    "\n",
    "Puedes descargarlo desde GitHub: [Regression Machine learning framework](https://github.com/juandrh/mlframework).\n"
   ]
  },
  {
   "cell_type": "code",
   "execution_count": null,
   "id": "b8dde668",
   "metadata": {},
   "outputs": [],
   "source": []
  },
  {
   "cell_type": "code",
   "execution_count": null,
   "id": "00895ac0",
   "metadata": {},
   "outputs": [],
   "source": []
  }
 ],
 "metadata": {
  "kernelspec": {
   "display_name": "Python 3 (ipykernel)",
   "language": "python",
   "name": "python3"
  },
  "language_info": {
   "codemirror_mode": {
    "name": "ipython",
    "version": 3
   },
   "file_extension": ".py",
   "mimetype": "text/x-python",
   "name": "python",
   "nbconvert_exporter": "python",
   "pygments_lexer": "ipython3",
   "version": "3.8.10"
  }
 },
 "nbformat": 4,
 "nbformat_minor": 5
}
