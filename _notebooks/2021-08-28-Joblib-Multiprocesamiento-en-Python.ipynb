{
 "cells": [
  {
   "cell_type": "markdown",
   "id": "7424bccd",
   "metadata": {},
   "source": [
    "# \"Joblib: multiprocesamiento y archivo de objetos en Python de forma fácil \"\n",
    "> \"Guía de uso de la librería\"\n",
    "\n",
    "- toc: true\n",
    "- branch: master\n",
    "- badges: true\n",
    "- comments: true\n",
    "- categories: [python, ML]\n",
    "- image: images/procesador.jpg\n",
    "- hide: false\n",
    "- search_exclude: true\n",
    "- metadata_key1: metadata_value1\n",
    "- metadata_key2: metadata_value2"
   ]
  },
  {
   "cell_type": "markdown",
   "id": "f77efb9f",
   "metadata": {},
   "source": [
    "> tip: Puedes ver este post en GitHub o ejecutarlo en Binder o Google Colab, pulsa el icono."
   ]
  },
  {
   "cell_type": "markdown",
   "id": "3d5d3f3d",
   "metadata": {},
   "source": [
    "Fuentes:<br>\n",
    "[joblib](https://pypi.org/project/joblib/)<br>\n"
   ]
  },
  {
   "cell_type": "markdown",
   "id": "a398792e",
   "metadata": {},
   "source": [
    "## Principales usos\n",
    "- Ejecución de funciones de forma paralela en distintos procesadores\n",
    "- Archivo de objetos en disco para su posterior uso\n",
    "- Archivo en disco del resultado de una función."
   ]
  },
  {
   "cell_type": "markdown",
   "id": "6fd6bf00",
   "metadata": {},
   "source": [
    "Instalar:  pip install joblib"
   ]
  },
  {
   "cell_type": "code",
   "execution_count": 91,
   "id": "e0e5817e",
   "metadata": {},
   "outputs": [],
   "source": [
    "### Ejecución de funciones de forma paralela en distintos procesadores\n"
   ]
  },
  {
   "cell_type": "code",
   "execution_count": 1,
   "id": "7857177c",
   "metadata": {},
   "outputs": [],
   "source": [
    "import time\n",
    "from joblib import Parallel, delayed"
   ]
  },
  {
   "cell_type": "code",
   "execution_count": 2,
   "id": "8fc8804e",
   "metadata": {},
   "outputs": [],
   "source": [
    "def funcion_ejemplo(x):\n",
    "    tiempo=time.perf_counter()\n",
    "    print(f\" Espera {x} segundo(s).\")\n",
    "    time.sleep(x)  \n",
    "    print(f\" Espera terminada.\")\n",
    "    return x"
   ]
  },
  {
   "cell_type": "markdown",
   "id": "5f4f4c9a",
   "metadata": {},
   "source": [
    "Si llamamos a la función varias veces se ejcutarán secuencialmente una tras otra."
   ]
  },
  {
   "cell_type": "code",
   "execution_count": 3,
   "id": "2f8e32c4",
   "metadata": {},
   "outputs": [
    {
     "name": "stdout",
     "output_type": "stream",
     "text": [
      " Espera 1 segundo(s).\n",
      " Espera terminada.\n",
      " Espera 1 segundo(s).\n",
      " Espera terminada.\n",
      " Espera 1 segundo(s).\n",
      " Espera terminada.\n",
      "Tiempo transcurrido 3.0 segundos\n"
     ]
    }
   ],
   "source": [
    "tiempo=time.perf_counter()\n",
    "funcion_ejemplo(1)\n",
    "funcion_ejemplo(1)\n",
    "funcion_ejemplo(1)\n",
    "print(f\"Tiempo transcurrido {round(time.perf_counter()-tiempo,2)} segundos\")"
   ]
  },
  {
   "cell_type": "markdown",
   "id": "ac09d583",
   "metadata": {},
   "source": [
    "Utilizando **joblib** podemos distribuir la ejecución entre los distintos procesadores de nuestro PC. "
   ]
  },
  {
   "cell_type": "code",
   "execution_count": 5,
   "id": "ebf292fc",
   "metadata": {},
   "outputs": [
    {
     "name": "stdout",
     "output_type": "stream",
     "text": [
      " Espera 1 segundo(s). Espera 1 segundo(s). Espera 1 segundo(s).\n",
      "\n",
      "\n",
      " Espera terminada. Espera terminada. Espera terminada.\n",
      "\n",
      "\n",
      "Tiempo transcurrido 1.05 segundos\n"
     ]
    }
   ],
   "source": [
    "tiempo=time.perf_counter()\n",
    "\n",
    "Parallel(n_jobs=3, backend=\"multiprocessing\")(delayed(funcion_ejemplo)(1) for i in range(3))\n",
    "\n",
    "print(f\"Tiempo transcurrido {round(time.perf_counter()-tiempo,2)} segundos\")"
   ]
  },
  {
   "cell_type": "markdown",
   "id": "4d7c6072",
   "metadata": {},
   "source": [
    "Para especificar el tipo de paralelización escoger para **backend** <br>\n",
    "- multiprocessing\n",
    "- threading"
   ]
  },
  {
   "cell_type": "markdown",
   "id": "39367355",
   "metadata": {},
   "source": [
    "### Archivo de objetos en disco para su posterior uso\n",
    "Almacena objetos de cualquier tipo de manera eficiente incluso los de gran tamaño."
   ]
  },
  {
   "cell_type": "code",
   "execution_count": 13,
   "id": "14093bc1",
   "metadata": {},
   "outputs": [],
   "source": [
    "import joblib"
   ]
  },
  {
   "cell_type": "code",
   "execution_count": 14,
   "id": "2689a942",
   "metadata": {},
   "outputs": [],
   "source": [
    "objeto_a_archivar = {1: 'lunes', 2: 'martes', 3: 'miércoles', 4: 'jueves', 5: 'viernes', 6: 'sábado', 7: 'domingo'}"
   ]
  },
  {
   "cell_type": "markdown",
   "id": "869e3ae4",
   "metadata": {},
   "source": [
    "Almacenar:"
   ]
  },
  {
   "cell_type": "code",
   "execution_count": 15,
   "id": "1be39c2a",
   "metadata": {},
   "outputs": [],
   "source": [
    "joblib.dump(objeto_a_archivar,\"nombre_archivo.obj\")  # usar cualquier extensión que se desee"
   ]
  },
  {
   "cell_type": "markdown",
   "id": "c5b998ad",
   "metadata": {},
   "source": [
    "Recuperar:"
   ]
  },
  {
   "cell_type": "code",
   "execution_count": 16,
   "id": "fac9a3d7",
   "metadata": {},
   "outputs": [],
   "source": [
    "objeto_recuperado = joblib.load (\"nombre_archivo.obj\")"
   ]
  },
  {
   "cell_type": "code",
   "execution_count": 17,
   "id": "7fc76435",
   "metadata": {},
   "outputs": [],
   "source": [
    "objeto_recuperado"
   ]
  },
  {
   "cell_type": "markdown",
   "id": "92699cbc",
   "metadata": {},
   "source": [
    "### Archivo en disco del resultado de una función"
   ]
  },
  {
   "cell_type": "markdown",
   "id": "7166ba07",
   "metadata": {},
   "source": [
    "Establecer el directorio donde se guardará. Creará una carpeta llamada 'joblib':"
   ]
  },
  {
   "cell_type": "code",
   "execution_count": 62,
   "id": "5654cfbf",
   "metadata": {},
   "outputs": [],
   "source": [
    "cachedir = '.'   #  '.' significa el mismo directorio, especificar el que se desee"
   ]
  },
  {
   "cell_type": "markdown",
   "id": "461132ac",
   "metadata": {},
   "source": [
    "Iniciar el contexto de memoria:"
   ]
  },
  {
   "cell_type": "code",
   "execution_count": 63,
   "id": "7fd24555",
   "metadata": {},
   "outputs": [],
   "source": [
    "from joblib import Memory  \n",
    "memoria = Memory(cachedir, verbose=0)"
   ]
  },
  {
   "cell_type": "code",
   "execution_count": 64,
   "id": "04ab0dba",
   "metadata": {},
   "outputs": [],
   "source": [
    "@memoria.cache\n",
    "def funcion(x):\n",
    "    tiempo=time.perf_counter()\n",
    "    print(f\" Espera {x} segundos\")\n",
    "    time.sleep(x)  \n",
    "    print(f\" He esperado {round(time.perf_counter()-tiempo,2)} segundos\")\n",
    "    return x\n",
    "    "
   ]
  },
  {
   "cell_type": "markdown",
   "id": "79f03164",
   "metadata": {},
   "source": [
    "La primera vez ejecuta la función y almacena en la caché el resultado"
   ]
  },
  {
   "cell_type": "code",
   "execution_count": 68,
   "id": "ac2838fc",
   "metadata": {},
   "outputs": [
    {
     "name": "stdout",
     "output_type": "stream",
     "text": [
      " Espera 3 segundos\n",
      " He esperado 3.0 segundos\n"
     ]
    },
    {
     "data": {
      "text/plain": [
       "3"
      ]
     },
     "execution_count": 68,
     "metadata": {},
     "output_type": "execute_result"
    }
   ],
   "source": [
    "funcion(3)"
   ]
  },
  {
   "cell_type": "markdown",
   "id": "ae70c997",
   "metadata": {},
   "source": [
    "Llamando a la función por segunda vez **con el mismo argumento** devuelve el resultado sin ejecutarla"
   ]
  },
  {
   "cell_type": "code",
   "execution_count": 70,
   "id": "8a45bf51",
   "metadata": {},
   "outputs": [
    {
     "data": {
      "text/plain": [
       "3"
      ]
     },
     "execution_count": 70,
     "metadata": {},
     "output_type": "execute_result"
    }
   ],
   "source": [
    "funcion(3)"
   ]
  },
  {
   "cell_type": "markdown",
   "id": "f828a170",
   "metadata": {},
   "source": [
    "Para borrar la memoria almacenada"
   ]
  },
  {
   "cell_type": "code",
   "execution_count": 71,
   "id": "930b5a3b",
   "metadata": {},
   "outputs": [
    {
     "name": "stderr",
     "output_type": "stream",
     "text": [
      "WARNING:root:[Memory(location=./joblib)]: Flushing completely the cache\n"
     ]
    }
   ],
   "source": [
    "memoria.clear()"
   ]
  },
  {
   "cell_type": "code",
   "execution_count": 72,
   "id": "206394f7",
   "metadata": {},
   "outputs": [
    {
     "name": "stdout",
     "output_type": "stream",
     "text": [
      " Espera 3 segundos\n",
      " He esperado 3.0 segundos\n"
     ]
    },
    {
     "data": {
      "text/plain": [
       "3"
      ]
     },
     "execution_count": 72,
     "metadata": {},
     "output_type": "execute_result"
    }
   ],
   "source": [
    "funcion(3)"
   ]
  },
  {
   "cell_type": "code",
   "execution_count": null,
   "id": "63a928de",
   "metadata": {},
   "outputs": [],
   "source": []
  }
 ],
 "metadata": {
  "kernelspec": {
   "display_name": "Python 3 (ipykernel)",
   "language": "python",
   "name": "python3"
  },
  "language_info": {
   "codemirror_mode": {
    "name": "ipython",
    "version": 3
   },
   "file_extension": ".py",
   "mimetype": "text/x-python",
   "name": "python",
   "nbconvert_exporter": "python",
   "pygments_lexer": "ipython3",
   "version": "3.8.10"
  }
 },
 "nbformat": 4,
 "nbformat_minor": 5
}
