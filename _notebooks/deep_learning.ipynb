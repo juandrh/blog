{
  "nbformat": 4,
  "nbformat_minor": 0,
  "metadata": {
    "colab": {
      "name": "deep_learning.ipynb",
      "provenance": [],
      "collapsed_sections": [],
      "authorship_tag": "ABX9TyMetjtlsPUf+FweV3uzqWLN",
      "include_colab_link": true
    },
    "kernelspec": {
      "name": "python3",
      "display_name": "Python 3"
    },
    "language_info": {
      "name": "python"
    }
  },
  "cells": [
    {
      "cell_type": "markdown",
      "metadata": {
        "id": "view-in-github",
        "colab_type": "text"
      },
      "source": [
        "<a href=\"https://colab.research.google.com/github/juandrh/blog/blob/master/_notebooks/deep_learning.ipynb\" target=\"_parent\"><img src=\"https://colab.research.google.com/assets/colab-badge.svg\" alt=\"Open In Colab\"/></a>"
      ]
    },
    {
      "cell_type": "markdown",
      "metadata": {
        "id": "NL8WGtVOhc_a"
      },
      "source": [
        "#Deep Learning"
      ]
    },
    {
      "cell_type": "markdown",
      "metadata": {
        "id": "eSqXBfb5h_A6"
      },
      "source": [
        "**Machine Learning** (aprendizaje automático) es la disciplina de programación en la que se obtienen resultados aprendiendo de los datos y no a través de escribir enteramente el código.  \n",
        "\n",
        "Este es el modelo básico:"
      ]
    },
    {
      "cell_type": "code",
      "metadata": {
        "id": "urp3zczumY4q"
      },
      "source": [
        "![Modelo](img/modelo.png)"
      ],
      "execution_count": null,
      "outputs": []
    },
    {
      "cell_type": "markdown",
      "metadata": {
        "id": "Ms81QW3Qhaw7"
      },
      "source": [
        "**Deep Learning** (aprendizaje profundo) forma parte de *Machine Learning* y se carateriza por usar *redes neuronales* artificiales con varias capas."
      ]
    },
    {
      "cell_type": "code",
      "metadata": {
        "id": "IFN5KydKkIsQ"
      },
      "source": [
        ""
      ],
      "execution_count": null,
      "outputs": []
    }
  ]
}