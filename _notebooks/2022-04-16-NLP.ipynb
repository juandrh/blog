{
 "cells": [
  {
   "cell_type": "markdown",
   "id": "42599432",
   "metadata": {},
   "source": [
    "# \"NLP\"\n",
    "> \"Procesamiento del lenguaje natural\"\n",
    "\n",
    "- toc: true\n",
    "- branch: master\n",
    "- badges: true\n",
    "- comments: true\n",
    "- categories: [python, NLP, ML]\n",
    "- image: images/framework.jpg\n",
    "- hide: false\n",
    "- search_exclude: true\n",
    "- metadata_key1: metadata_value1\n",
    "- metadata_key2: metadata_value2"
   ]
  },
  {
   "cell_type": "markdown",
   "id": "0148a1e2",
   "metadata": {},
   "source": [
    "Fuentes:\n",
    "[Coursera: Programa especializado: Procesamiento de lenguaje natural](https://www.coursera.org/specializations/natural-language-processing) "
   ]
  },
  {
   "cell_type": "markdown",
   "id": "aba460db",
   "metadata": {},
   "source": [
    "# Sentiment Analysis with Logistic Regression"
   ]
  },
  {
   "cell_type": "markdown",
   "id": "7e996931",
   "metadata": {},
   "source": [
    "## Supervised ML & Sentiment Analysis"
   ]
  },
  {
   "cell_type": "markdown",
   "id": "340cfef3",
   "metadata": {},
   "source": [
    "Logistic regression classifier: In supervised machine learning, you usually have an input X, which goes into your prediction function to get your Y'. You can then compare your prediction with the true value Y. This gives you your cost which you use to update the parameters θ. The following image, summarizes the process. "
   ]
  },
  {
   "cell_type": "code",
   "execution_count": null,
   "id": "743b2ff6",
   "metadata": {},
   "outputs": [],
   "source": [
    "![](images/nlp001.png)"
   ]
  },
  {
   "cell_type": "markdown",
   "id": "dfdcf519",
   "metadata": {},
   "source": [
    "Sentiment analysis on a tweet:\n",
    "- X -the text (i.e. \"I am happy because I am learning NLP \") as features\n",
    "- Train \n",
    "- Classify the text.\n",
    "\n",
    "Vocabulary = V\n",
    "Feature Extraction = 1 in the corresponding index for any word in the tweet, and a 0 otherwise. "
   ]
  }
 ],
 "metadata": {
  "kernelspec": {
   "display_name": "Python 3 (ipykernel)",
   "language": "python",
   "name": "python3"
  },
  "language_info": {
   "codemirror_mode": {
    "name": "ipython",
    "version": 3
   },
   "file_extension": ".py",
   "mimetype": "text/x-python",
   "name": "python",
   "nbconvert_exporter": "python",
   "pygments_lexer": "ipython3",
   "version": "3.9.7"
  }
 },
 "nbformat": 4,
 "nbformat_minor": 5
}
