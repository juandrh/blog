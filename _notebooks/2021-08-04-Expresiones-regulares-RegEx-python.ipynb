{
 "cells": [
  {
   "cell_type": "markdown",
   "id": "94555d29",
   "metadata": {},
   "source": [
    "# \"Expresiones regulares (RegEx) + Python\"\n",
    "> \"Conceptos básicos para iniciarse\"\n",
    "\n",
    "- toc: false\n",
    "- branch: master\n",
    "- badges: true\n",
    "- comments: true\n",
    "- categories: [curso_Fast.ai]\n",
    "- image: images/red2.png\n",
    "- hide: false\n",
    "- search_exclude: true\n",
    "- metadata_key1: metadata_value1\n",
    "- metadata_key2: metadata_value2"
   ]
  },
  {
   "cell_type": "markdown",
   "id": "f77efb9f",
   "metadata": {},
   "source": [
    "Nota: Puedes ejecutar este post en Google Colab o Binder o verlo en GitHub, pulsa el icono."
   ]
  },
  {
   "cell_type": "markdown",
   "id": "6a7d829f",
   "metadata": {},
   "source": [
    "## Conceptos básicos:\n"
   ]
  },
  {
   "cell_type": "markdown",
   "id": "3d79e955",
   "metadata": {},
   "source": [
    "**[Expresiones regulares (RegEx)](https://es.wikipedia.org/wiki/Expresi%C3%B3n_regular)** es un pequeño lenguaje que usa cadenas de caracteres para encontrar patrones o sustituir caracteres dentro de un texto. \n",
    "\n",
    "Están integrados en multitud de aplicaciones y lenguajes de programación facilitando enormemente el trabajo con textos.\n",
    "\n",
    "En [python](https://www.python.org/) tenemos el módulo [re](https://docs.python.org/3/library/re.html). Para usarlo introducimos lo siguiente:"
   ]
  },
  {
   "cell_type": "code",
   "execution_count": 1,
   "id": "9c0f4a13",
   "metadata": {},
   "outputs": [],
   "source": [
    "import re "
   ]
  },
  {
   "cell_type": "markdown",
   "id": "d4d847d3",
   "metadata": {},
   "source": [
    "Definimos un patrón y una cadena donde buscarlo:"
   ]
  },
  {
   "cell_type": "code",
   "execution_count": 2,
   "id": "b536d8c8",
   "metadata": {},
   "outputs": [],
   "source": [
    "patron=\"dos\"\n",
    "cadena = \"dos\""
   ]
  },
  {
   "cell_type": "markdown",
   "id": "05019cf4",
   "metadata": {},
   "source": [
    "Se crea un objeto *expresión regular* y se busca en la cadena de texto"
   ]
  },
  {
   "cell_type": "code",
   "execution_count": 3,
   "id": "860cde2e",
   "metadata": {},
   "outputs": [
    {
     "name": "stdout",
     "output_type": "stream",
     "text": [
      "<re.Match object; span=(0, 3), match='dos'>\n"
     ]
    }
   ],
   "source": [
    "re_object = re.compile(patron)\n",
    "print(re_object.search(cadena))"
   ]
  },
  {
   "cell_type": "markdown",
   "id": "171637ff",
   "metadata": {},
   "source": [
    "## r\n",
    "Sirve para manejar caracteres especiales (sólo en Python):<br><br>\n",
    "        - r\"\\n\" -> equivale a los caracteres \\ y n<br>\n",
    "        - \"\\n\"  -> equivale a salto de línea"
   ]
  },
  {
   "cell_type": "code",
   "execution_count": 4,
   "id": "b8913b8c",
   "metadata": {},
   "outputs": [
    {
     "name": "stdout",
     "output_type": "stream",
     "text": [
      "Aquí uso 'r' \\n\n",
      "\n",
      " Aquí no uso 'r' \n",
      " y tenemos  \n",
      " el salto\n"
     ]
    }
   ],
   "source": [
    "print (r\"Aquí uso 'r' \\n\")\n",
    "print (\"\\n Aquí no uso 'r' \\n y tenemos  \\n el salto\")"
   ]
  },
  {
   "cell_type": "markdown",
   "id": "4db099e5",
   "metadata": {},
   "source": [
    "A la hora de buscar patrones, tenemos diferentes metodos en re, entre los que destacan:<br>\n",
    "\n",
    "Método | Explicación\n",
    "------------ | -------------\n",
    "**match()** | busca el patrón al principio de la cadena\n",
    "**search()** | busca el patrón en cualquier parte de la cadena\n",
    "**findall()** | devuelve lista con las subcadena que encuentre\n",
    "**finditer()** | devuelve iterador con las subcadena que encuentre\n",
    "    \n",
    "\n"
   ]
  },
  {
   "cell_type": "markdown",
   "id": "3d623258",
   "metadata": {},
   "source": [
    "## Metacaracteres: \n",
    "\n",
    "**. ^ $ * + ? { } [ ] \\ | ( )\n",
    "\n",
    "Tienen un siginificado especial\n",
    "\n"
   ]
  },
  {
   "cell_type": "markdown",
   "id": "b408faad",
   "metadata": {},
   "source": [
    "## [  ]\n",
    "Especifica un conjunto de caracteres, en una lista o un rango (usando '-'). Los metacaracteres no tienen significado especial dentro.<br>\n",
    "Por ejemplo:<br>\n",
    "    -[A-Z] caracter comprendido entre la A y Z en mayúsculas.<br>\n",
    "    -[abc] cualquiera de éstos: a,b o c<br>\n",
    "        "
   ]
  },
  {
   "cell_type": "code",
   "execution_count": 88,
   "id": "8c486abb",
   "metadata": {},
   "outputs": [
    {
     "name": "stdout",
     "output_type": "stream",
     "text": [
      "['tila', 'tela']\n"
     ]
    }
   ],
   "source": [
    "patron = \"t[a-z]la\" \n",
    "cadena = \"tila tela tla\"\n",
    "re_object = re.compile(patron)\n",
    "print(re_object.findall(cadena))"
   ]
  },
  {
   "cell_type": "markdown",
   "id": "bdfa3879",
   "metadata": {},
   "source": [
    "## ^\n",
    "Complementario. Por ejemplo: ^t  cualquiera salvo 't'"
   ]
  },
  {
   "cell_type": "code",
   "execution_count": 95,
   "id": "b905c42c",
   "metadata": {},
   "outputs": [
    {
     "name": "stdout",
     "output_type": "stream",
     "text": [
      "['l', 'o', 'e', '4', ' ', '@']\n"
     ]
    }
   ],
   "source": [
    "patron = \"[^321t]\" \n",
    "cadena = \"lote1234 @\"\n",
    "re_object = re.compile(patron)\n",
    "print(re_object.findall(cadena))"
   ]
  },
  {
   "cell_type": "markdown",
   "id": "f7fbbb3b",
   "metadata": {},
   "source": [
    "## |\n",
    "Opcional, a elegir entre varios"
   ]
  },
  {
   "cell_type": "code",
   "execution_count": 86,
   "id": "d1000310",
   "metadata": {},
   "outputs": [
    {
     "name": "stdout",
     "output_type": "stream",
     "text": [
      "<re.Match object; span=(0, 3), match='per'>\n"
     ]
    }
   ],
   "source": [
    "patron = \"pe[rro|na|lea]\" \n",
    "cadena = \"perro\"\n",
    "re_object = re.compile(patron)\n",
    "print(re_object.search(cadena))"
   ]
  },
  {
   "cell_type": "markdown",
   "id": "16c72188",
   "metadata": {},
   "source": [
    "## **\\**"
   ]
  },
  {
   "cell_type": "markdown",
   "id": "c9b5dd31",
   "metadata": {},
   "source": [
    "Sirve para indicar formas especiales o para permitir el uso de caracteres especiales sin invocar su significado especial."
   ]
  },
  {
   "cell_type": "code",
   "execution_count": 6,
   "id": "8e83cc62",
   "metadata": {},
   "outputs": [
    {
     "name": "stdout",
     "output_type": "stream",
     "text": [
      "Un salto de línea: \n",
      "...continuación\n",
      "\n",
      "Anulamos el significado especial con otro '\\': \\n\n"
     ]
    }
   ],
   "source": [
    "print (\"Un salto de línea: \\n...continuación\\n\")\n",
    "print (\"Anulamos el significado especial con otro '\\\\': \\\\n\")"
   ]
  },
  {
   "cell_type": "markdown",
   "id": "481bffe9",
   "metadata": {},
   "source": [
    "Metacaracter | Explicación | Equivalencia\n",
    "------------ | ------------- | -------------\n",
    "**\\d** | cualquier dígito decimal | [0-9]    \n",
    "**\\D** | cualquier caracter no dígito decimal | [^0-9] \n",
    "**\\w** | cualquier caracter alfanumérico | [a-zA-Z0-9_]  \n",
    "**\\W** | cualquier caracter NO alfanumérico | [^a-zA-Z0-9_]   \n",
    "**\\s** | cualquier caracter espacio en blanco  |  [ \\t\\n\\r\\f\\v]   \n",
    "**\\S** |cualquier caracter NO espacio en blanco | [^ \\t\\n\\r\\f\\v] "
   ]
  },
  {
   "cell_type": "markdown",
   "id": "36a6e9c4",
   "metadata": {},
   "source": [
    "## . \n",
    "Cualquier carácter, salvo salto de línea. \n",
    "Alternativa: re.DOTALL (incluye salto de línea).\n",
    "\n",
    "Ejemplos:"
   ]
  },
  {
   "cell_type": "code",
   "execution_count": 104,
   "id": "7730d642",
   "metadata": {},
   "outputs": [
    {
     "data": {
      "text/plain": [
       "['1', '2', '3', '4']"
      ]
     },
     "execution_count": 104,
     "metadata": {},
     "output_type": "execute_result"
    }
   ],
   "source": [
    "cadena = \"lote1234 @\"\n",
    "\n",
    "re.findall(r'\\d', cadena)"
   ]
  },
  {
   "cell_type": "code",
   "execution_count": 105,
   "id": "e3018d3a",
   "metadata": {},
   "outputs": [
    {
     "data": {
      "text/plain": [
       "['l', 'o', 't', 'e', ' ', '@']"
      ]
     },
     "execution_count": 105,
     "metadata": {},
     "output_type": "execute_result"
    }
   ],
   "source": [
    "re.findall(r'\\D', cadena)"
   ]
  },
  {
   "cell_type": "code",
   "execution_count": 106,
   "id": "ab0c2c84",
   "metadata": {},
   "outputs": [
    {
     "data": {
      "text/plain": [
       "['l', 'o', 't', 'e', '1', '2', '3', '4']"
      ]
     },
     "execution_count": 106,
     "metadata": {},
     "output_type": "execute_result"
    }
   ],
   "source": [
    "re.findall(r'\\w', cadena)"
   ]
  },
  {
   "cell_type": "code",
   "execution_count": 107,
   "id": "2d374148",
   "metadata": {},
   "outputs": [
    {
     "data": {
      "text/plain": [
       "[' ', '@']"
      ]
     },
     "execution_count": 107,
     "metadata": {},
     "output_type": "execute_result"
    }
   ],
   "source": [
    "re.findall(r'\\W', cadena)"
   ]
  },
  {
   "cell_type": "code",
   "execution_count": 108,
   "id": "11370d5e",
   "metadata": {},
   "outputs": [
    {
     "data": {
      "text/plain": [
       "[' ']"
      ]
     },
     "execution_count": 108,
     "metadata": {},
     "output_type": "execute_result"
    }
   ],
   "source": [
    "re.findall(r'\\s', cadena)"
   ]
  },
  {
   "cell_type": "markdown",
   "id": "0434c89a",
   "metadata": {},
   "source": [
    "## (  )\n",
    "Extrae grupos de caracteres"
   ]
  },
  {
   "cell_type": "code",
   "execution_count": 141,
   "id": "f1b0b7e7",
   "metadata": {},
   "outputs": [
    {
     "data": {
      "text/plain": [
       "['archivo123']"
      ]
     },
     "execution_count": 141,
     "metadata": {},
     "output_type": "execute_result"
    }
   ],
   "source": [
    "cadena = \"archivo123.pdf\"\n",
    "re.findall(r'(archivo\\d*).pdf', cadena)"
   ]
  },
  {
   "cell_type": "markdown",
   "id": "654bcc7c",
   "metadata": {},
   "source": [
    "## Delimitadores:"
   ]
  },
  {
   "cell_type": "markdown",
   "id": "585e2380",
   "metadata": {},
   "source": [
    "Metacaracter | Explicación \n",
    "------------ | ------------- \n",
    "**^** **\\$** | inicio y fin de línea\n",
    "**\\A \\Z** | inicio y fin de texto\n",
    "**\\b** | inicio o fin de una palabra\n",
    "**\\B** | inicio o fin distinto de una palabra\n"
   ]
  },
  {
   "cell_type": "markdown",
   "id": "f693431d",
   "metadata": {},
   "source": [
    "## Repeticiones:"
   ]
  },
  {
   "cell_type": "markdown",
   "id": "7a79de2a",
   "metadata": {},
   "source": [
    "Metacaracter | Explicación \n",
    "------------ | ------------- \n",
    "* | 0 o más veces\n",
    "**+** | 1 o más veces\n",
    "**?** | 0 o 1 vez\n",
    "**{m,n}** | de m a n veces\n",
    "\n",
    "\n",
    "\n",
    "<br>Ejemplos:"
   ]
  },
  {
   "cell_type": "code",
   "execution_count": 5,
   "id": "1c2598ba",
   "metadata": {},
   "outputs": [
    {
     "data": {
      "text/plain": [
       "['csa', 'casa', 'caasa', 'caaasa']"
      ]
     },
     "execution_count": 5,
     "metadata": {},
     "output_type": "execute_result"
    }
   ],
   "source": [
    "cadena = \"csa casa caasa caaasa\"\n",
    "\n",
    "re.findall(r'ca*sa', cadena)"
   ]
  },
  {
   "cell_type": "code",
   "execution_count": 101,
   "id": "76531d94",
   "metadata": {},
   "outputs": [
    {
     "data": {
      "text/plain": [
       "['casa', 'caasa', 'caaasa']"
      ]
     },
     "execution_count": 101,
     "metadata": {},
     "output_type": "execute_result"
    }
   ],
   "source": [
    "re.findall(r'ca+sa', cadena)"
   ]
  },
  {
   "cell_type": "code",
   "execution_count": 102,
   "id": "fe8356ce",
   "metadata": {},
   "outputs": [
    {
     "data": {
      "text/plain": [
       "['csa', 'casa']"
      ]
     },
     "execution_count": 102,
     "metadata": {},
     "output_type": "execute_result"
    }
   ],
   "source": [
    "re.findall(r'ca?sa', cadena)"
   ]
  },
  {
   "cell_type": "code",
   "execution_count": 103,
   "id": "c1c3faef",
   "metadata": {},
   "outputs": [
    {
     "data": {
      "text/plain": [
       "['caasa', 'caaasa']"
      ]
     },
     "execution_count": 103,
     "metadata": {},
     "output_type": "execute_result"
    }
   ],
   "source": [
    "re.findall(r'ca{2,3}sa', cadena)"
   ]
  },
  {
   "cell_type": "markdown",
   "id": "f54a71ed",
   "metadata": {},
   "source": [
    "## Ejemplos útiles"
   ]
  },
  {
   "cell_type": "markdown",
   "id": "fe19a30e",
   "metadata": {},
   "source": [
    "### Correo electrónico"
   ]
  },
  {
   "cell_type": "code",
   "execution_count": 13,
   "id": "e9b02692",
   "metadata": {},
   "outputs": [
    {
     "data": {
      "text/plain": [
       "['usuario@empresa.es']"
      ]
     },
     "execution_count": 13,
     "metadata": {},
     "output_type": "execute_result"
    }
   ],
   "source": [
    "cadena = \"usuario@empresa.es\"\n",
    "re.findall(r'\\b[\\w._%+-]+@[\\w.-]+\\.[a-zA-Z]{2,4}\\b', cadena)"
   ]
  },
  {
   "cell_type": "markdown",
   "id": "230194fe",
   "metadata": {},
   "source": [
    "### Seleccionar archivos de un tipo"
   ]
  },
  {
   "cell_type": "code",
   "execution_count": 37,
   "id": "751eca78",
   "metadata": {},
   "outputs": [
    {
     "data": {
      "text/plain": [
       "['foto123.j', 'foto32.p', 'imagen.g']"
      ]
     },
     "execution_count": 37,
     "metadata": {},
     "output_type": "execute_result"
    }
   ],
   "source": [
    "cadena = \"foto123.jpg foto32.png texto.doc imagen.gif\"\n",
    "re.findall(r'([\\w]+\\.[jpg|jpeg|png|gif])', cadena)"
   ]
  },
  {
   "cell_type": "code",
   "execution_count": null,
   "id": "057c2d84",
   "metadata": {},
   "outputs": [],
   "source": []
  }
 ],
 "metadata": {
  "kernelspec": {
   "display_name": "Python 3 (ipykernel)",
   "language": "python",
   "name": "python3"
  },
  "language_info": {
   "codemirror_mode": {
    "name": "ipython",
    "version": 3
   },
   "file_extension": ".py",
   "mimetype": "text/x-python",
   "name": "python",
   "nbconvert_exporter": "python",
   "pygments_lexer": "ipython3",
   "version": "3.8.10"
  }
 },
 "nbformat": 4,
 "nbformat_minor": 5
}
